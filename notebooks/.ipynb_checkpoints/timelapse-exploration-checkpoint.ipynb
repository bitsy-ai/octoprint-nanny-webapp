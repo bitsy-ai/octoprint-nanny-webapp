{
 "cells": [
  {
   "cell_type": "code",
   "execution_count": 1,
   "metadata": {},
   "outputs": [],
   "source": [
    "import imageio\n",
    "from print_nanny_webapp.utils.predictor import ThreadLocalPredictor, predict_events_to_dataframe\n",
    "import pandas as pd\n",
    "import tensorflow as tf\n",
    "import numpy as np\n",
    "import tempfile\n",
    "from celery import chord, chain\n",
    "\n",
    "from print_nanny_webapp.alerts.tasks import prediction_dicts_to_dataframe, predict_postprocess_frame, calc_metrics"
   ]
  },
  {
   "cell_type": "code",
   "execution_count": 2,
   "metadata": {},
   "outputs": [
    {
     "data": {
      "text/html": [
       "<div>\n",
       "<style scoped>\n",
       "    .dataframe tbody tr th:only-of-type {\n",
       "        vertical-align: middle;\n",
       "    }\n",
       "\n",
       "    .dataframe tbody tr th {\n",
       "        vertical-align: top;\n",
       "    }\n",
       "\n",
       "    .dataframe thead th {\n",
       "        text-align: right;\n",
       "    }\n",
       "</style>\n",
       "<table border=\"1\" class=\"dataframe\">\n",
       "  <thead>\n",
       "    <tr style=\"text-align: right;\">\n",
       "      <th></th>\n",
       "      <th>detection_boxes</th>\n",
       "      <th>detection_classes</th>\n",
       "      <th>detection_scores</th>\n",
       "      <th>num_detections</th>\n",
       "    </tr>\n",
       "    <tr>\n",
       "      <th>id</th>\n",
       "      <th></th>\n",
       "      <th></th>\n",
       "      <th></th>\n",
       "      <th></th>\n",
       "    </tr>\n",
       "  </thead>\n",
       "  <tbody>\n",
       "    <tr>\n",
       "      <th>0</th>\n",
       "      <td>[[0.45823687, 0.59046566, 0.4821356, 0.6149084...</td>\n",
       "      <td>[1, 1, 1, 5, 1, 1, 5, 1, 1, 5, 1, 4, 1, 5, 5, ...</td>\n",
       "      <td>[0.4609375, 0.171875, 0.12890625, 0.0625, 0.04...</td>\n",
       "      <td>40.0</td>\n",
       "    </tr>\n",
       "    <tr>\n",
       "      <th>1</th>\n",
       "      <td>[[0.48223186, 0.84138817, 0.6471373, 0.9972691...</td>\n",
       "      <td>[5, 3, 5, 3, 3, 5, 1, 1, 4, 4, 4, 4, 3, 5, 5, ...</td>\n",
       "      <td>[0.3125, 0.1484375, 0.12890625, 0.09765625, 0....</td>\n",
       "      <td>40.0</td>\n",
       "    </tr>\n",
       "    <tr>\n",
       "      <th>2</th>\n",
       "      <td>[[0.51865387, 0.45078614, 0.55876267, 0.483172...</td>\n",
       "      <td>[1, 5, 5, 5, 4, 5, 5, 1, 5, 5, 1, 4, 1, 5, 1, ...</td>\n",
       "      <td>[0.75, 0.4609375, 0.34765625, 0.12890625, 0.07...</td>\n",
       "      <td>40.0</td>\n",
       "    </tr>\n",
       "    <tr>\n",
       "      <th>3</th>\n",
       "      <td>[[0.5182006, 0.45123178, 0.5565435, 0.48219222...</td>\n",
       "      <td>[1, 5, 5, 5, 1, 4, 1, 5, 5, 4, 5, 1, 5, 4, 1, ...</td>\n",
       "      <td>[0.71875, 0.4609375, 0.25, 0.09765625, 0.09765...</td>\n",
       "      <td>40.0</td>\n",
       "    </tr>\n",
       "    <tr>\n",
       "      <th>4</th>\n",
       "      <td>[[0.5202146, 0.4506033, 0.5598745, 0.4812172],...</td>\n",
       "      <td>[1, 4, 5, 4, 5, 1, 1, 5, 4, 5, 1, 4, 1, 1, 5, ...</td>\n",
       "      <td>[0.75, 0.4609375, 0.09765625, 0.09765625, 0.08...</td>\n",
       "      <td>40.0</td>\n",
       "    </tr>\n",
       "    <tr>\n",
       "      <th>...</th>\n",
       "      <td>...</td>\n",
       "      <td>...</td>\n",
       "      <td>...</td>\n",
       "      <td>...</td>\n",
       "    </tr>\n",
       "    <tr>\n",
       "      <th>278</th>\n",
       "      <td>[[0.54678464, 0.22103597, 0.9956572, 0.6905802...</td>\n",
       "      <td>[3, 4, 1, 3, 3, 4, 4, 3, 3, 1, 1, 4, 3, 4, 4, ...</td>\n",
       "      <td>[0.8515625, 0.8046875, 0.578125, 0.0625, 0.039...</td>\n",
       "      <td>40.0</td>\n",
       "    </tr>\n",
       "    <tr>\n",
       "      <th>279</th>\n",
       "      <td>[[0.5363299, 0.21297379, 0.99542195, 0.6772625...</td>\n",
       "      <td>[3, 4, 1, 3, 4, 3, 4, 3, 3, 4, 3, 3, 3, 3, 4, ...</td>\n",
       "      <td>[0.8046875, 0.75, 0.3828125, 0.046875, 0.04687...</td>\n",
       "      <td>40.0</td>\n",
       "    </tr>\n",
       "    <tr>\n",
       "      <th>280</th>\n",
       "      <td>[[0.54395175, 0.21836348, 0.9878001, 0.6879077...</td>\n",
       "      <td>[3, 4, 1, 3, 4, 4, 3, 3, 4, 3, 3, 3, 4, 1, 5, ...</td>\n",
       "      <td>[0.8046875, 0.71875, 0.421875, 0.07421875, 0.0...</td>\n",
       "      <td>40.0</td>\n",
       "    </tr>\n",
       "    <tr>\n",
       "      <th>281</th>\n",
       "      <td>[[0.5491082, 0.21824461, 0.98798865, 0.6773366...</td>\n",
       "      <td>[3, 4, 1, 3, 3, 4, 4, 3, 3, 3, 4, 3, 5, 4, 1, ...</td>\n",
       "      <td>[0.8046875, 0.71875, 0.34765625, 0.07421875, 0...</td>\n",
       "      <td>40.0</td>\n",
       "    </tr>\n",
       "    <tr>\n",
       "      <th>282</th>\n",
       "      <td>[[0.5681636, 0.22477008, 0.99109477, 0.6721862...</td>\n",
       "      <td>[3, 4, 1, 3, 4, 3, 3, 3, 3, 3, 3, 3, 4, 4, 3, ...</td>\n",
       "      <td>[0.78125, 0.75, 0.1953125, 0.0546875, 0.046875...</td>\n",
       "      <td>40.0</td>\n",
       "    </tr>\n",
       "  </tbody>\n",
       "</table>\n",
       "<p>283 rows × 4 columns</p>\n",
       "</div>"
      ],
      "text/plain": [
       "                                       detection_boxes  \\\n",
       "id                                                       \n",
       "0    [[0.45823687, 0.59046566, 0.4821356, 0.6149084...   \n",
       "1    [[0.48223186, 0.84138817, 0.6471373, 0.9972691...   \n",
       "2    [[0.51865387, 0.45078614, 0.55876267, 0.483172...   \n",
       "3    [[0.5182006, 0.45123178, 0.5565435, 0.48219222...   \n",
       "4    [[0.5202146, 0.4506033, 0.5598745, 0.4812172],...   \n",
       "..                                                 ...   \n",
       "278  [[0.54678464, 0.22103597, 0.9956572, 0.6905802...   \n",
       "279  [[0.5363299, 0.21297379, 0.99542195, 0.6772625...   \n",
       "280  [[0.54395175, 0.21836348, 0.9878001, 0.6879077...   \n",
       "281  [[0.5491082, 0.21824461, 0.98798865, 0.6773366...   \n",
       "282  [[0.5681636, 0.22477008, 0.99109477, 0.6721862...   \n",
       "\n",
       "                                     detection_classes  \\\n",
       "id                                                       \n",
       "0    [1, 1, 1, 5, 1, 1, 5, 1, 1, 5, 1, 4, 1, 5, 5, ...   \n",
       "1    [5, 3, 5, 3, 3, 5, 1, 1, 4, 4, 4, 4, 3, 5, 5, ...   \n",
       "2    [1, 5, 5, 5, 4, 5, 5, 1, 5, 5, 1, 4, 1, 5, 1, ...   \n",
       "3    [1, 5, 5, 5, 1, 4, 1, 5, 5, 4, 5, 1, 5, 4, 1, ...   \n",
       "4    [1, 4, 5, 4, 5, 1, 1, 5, 4, 5, 1, 4, 1, 1, 5, ...   \n",
       "..                                                 ...   \n",
       "278  [3, 4, 1, 3, 3, 4, 4, 3, 3, 1, 1, 4, 3, 4, 4, ...   \n",
       "279  [3, 4, 1, 3, 4, 3, 4, 3, 3, 4, 3, 3, 3, 3, 4, ...   \n",
       "280  [3, 4, 1, 3, 4, 4, 3, 3, 4, 3, 3, 3, 4, 1, 5, ...   \n",
       "281  [3, 4, 1, 3, 3, 4, 4, 3, 3, 3, 4, 3, 5, 4, 1, ...   \n",
       "282  [3, 4, 1, 3, 4, 3, 3, 3, 3, 3, 3, 3, 4, 4, 3, ...   \n",
       "\n",
       "                                      detection_scores  num_detections  \n",
       "id                                                                      \n",
       "0    [0.4609375, 0.171875, 0.12890625, 0.0625, 0.04...            40.0  \n",
       "1    [0.3125, 0.1484375, 0.12890625, 0.09765625, 0....            40.0  \n",
       "2    [0.75, 0.4609375, 0.34765625, 0.12890625, 0.07...            40.0  \n",
       "3    [0.71875, 0.4609375, 0.25, 0.09765625, 0.09765...            40.0  \n",
       "4    [0.75, 0.4609375, 0.09765625, 0.09765625, 0.08...            40.0  \n",
       "..                                                 ...             ...  \n",
       "278  [0.8515625, 0.8046875, 0.578125, 0.0625, 0.039...            40.0  \n",
       "279  [0.8046875, 0.75, 0.3828125, 0.046875, 0.04687...            40.0  \n",
       "280  [0.8046875, 0.71875, 0.421875, 0.07421875, 0.0...            40.0  \n",
       "281  [0.8046875, 0.71875, 0.34765625, 0.07421875, 0...            40.0  \n",
       "282  [0.78125, 0.75, 0.1953125, 0.0546875, 0.046875...            40.0  \n",
       "\n",
       "[283 rows x 4 columns]"
      ]
     },
     "execution_count": 2,
     "metadata": {},
     "output_type": "execute_result"
    }
   ],
   "source": [
    "reader = imageio.get_reader('/app/data/-0-0uBnUSnc.mp4')\n",
    "\n",
    "\n",
    "\n",
    "CHUNKS=10\n",
    "temp_dir = tempfile.mkdtemp()\n",
    "grouped = predict_postprocess_frame.chunks( \n",
    "    ((i, frame, temp_dir) for i, frame in enumerate(reader))\n",
    "    , CHUNKS).group() \n",
    "    \n",
    "\n",
    "chord1 = chord(grouped, prediction_dicts_to_dataframe.s())\n",
    "df = chord1().get()\n",
    "df"
   ]
  },
  {
   "cell_type": "code",
   "execution_count": 3,
   "metadata": {
    "scrolled": true
   },
   "outputs": [
    {
     "data": {
      "text/html": [
       "<div>\n",
       "<style scoped>\n",
       "    .dataframe tbody tr th:only-of-type {\n",
       "        vertical-align: middle;\n",
       "    }\n",
       "\n",
       "    .dataframe tbody tr th {\n",
       "        vertical-align: top;\n",
       "    }\n",
       "\n",
       "    .dataframe thead th {\n",
       "        text-align: right;\n",
       "    }\n",
       "</style>\n",
       "<table border=\"1\" class=\"dataframe\">\n",
       "  <thead>\n",
       "    <tr style=\"text-align: right;\">\n",
       "      <th></th>\n",
       "      <th></th>\n",
       "      <th>detection_classes</th>\n",
       "      <th>detection_scores</th>\n",
       "      <th>timecode</th>\n",
       "    </tr>\n",
       "    <tr>\n",
       "      <th>frame_id</th>\n",
       "      <th>label</th>\n",
       "      <th></th>\n",
       "      <th></th>\n",
       "      <th></th>\n",
       "    </tr>\n",
       "  </thead>\n",
       "  <tbody>\n",
       "    <tr>\n",
       "      <th rowspan=\"5\" valign=\"top\">0</th>\n",
       "      <th>nozzle</th>\n",
       "      <td>1</td>\n",
       "      <td>0.460938</td>\n",
       "      <td>00:00:00:00</td>\n",
       "    </tr>\n",
       "    <tr>\n",
       "      <th>nozzle</th>\n",
       "      <td>1</td>\n",
       "      <td>0.171875</td>\n",
       "      <td>00:00:00:00</td>\n",
       "    </tr>\n",
       "    <tr>\n",
       "      <th>nozzle</th>\n",
       "      <td>1</td>\n",
       "      <td>0.128906</td>\n",
       "      <td>00:00:00:00</td>\n",
       "    </tr>\n",
       "    <tr>\n",
       "      <th>raft</th>\n",
       "      <td>5</td>\n",
       "      <td>0.0625</td>\n",
       "      <td>00:00:00:00</td>\n",
       "    </tr>\n",
       "    <tr>\n",
       "      <th>nozzle</th>\n",
       "      <td>1</td>\n",
       "      <td>0.046875</td>\n",
       "      <td>00:00:00:00</td>\n",
       "    </tr>\n",
       "    <tr>\n",
       "      <th>...</th>\n",
       "      <th>...</th>\n",
       "      <td>...</td>\n",
       "      <td>...</td>\n",
       "      <td>...</td>\n",
       "    </tr>\n",
       "    <tr>\n",
       "      <th rowspan=\"5\" valign=\"top\">282</th>\n",
       "      <th>print</th>\n",
       "      <td>4</td>\n",
       "      <td>0.0078125</td>\n",
       "      <td>00:00:11:07</td>\n",
       "    </tr>\n",
       "    <tr>\n",
       "      <th>nozzle</th>\n",
       "      <td>1</td>\n",
       "      <td>0.0078125</td>\n",
       "      <td>00:00:11:07</td>\n",
       "    </tr>\n",
       "    <tr>\n",
       "      <th>spaghetti</th>\n",
       "      <td>3</td>\n",
       "      <td>0.0078125</td>\n",
       "      <td>00:00:11:07</td>\n",
       "    </tr>\n",
       "    <tr>\n",
       "      <th>spaghetti</th>\n",
       "      <td>3</td>\n",
       "      <td>0.0078125</td>\n",
       "      <td>00:00:11:07</td>\n",
       "    </tr>\n",
       "    <tr>\n",
       "      <th>spaghetti</th>\n",
       "      <td>3</td>\n",
       "      <td>0.0078125</td>\n",
       "      <td>00:00:11:07</td>\n",
       "    </tr>\n",
       "  </tbody>\n",
       "</table>\n",
       "<p>11320 rows × 3 columns</p>\n",
       "</div>"
      ],
      "text/plain": [
       "                   detection_classes detection_scores     timecode\n",
       "frame_id label                                                    \n",
       "0        nozzle                    1         0.460938  00:00:00:00\n",
       "         nozzle                    1         0.171875  00:00:00:00\n",
       "         nozzle                    1         0.128906  00:00:00:00\n",
       "         raft                      5           0.0625  00:00:00:00\n",
       "         nozzle                    1         0.046875  00:00:00:00\n",
       "...                              ...              ...          ...\n",
       "282      print                     4        0.0078125  00:00:11:07\n",
       "         nozzle                    1        0.0078125  00:00:11:07\n",
       "         spaghetti                 3        0.0078125  00:00:11:07\n",
       "         spaghetti                 3        0.0078125  00:00:11:07\n",
       "         spaghetti                 3        0.0078125  00:00:11:07\n",
       "\n",
       "[11320 rows x 3 columns]"
      ]
     },
     "execution_count": 3,
     "metadata": {},
     "output_type": "execute_result"
    }
   ],
   "source": [
    "\n",
    "framerate = reader.get_meta_data()['fps']\n",
    "\n",
    "\n",
    "multi_df, fail_df, confident_df = calc_metrics(df, framerate)\n",
    "\n",
    "\n",
    "multi_df\n"
   ]
  },
  {
   "cell_type": "code",
   "execution_count": 4,
   "metadata": {},
   "outputs": [],
   "source": [
    "# from print_nanny_webapp.alerts.tasks import plot_timelapse_graphs\n",
    "# plot_timelapse_graphs(df, framerate, 1, '/tmp/')"
   ]
  },
  {
   "cell_type": "code",
   "execution_count": 5,
   "metadata": {},
   "outputs": [
    {
     "data": {
      "text/html": [
       "<div>\n",
       "<style scoped>\n",
       "    .dataframe tbody tr th:only-of-type {\n",
       "        vertical-align: middle;\n",
       "    }\n",
       "\n",
       "    .dataframe tbody tr th {\n",
       "        vertical-align: top;\n",
       "    }\n",
       "\n",
       "    .dataframe thead th {\n",
       "        text-align: right;\n",
       "    }\n",
       "</style>\n",
       "<table border=\"1\" class=\"dataframe\">\n",
       "  <thead>\n",
       "    <tr style=\"text-align: right;\">\n",
       "      <th></th>\n",
       "      <th></th>\n",
       "      <th>detection_classes</th>\n",
       "      <th>detection_scores</th>\n",
       "      <th>timecode</th>\n",
       "    </tr>\n",
       "    <tr>\n",
       "      <th>frame_id</th>\n",
       "      <th>label</th>\n",
       "      <th></th>\n",
       "      <th></th>\n",
       "      <th></th>\n",
       "    </tr>\n",
       "  </thead>\n",
       "  <tbody>\n",
       "    <tr>\n",
       "      <th>147</th>\n",
       "      <th>spaghetti</th>\n",
       "      <td>3</td>\n",
       "      <td>0.617188</td>\n",
       "      <td>00:00:05:22</td>\n",
       "    </tr>\n",
       "    <tr>\n",
       "      <th rowspan=\"2\" valign=\"top\">149</th>\n",
       "      <th>spaghetti</th>\n",
       "      <td>3</td>\n",
       "      <td>0.71875</td>\n",
       "      <td>00:00:05:24</td>\n",
       "    </tr>\n",
       "    <tr>\n",
       "      <th>adhesion</th>\n",
       "      <td>2</td>\n",
       "      <td>0.617188</td>\n",
       "      <td>00:00:05:24</td>\n",
       "    </tr>\n",
       "    <tr>\n",
       "      <th rowspan=\"2\" valign=\"top\">150</th>\n",
       "      <th>spaghetti</th>\n",
       "      <td>3</td>\n",
       "      <td>0.871094</td>\n",
       "      <td>00:00:06:00</td>\n",
       "    </tr>\n",
       "    <tr>\n",
       "      <th>adhesion</th>\n",
       "      <td>2</td>\n",
       "      <td>0.6875</td>\n",
       "      <td>00:00:06:00</td>\n",
       "    </tr>\n",
       "    <tr>\n",
       "      <th>...</th>\n",
       "      <th>...</th>\n",
       "      <td>...</td>\n",
       "      <td>...</td>\n",
       "      <td>...</td>\n",
       "    </tr>\n",
       "    <tr>\n",
       "      <th>278</th>\n",
       "      <th>spaghetti</th>\n",
       "      <td>3</td>\n",
       "      <td>0.851562</td>\n",
       "      <td>00:00:11:03</td>\n",
       "    </tr>\n",
       "    <tr>\n",
       "      <th>279</th>\n",
       "      <th>spaghetti</th>\n",
       "      <td>3</td>\n",
       "      <td>0.804688</td>\n",
       "      <td>00:00:11:04</td>\n",
       "    </tr>\n",
       "    <tr>\n",
       "      <th>280</th>\n",
       "      <th>spaghetti</th>\n",
       "      <td>3</td>\n",
       "      <td>0.804688</td>\n",
       "      <td>00:00:11:05</td>\n",
       "    </tr>\n",
       "    <tr>\n",
       "      <th>281</th>\n",
       "      <th>spaghetti</th>\n",
       "      <td>3</td>\n",
       "      <td>0.804688</td>\n",
       "      <td>00:00:11:06</td>\n",
       "    </tr>\n",
       "    <tr>\n",
       "      <th>282</th>\n",
       "      <th>spaghetti</th>\n",
       "      <td>3</td>\n",
       "      <td>0.78125</td>\n",
       "      <td>00:00:11:07</td>\n",
       "    </tr>\n",
       "  </tbody>\n",
       "</table>\n",
       "<p>188 rows × 3 columns</p>\n",
       "</div>"
      ],
      "text/plain": [
       "                   detection_classes detection_scores     timecode\n",
       "frame_id label                                                    \n",
       "147      spaghetti                 3         0.617188  00:00:05:22\n",
       "149      spaghetti                 3          0.71875  00:00:05:24\n",
       "         adhesion                  2         0.617188  00:00:05:24\n",
       "150      spaghetti                 3         0.871094  00:00:06:00\n",
       "         adhesion                  2           0.6875  00:00:06:00\n",
       "...                              ...              ...          ...\n",
       "278      spaghetti                 3         0.851562  00:00:11:03\n",
       "279      spaghetti                 3         0.804688  00:00:11:04\n",
       "280      spaghetti                 3         0.804688  00:00:11:05\n",
       "281      spaghetti                 3         0.804688  00:00:11:06\n",
       "282      spaghetti                 3          0.78125  00:00:11:07\n",
       "\n",
       "[188 rows x 3 columns]"
      ]
     },
     "execution_count": 5,
     "metadata": {},
     "output_type": "execute_result"
    }
   ],
   "source": [
    "fail_df\n"
   ]
  },
  {
   "cell_type": "code",
   "execution_count": 6,
   "metadata": {},
   "outputs": [
    {
     "data": {
      "text/html": [
       "<div>\n",
       "<style scoped>\n",
       "    .dataframe tbody tr th:only-of-type {\n",
       "        vertical-align: middle;\n",
       "    }\n",
       "\n",
       "    .dataframe tbody tr th {\n",
       "        vertical-align: top;\n",
       "    }\n",
       "\n",
       "    .dataframe thead th {\n",
       "        text-align: right;\n",
       "    }\n",
       "</style>\n",
       "<table border=\"1\" class=\"dataframe\">\n",
       "  <thead>\n",
       "    <tr style=\"text-align: right;\">\n",
       "      <th></th>\n",
       "      <th></th>\n",
       "      <th>detection_classes</th>\n",
       "      <th>detection_scores</th>\n",
       "      <th>timecode</th>\n",
       "    </tr>\n",
       "    <tr>\n",
       "      <th>frame_id</th>\n",
       "      <th>label</th>\n",
       "      <th></th>\n",
       "      <th></th>\n",
       "      <th></th>\n",
       "    </tr>\n",
       "  </thead>\n",
       "  <tbody>\n",
       "    <tr>\n",
       "      <th>2</th>\n",
       "      <th>nozzle</th>\n",
       "      <td>1</td>\n",
       "      <td>0.75</td>\n",
       "      <td>00:00:00:02</td>\n",
       "    </tr>\n",
       "    <tr>\n",
       "      <th>3</th>\n",
       "      <th>nozzle</th>\n",
       "      <td>1</td>\n",
       "      <td>0.71875</td>\n",
       "      <td>00:00:00:03</td>\n",
       "    </tr>\n",
       "    <tr>\n",
       "      <th>4</th>\n",
       "      <th>nozzle</th>\n",
       "      <td>1</td>\n",
       "      <td>0.75</td>\n",
       "      <td>00:00:00:04</td>\n",
       "    </tr>\n",
       "    <tr>\n",
       "      <th rowspan=\"2\" valign=\"top\">5</th>\n",
       "      <th>nozzle</th>\n",
       "      <td>1</td>\n",
       "      <td>0.71875</td>\n",
       "      <td>00:00:00:05</td>\n",
       "    </tr>\n",
       "    <tr>\n",
       "      <th>print</th>\n",
       "      <td>4</td>\n",
       "      <td>0.539062</td>\n",
       "      <td>00:00:00:05</td>\n",
       "    </tr>\n",
       "    <tr>\n",
       "      <th>...</th>\n",
       "      <th>...</th>\n",
       "      <td>...</td>\n",
       "      <td>...</td>\n",
       "      <td>...</td>\n",
       "    </tr>\n",
       "    <tr>\n",
       "      <th>280</th>\n",
       "      <th>print</th>\n",
       "      <td>4</td>\n",
       "      <td>0.71875</td>\n",
       "      <td>00:00:11:05</td>\n",
       "    </tr>\n",
       "    <tr>\n",
       "      <th rowspan=\"2\" valign=\"top\">281</th>\n",
       "      <th>spaghetti</th>\n",
       "      <td>3</td>\n",
       "      <td>0.804688</td>\n",
       "      <td>00:00:11:06</td>\n",
       "    </tr>\n",
       "    <tr>\n",
       "      <th>print</th>\n",
       "      <td>4</td>\n",
       "      <td>0.71875</td>\n",
       "      <td>00:00:11:06</td>\n",
       "    </tr>\n",
       "    <tr>\n",
       "      <th rowspan=\"2\" valign=\"top\">282</th>\n",
       "      <th>spaghetti</th>\n",
       "      <td>3</td>\n",
       "      <td>0.78125</td>\n",
       "      <td>00:00:11:07</td>\n",
       "    </tr>\n",
       "    <tr>\n",
       "      <th>print</th>\n",
       "      <td>4</td>\n",
       "      <td>0.75</td>\n",
       "      <td>00:00:11:07</td>\n",
       "    </tr>\n",
       "  </tbody>\n",
       "</table>\n",
       "<p>824 rows × 3 columns</p>\n",
       "</div>"
      ],
      "text/plain": [
       "                   detection_classes detection_scores     timecode\n",
       "frame_id label                                                    \n",
       "2        nozzle                    1             0.75  00:00:00:02\n",
       "3        nozzle                    1          0.71875  00:00:00:03\n",
       "4        nozzle                    1             0.75  00:00:00:04\n",
       "5        nozzle                    1          0.71875  00:00:00:05\n",
       "         print                     4         0.539062  00:00:00:05\n",
       "...                              ...              ...          ...\n",
       "280      print                     4          0.71875  00:00:11:05\n",
       "281      spaghetti                 3         0.804688  00:00:11:06\n",
       "         print                     4          0.71875  00:00:11:06\n",
       "282      spaghetti                 3          0.78125  00:00:11:07\n",
       "         print                     4             0.75  00:00:11:07\n",
       "\n",
       "[824 rows x 3 columns]"
      ]
     },
     "execution_count": 6,
     "metadata": {},
     "output_type": "execute_result"
    }
   ],
   "source": [
    "confident_df"
   ]
  },
  {
   "cell_type": "code",
   "execution_count": 9,
   "metadata": {},
   "outputs": [
    {
     "data": {
      "application/vnd.plotly.v1+json": {
       "config": {
        "plotlyServerURL": "https://plot.ly"
       },
       "data": [
        {
         "alignmentgroup": "True",
         "hovertemplate": "label=%{x}<br>detection_scores=%{y}<extra></extra>",
         "legendgroup": "nozzle",
         "marker": {
          "color": "#636efa"
         },
         "name": "nozzle",
         "notched": false,
         "offsetgroup": "nozzle",
         "orientation": "v",
         "showlegend": true,
         "type": "box",
         "x": [
          "nozzle",
          "nozzle",
          "nozzle",
          "nozzle",
          "nozzle",
          "nozzle",
          "nozzle",
          "nozzle",
          "nozzle",
          "nozzle",
          "nozzle",
          "nozzle",
          "nozzle",
          "nozzle",
          "nozzle",
          "nozzle",
          "nozzle",
          "nozzle",
          "nozzle",
          "nozzle",
          "nozzle",
          "nozzle",
          "nozzle",
          "nozzle",
          "nozzle",
          "nozzle",
          "nozzle",
          "nozzle",
          "nozzle",
          "nozzle",
          "nozzle",
          "nozzle",
          "nozzle",
          "nozzle",
          "nozzle",
          "nozzle",
          "nozzle",
          "nozzle",
          "nozzle",
          "nozzle",
          "nozzle",
          "nozzle",
          "nozzle",
          "nozzle",
          "nozzle",
          "nozzle",
          "nozzle",
          "nozzle",
          "nozzle",
          "nozzle",
          "nozzle",
          "nozzle",
          "nozzle",
          "nozzle",
          "nozzle",
          "nozzle",
          "nozzle",
          "nozzle",
          "nozzle",
          "nozzle",
          "nozzle",
          "nozzle",
          "nozzle",
          "nozzle",
          "nozzle",
          "nozzle",
          "nozzle",
          "nozzle",
          "nozzle",
          "nozzle",
          "nozzle",
          "nozzle",
          "nozzle",
          "nozzle",
          "nozzle",
          "nozzle",
          "nozzle",
          "nozzle",
          "nozzle",
          "nozzle",
          "nozzle",
          "nozzle",
          "nozzle",
          "nozzle",
          "nozzle",
          "nozzle",
          "nozzle",
          "nozzle",
          "nozzle",
          "nozzle",
          "nozzle",
          "nozzle",
          "nozzle",
          "nozzle",
          "nozzle",
          "nozzle",
          "nozzle",
          "nozzle",
          "nozzle",
          "nozzle",
          "nozzle",
          "nozzle",
          "nozzle",
          "nozzle",
          "nozzle",
          "nozzle",
          "nozzle",
          "nozzle",
          "nozzle",
          "nozzle",
          "nozzle",
          "nozzle",
          "nozzle",
          "nozzle",
          "nozzle",
          "nozzle",
          "nozzle",
          "nozzle",
          "nozzle",
          "nozzle",
          "nozzle",
          "nozzle",
          "nozzle",
          "nozzle",
          "nozzle",
          "nozzle",
          "nozzle",
          "nozzle",
          "nozzle",
          "nozzle",
          "nozzle",
          "nozzle",
          "nozzle",
          "nozzle",
          "nozzle",
          "nozzle",
          "nozzle",
          "nozzle",
          "nozzle",
          "nozzle",
          "nozzle",
          "nozzle",
          "nozzle",
          "nozzle",
          "nozzle",
          "nozzle",
          "nozzle",
          "nozzle",
          "nozzle",
          "nozzle",
          "nozzle",
          "nozzle",
          "nozzle",
          "nozzle",
          "nozzle",
          "nozzle",
          "nozzle",
          "nozzle",
          "nozzle",
          "nozzle",
          "nozzle",
          "nozzle",
          "nozzle",
          "nozzle",
          "nozzle",
          "nozzle",
          "nozzle",
          "nozzle",
          "nozzle",
          "nozzle",
          "nozzle",
          "nozzle",
          "nozzle",
          "nozzle",
          "nozzle",
          "nozzle",
          "nozzle",
          "nozzle",
          "nozzle",
          "nozzle",
          "nozzle",
          "nozzle",
          "nozzle",
          "nozzle",
          "nozzle",
          "nozzle",
          "nozzle",
          "nozzle",
          "nozzle",
          "nozzle",
          "nozzle",
          "nozzle",
          "nozzle",
          "nozzle",
          "nozzle",
          "nozzle",
          "nozzle",
          "nozzle",
          "nozzle",
          "nozzle",
          "nozzle",
          "nozzle",
          "nozzle",
          "nozzle",
          "nozzle",
          "nozzle",
          "nozzle",
          "nozzle",
          "nozzle",
          "nozzle",
          "nozzle",
          "nozzle",
          "nozzle",
          "nozzle",
          "nozzle",
          "nozzle",
          "nozzle",
          "nozzle"
         ],
         "x0": " ",
         "xaxis": "x",
         "y": [
          0.75,
          0.71875,
          0.75,
          0.71875,
          0.71875,
          0.71875,
          0.75,
          0.71875,
          0.71875,
          0.6171875,
          0.578125,
          0.578125,
          0.65234375,
          0.578125,
          0.5390625,
          0.578125,
          0.578125,
          0.578125,
          0.5390625,
          0.5390625,
          0.5390625,
          0.6171875,
          0.65234375,
          0.5390625,
          0.65234375,
          0.578125,
          0.578125,
          0.5390625,
          0.6171875,
          0.5390625,
          0.578125,
          0.5390625,
          0.5390625,
          0.578125,
          0.5390625,
          0.65234375,
          0.65234375,
          0.65234375,
          0.65234375,
          0.75,
          0.71875,
          0.6875,
          0.71875,
          0.71875,
          0.75,
          0.75,
          0.75,
          0.6875,
          0.65234375,
          0.6875,
          0.6875,
          0.71875,
          0.6875,
          0.71875,
          0.71875,
          0.71875,
          0.75,
          0.71875,
          0.75,
          0.71875,
          0.75,
          0.6875,
          0.65234375,
          0.75,
          0.71875,
          0.65234375,
          0.6875,
          0.65234375,
          0.6875,
          0.71875,
          0.71875,
          0.6171875,
          0.71875,
          0.6875,
          0.6875,
          0.71875,
          0.75,
          0.6875,
          0.65234375,
          0.6875,
          0.71875,
          0.6875,
          0.71875,
          0.6875,
          0.71875,
          0.75,
          0.71875,
          0.71875,
          0.78125,
          0.75,
          0.71875,
          0.65234375,
          0.78125,
          0.6875,
          0.78125,
          0.71875,
          0.75,
          0.71875,
          0.75,
          0.78125,
          0.75,
          0.78125,
          0.78125,
          0.75,
          0.71875,
          0.75,
          0.75,
          0.71875,
          0.75,
          0.8046875,
          0.71875,
          0.8046875,
          0.71875,
          0.65234375,
          0.71875,
          0.65234375,
          0.71875,
          0.75,
          0.71875,
          0.828125,
          0.75,
          0.78125,
          0.8046875,
          0.8046875,
          0.78125,
          0.75,
          0.8046875,
          0.78125,
          0.75,
          0.8046875,
          0.828125,
          0.8046875,
          0.828125,
          0.8046875,
          0.71875,
          0.8046875,
          0.71875,
          0.71875,
          0.8046875,
          0.8046875,
          0.8046875,
          0.78125,
          0.71875,
          0.71875,
          0.6171875,
          0.5390625,
          0.5390625,
          0.6875,
          0.5390625,
          0.5390625,
          0.6875,
          0.5390625,
          0.578125,
          0.578125,
          0.578125,
          0.578125,
          0.578125,
          0.6171875,
          0.578125,
          0.65234375,
          0.75,
          0.75,
          0.71875,
          0.75,
          0.71875,
          0.71875,
          0.71875,
          0.71875,
          0.65234375,
          0.6875,
          0.6875,
          0.6875,
          0.65234375,
          0.6875,
          0.6875,
          0.65234375,
          0.65234375,
          0.578125,
          0.71875,
          0.6171875,
          0.6171875,
          0.578125,
          0.65234375,
          0.75,
          0.578125,
          0.6171875,
          0.5390625,
          0.6171875,
          0.5390625,
          0.75,
          0.65234375,
          0.71875,
          0.75,
          0.5390625,
          0.578125,
          0.5390625,
          0.6171875,
          0.6171875,
          0.6171875,
          0.5390625,
          0.6171875,
          0.6171875,
          0.65234375,
          0.6875,
          0.71875,
          0.71875,
          0.6875,
          0.578125,
          0.5390625,
          0.65234375,
          0.5390625,
          0.578125,
          0.6171875,
          0.78125,
          0.65234375,
          0.5390625,
          0.578125,
          0.578125
         ],
         "y0": " ",
         "yaxis": "y"
        },
        {
         "alignmentgroup": "True",
         "hovertemplate": "label=%{x}<br>detection_scores=%{y}<extra></extra>",
         "legendgroup": "print",
         "marker": {
          "color": "#EF553B"
         },
         "name": "print",
         "notched": false,
         "offsetgroup": "print",
         "orientation": "v",
         "showlegend": true,
         "type": "box",
         "x": [
          "print",
          "print",
          "print",
          "print",
          "print",
          "print",
          "print",
          "print",
          "print",
          "print",
          "print",
          "print",
          "print",
          "print",
          "print",
          "print",
          "print",
          "print",
          "print",
          "print",
          "print",
          "print",
          "print",
          "print",
          "print",
          "print",
          "print",
          "print",
          "print",
          "print",
          "print",
          "print",
          "print",
          "print",
          "print",
          "print",
          "print",
          "print",
          "print",
          "print",
          "print",
          "print",
          "print",
          "print",
          "print",
          "print",
          "print",
          "print",
          "print",
          "print",
          "print",
          "print",
          "print",
          "print",
          "print",
          "print",
          "print",
          "print",
          "print",
          "print",
          "print",
          "print",
          "print",
          "print",
          "print",
          "print",
          "print",
          "print",
          "print",
          "print",
          "print",
          "print",
          "print",
          "print",
          "print",
          "print",
          "print",
          "print",
          "print",
          "print",
          "print",
          "print",
          "print",
          "print",
          "print",
          "print",
          "print",
          "print",
          "print",
          "print",
          "print",
          "print",
          "print",
          "print",
          "print",
          "print",
          "print",
          "print",
          "print",
          "print",
          "print",
          "print",
          "print",
          "print",
          "print",
          "print",
          "print",
          "print",
          "print",
          "print",
          "print",
          "print",
          "print",
          "print",
          "print",
          "print",
          "print",
          "print",
          "print",
          "print",
          "print",
          "print",
          "print",
          "print",
          "print",
          "print",
          "print",
          "print",
          "print",
          "print",
          "print",
          "print",
          "print",
          "print",
          "print",
          "print",
          "print",
          "print",
          "print",
          "print",
          "print",
          "print",
          "print",
          "print",
          "print",
          "print",
          "print",
          "print",
          "print",
          "print",
          "print",
          "print",
          "print",
          "print",
          "print",
          "print",
          "print",
          "print",
          "print",
          "print",
          "print",
          "print",
          "print",
          "print",
          "print",
          "print",
          "print",
          "print",
          "print",
          "print",
          "print",
          "print",
          "print",
          "print",
          "print",
          "print",
          "print",
          "print",
          "print",
          "print",
          "print",
          "print",
          "print",
          "print",
          "print",
          "print",
          "print",
          "print",
          "print",
          "print",
          "print",
          "print",
          "print",
          "print",
          "print",
          "print",
          "print",
          "print",
          "print",
          "print",
          "print",
          "print",
          "print",
          "print",
          "print",
          "print",
          "print",
          "print",
          "print",
          "print",
          "print",
          "print",
          "print",
          "print",
          "print",
          "print",
          "print",
          "print",
          "print",
          "print",
          "print",
          "print",
          "print",
          "print",
          "print",
          "print",
          "print",
          "print",
          "print",
          "print",
          "print",
          "print",
          "print",
          "print",
          "print",
          "print",
          "print",
          "print",
          "print",
          "print",
          "print",
          "print",
          "print",
          "print",
          "print",
          "print"
         ],
         "x0": " ",
         "xaxis": "x",
         "y": [
          0.5390625,
          0.6171875,
          0.578125,
          0.578125,
          0.5390625,
          0.578125,
          0.6171875,
          0.6875,
          0.6875,
          0.6875,
          0.71875,
          0.75,
          0.75,
          0.78125,
          0.75,
          0.8046875,
          0.8046875,
          0.828125,
          0.828125,
          0.8515625,
          0.8515625,
          0.8515625,
          0.87109375,
          0.87109375,
          0.87109375,
          0.87109375,
          0.88671875,
          0.87109375,
          0.87109375,
          0.87109375,
          0.87109375,
          0.8515625,
          0.87109375,
          0.8515625,
          0.828125,
          0.87109375,
          0.87109375,
          0.87109375,
          0.87109375,
          0.8515625,
          0.8046875,
          0.828125,
          0.828125,
          0.8046875,
          0.78125,
          0.8046875,
          0.8046875,
          0.8046875,
          0.828125,
          0.8046875,
          0.8046875,
          0.8046875,
          0.8046875,
          0.8046875,
          0.8046875,
          0.78125,
          0.75,
          0.8046875,
          0.75,
          0.78125,
          0.78125,
          0.78125,
          0.75,
          0.75,
          0.75,
          0.75,
          0.71875,
          0.75,
          0.75,
          0.71875,
          0.71875,
          0.75,
          0.75,
          0.75,
          0.6875,
          0.75,
          0.71875,
          0.6875,
          0.75,
          0.75,
          0.71875,
          0.75,
          0.75,
          0.75,
          0.75,
          0.75,
          0.78125,
          0.8046875,
          0.8046875,
          0.78125,
          0.8046875,
          0.8046875,
          0.8515625,
          0.8046875,
          0.8046875,
          0.8046875,
          0.78125,
          0.828125,
          0.78125,
          0.78125,
          0.75,
          0.75,
          0.8046875,
          0.8046875,
          0.78125,
          0.78125,
          0.78125,
          0.8046875,
          0.78125,
          0.78125,
          0.75,
          0.75,
          0.78125,
          0.75,
          0.78125,
          0.75,
          0.78125,
          0.75,
          0.8046875,
          0.88671875,
          0.71875,
          0.5390625,
          0.6171875,
          0.5390625,
          0.6171875,
          0.6875,
          0.6171875,
          0.65234375,
          0.6875,
          0.75,
          0.78125,
          0.71875,
          0.75,
          0.65234375,
          0.828125,
          0.8046875,
          0.8046875,
          0.65234375,
          0.6171875,
          0.6171875,
          0.6171875,
          0.6171875,
          0.8046875,
          0.78125,
          0.8046875,
          0.75,
          0.5390625,
          0.78125,
          0.828125,
          0.8046875,
          0.78125,
          0.78125,
          0.8046875,
          0.78125,
          0.78125,
          0.8046875,
          0.78125,
          0.75,
          0.78125,
          0.78125,
          0.78125,
          0.8046875,
          0.75,
          0.78125,
          0.78125,
          0.78125,
          0.8515625,
          0.8515625,
          0.828125,
          0.8515625,
          0.8515625,
          0.87109375,
          0.8515625,
          0.8515625,
          0.87109375,
          0.8515625,
          0.87109375,
          0.88671875,
          0.87109375,
          0.87109375,
          0.87109375,
          0.8515625,
          0.8515625,
          0.8046875,
          0.828125,
          0.78125,
          0.78125,
          0.8046875,
          0.75,
          0.75,
          0.75,
          0.75,
          0.75,
          0.71875,
          0.6875,
          0.6875,
          0.71875,
          0.8046875,
          0.6875,
          0.6875,
          0.6171875,
          0.5390625,
          0.5390625,
          0.6171875,
          0.6171875,
          0.6171875,
          0.6171875,
          0.65234375,
          0.6171875,
          0.65234375,
          0.6171875,
          0.6875,
          0.75,
          0.78125,
          0.8046875,
          0.8046875,
          0.8046875,
          0.8046875,
          0.8046875,
          0.8046875,
          0.8046875,
          0.8046875,
          0.75,
          0.75,
          0.71875,
          0.8046875,
          0.75,
          0.78125,
          0.78125,
          0.8046875,
          0.75,
          0.75,
          0.71875,
          0.6875,
          0.6875,
          0.6875,
          0.71875,
          0.71875,
          0.71875,
          0.71875,
          0.8046875,
          0.8046875,
          0.75,
          0.71875,
          0.71875,
          0.75
         ],
         "y0": " ",
         "yaxis": "y"
        },
        {
         "alignmentgroup": "True",
         "hovertemplate": "label=%{x}<br>detection_scores=%{y}<extra></extra>",
         "legendgroup": "raft",
         "marker": {
          "color": "#00cc96"
         },
         "name": "raft",
         "notched": false,
         "offsetgroup": "raft",
         "orientation": "v",
         "showlegend": true,
         "type": "box",
         "x": [
          "raft",
          "raft",
          "raft",
          "raft",
          "raft",
          "raft",
          "raft",
          "raft",
          "raft",
          "raft",
          "raft",
          "raft",
          "raft",
          "raft",
          "raft",
          "raft",
          "raft",
          "raft",
          "raft",
          "raft",
          "raft",
          "raft",
          "raft",
          "raft",
          "raft",
          "raft",
          "raft",
          "raft",
          "raft",
          "raft",
          "raft",
          "raft",
          "raft",
          "raft",
          "raft",
          "raft",
          "raft",
          "raft",
          "raft",
          "raft",
          "raft",
          "raft",
          "raft",
          "raft",
          "raft",
          "raft",
          "raft",
          "raft",
          "raft",
          "raft",
          "raft",
          "raft",
          "raft",
          "raft",
          "raft",
          "raft",
          "raft",
          "raft",
          "raft",
          "raft",
          "raft",
          "raft",
          "raft",
          "raft",
          "raft",
          "raft",
          "raft",
          "raft",
          "raft",
          "raft",
          "raft",
          "raft",
          "raft",
          "raft",
          "raft",
          "raft",
          "raft",
          "raft",
          "raft",
          "raft",
          "raft",
          "raft",
          "raft",
          "raft",
          "raft",
          "raft",
          "raft",
          "raft",
          "raft",
          "raft",
          "raft",
          "raft",
          "raft",
          "raft",
          "raft",
          "raft",
          "raft",
          "raft",
          "raft",
          "raft",
          "raft",
          "raft",
          "raft",
          "raft",
          "raft",
          "raft",
          "raft",
          "raft",
          "raft",
          "raft",
          "raft",
          "raft",
          "raft",
          "raft",
          "raft",
          "raft",
          "raft",
          "raft",
          "raft",
          "raft",
          "raft",
          "raft",
          "raft",
          "raft",
          "raft",
          "raft",
          "raft",
          "raft",
          "raft",
          "raft",
          "raft",
          "raft",
          "raft",
          "raft",
          "raft",
          "raft",
          "raft",
          "raft",
          "raft",
          "raft",
          "raft",
          "raft",
          "raft",
          "raft",
          "raft",
          "raft",
          "raft",
          "raft",
          "raft",
          "raft",
          "raft",
          "raft",
          "raft",
          "raft",
          "raft",
          "raft",
          "raft",
          "raft",
          "raft",
          "raft",
          "raft",
          "raft",
          "raft",
          "raft",
          "raft",
          "raft",
          "raft",
          "raft",
          "raft",
          "raft",
          "raft",
          "raft"
         ],
         "x0": " ",
         "xaxis": "x",
         "y": [
          0.5390625,
          0.578125,
          0.6171875,
          0.6875,
          0.71875,
          0.6875,
          0.75,
          0.75,
          0.75,
          0.78125,
          0.78125,
          0.75,
          0.71875,
          0.71875,
          0.6875,
          0.6875,
          0.65234375,
          0.6171875,
          0.578125,
          0.5390625,
          0.6171875,
          0.65234375,
          0.71875,
          0.78125,
          0.75,
          0.8046875,
          0.8046875,
          0.8046875,
          0.78125,
          0.8046875,
          0.75,
          0.75,
          0.78125,
          0.75,
          0.71875,
          0.6875,
          0.71875,
          0.6875,
          0.71875,
          0.71875,
          0.6875,
          0.71875,
          0.6875,
          0.71875,
          0.75,
          0.8046875,
          0.8046875,
          0.8515625,
          0.8515625,
          0.828125,
          0.8046875,
          0.8046875,
          0.8046875,
          0.8046875,
          0.8046875,
          0.8046875,
          0.75,
          0.75,
          0.71875,
          0.6875,
          0.6875,
          0.6171875,
          0.5390625,
          0.5390625,
          0.5390625,
          0.6875,
          0.6875,
          0.75,
          0.78125,
          0.78125,
          0.8046875,
          0.75,
          0.8046875,
          0.8046875,
          0.8046875,
          0.8046875,
          0.8046875,
          0.78125,
          0.75,
          0.75,
          0.6875,
          0.75,
          0.78125,
          0.75,
          0.8046875,
          0.8046875,
          0.8046875,
          0.8046875,
          0.8046875,
          0.87109375,
          0.8046875,
          0.8046875,
          0.828125,
          0.8046875,
          0.8046875,
          0.75,
          0.71875,
          0.71875,
          0.6875,
          0.65234375,
          0.65234375,
          0.65234375,
          0.6171875,
          0.5390625,
          0.5390625,
          0.5390625,
          0.5390625,
          0.65234375,
          0.87109375,
          0.71875,
          0.9140625,
          0.90234375,
          0.88671875,
          0.90234375,
          0.88671875,
          0.6171875,
          0.78125,
          0.90234375,
          0.88671875,
          0.87109375,
          0.8046875,
          0.8515625,
          0.8046875,
          0.71875,
          0.8046875,
          0.78125,
          0.578125,
          0.88671875,
          0.88671875,
          0.88671875,
          0.87109375,
          0.87109375,
          0.8515625,
          0.8046875,
          0.78125,
          0.8046875,
          0.87109375,
          0.87109375,
          0.578125,
          0.828125,
          0.6171875,
          0.8046875,
          0.90234375,
          0.8515625,
          0.87109375,
          0.87109375,
          0.8515625,
          0.828125,
          0.87109375,
          0.8515625,
          0.8515625,
          0.87109375,
          0.8515625,
          0.87109375,
          0.87109375,
          0.8515625,
          0.87109375,
          0.88671875,
          0.87109375,
          0.88671875,
          0.8046875,
          0.78125,
          0.75,
          0.65234375,
          0.78125,
          0.8046875,
          0.6875,
          0.75,
          0.6171875,
          0.65234375,
          0.578125,
          0.578125
         ],
         "y0": " ",
         "yaxis": "y"
        },
        {
         "alignmentgroup": "True",
         "hovertemplate": "label=%{x}<br>detection_scores=%{y}<extra></extra>",
         "legendgroup": "spaghetti",
         "marker": {
          "color": "#ab63fa"
         },
         "name": "spaghetti",
         "notched": false,
         "offsetgroup": "spaghetti",
         "orientation": "v",
         "showlegend": true,
         "type": "box",
         "x": [
          "spaghetti",
          "spaghetti",
          "spaghetti",
          "spaghetti",
          "spaghetti",
          "spaghetti",
          "spaghetti",
          "spaghetti",
          "spaghetti",
          "spaghetti",
          "spaghetti",
          "spaghetti",
          "spaghetti",
          "spaghetti",
          "spaghetti",
          "spaghetti",
          "spaghetti",
          "spaghetti",
          "spaghetti",
          "spaghetti",
          "spaghetti",
          "spaghetti",
          "spaghetti",
          "spaghetti",
          "spaghetti",
          "spaghetti",
          "spaghetti",
          "spaghetti",
          "spaghetti",
          "spaghetti",
          "spaghetti",
          "spaghetti",
          "spaghetti",
          "spaghetti",
          "spaghetti",
          "spaghetti",
          "spaghetti",
          "spaghetti",
          "spaghetti",
          "spaghetti",
          "spaghetti",
          "spaghetti",
          "spaghetti",
          "spaghetti",
          "spaghetti",
          "spaghetti",
          "spaghetti",
          "spaghetti",
          "spaghetti",
          "spaghetti",
          "spaghetti",
          "spaghetti",
          "spaghetti",
          "spaghetti",
          "spaghetti",
          "spaghetti",
          "spaghetti",
          "spaghetti",
          "spaghetti",
          "spaghetti",
          "spaghetti",
          "spaghetti",
          "spaghetti",
          "spaghetti",
          "spaghetti",
          "spaghetti",
          "spaghetti",
          "spaghetti",
          "spaghetti",
          "spaghetti",
          "spaghetti",
          "spaghetti",
          "spaghetti",
          "spaghetti",
          "spaghetti",
          "spaghetti",
          "spaghetti",
          "spaghetti",
          "spaghetti",
          "spaghetti",
          "spaghetti",
          "spaghetti",
          "spaghetti",
          "spaghetti",
          "spaghetti",
          "spaghetti",
          "spaghetti",
          "spaghetti",
          "spaghetti",
          "spaghetti",
          "spaghetti",
          "spaghetti",
          "spaghetti",
          "spaghetti",
          "spaghetti",
          "spaghetti",
          "spaghetti",
          "spaghetti",
          "spaghetti",
          "spaghetti",
          "spaghetti",
          "spaghetti",
          "spaghetti",
          "spaghetti",
          "spaghetti",
          "spaghetti",
          "spaghetti",
          "spaghetti",
          "spaghetti",
          "spaghetti",
          "spaghetti",
          "spaghetti",
          "spaghetti",
          "spaghetti",
          "spaghetti",
          "spaghetti",
          "spaghetti",
          "spaghetti",
          "spaghetti",
          "spaghetti",
          "spaghetti",
          "spaghetti",
          "spaghetti",
          "spaghetti",
          "spaghetti",
          "spaghetti",
          "spaghetti",
          "spaghetti",
          "spaghetti",
          "spaghetti",
          "spaghetti"
         ],
         "x0": " ",
         "xaxis": "x",
         "y": [
          0.6171875,
          0.71875,
          0.87109375,
          0.78125,
          0.90234375,
          0.71875,
          0.75,
          0.78125,
          0.6171875,
          0.75,
          0.75,
          0.78125,
          0.75,
          0.87109375,
          0.65234375,
          0.8046875,
          0.8046875,
          0.8515625,
          0.75,
          0.88671875,
          0.828125,
          0.8046875,
          0.828125,
          0.8046875,
          0.78125,
          0.8046875,
          0.8046875,
          0.75,
          0.578125,
          0.6171875,
          0.6171875,
          0.8515625,
          0.828125,
          0.5390625,
          0.92578125,
          0.6875,
          0.6171875,
          0.5390625,
          0.88671875,
          0.78125,
          0.65234375,
          0.6171875,
          0.78125,
          0.5390625,
          0.6171875,
          0.6171875,
          0.5390625,
          0.578125,
          0.5390625,
          0.5390625,
          0.71875,
          0.71875,
          0.6875,
          0.78125,
          0.65234375,
          0.71875,
          0.71875,
          0.6171875,
          0.8046875,
          0.71875,
          0.5390625,
          0.65234375,
          0.578125,
          0.75,
          0.8515625,
          0.78125,
          0.6171875,
          0.87109375,
          0.90234375,
          0.90234375,
          0.90234375,
          0.90234375,
          0.90234375,
          0.9140625,
          0.92578125,
          0.90234375,
          0.88671875,
          0.90234375,
          0.87109375,
          0.88671875,
          0.88671875,
          0.8515625,
          0.8515625,
          0.88671875,
          0.88671875,
          0.90234375,
          0.88671875,
          0.8046875,
          0.88671875,
          0.8046875,
          0.90234375,
          0.88671875,
          0.8515625,
          0.8515625,
          0.88671875,
          0.92578125,
          0.90234375,
          0.88671875,
          0.87109375,
          0.8515625,
          0.8515625,
          0.8515625,
          0.87109375,
          0.88671875,
          0.90234375,
          0.92578125,
          0.92578125,
          0.90234375,
          0.88671875,
          0.88671875,
          0.90234375,
          0.90234375,
          0.90234375,
          0.88671875,
          0.88671875,
          0.88671875,
          0.90234375,
          0.88671875,
          0.87109375,
          0.8515625,
          0.8046875,
          0.8515625,
          0.8515625,
          0.87109375,
          0.8515625,
          0.88671875,
          0.8515625,
          0.8046875,
          0.8046875,
          0.8046875,
          0.78125
         ],
         "y0": " ",
         "yaxis": "y"
        },
        {
         "alignmentgroup": "True",
         "hovertemplate": "label=%{x}<br>detection_scores=%{y}<extra></extra>",
         "legendgroup": "adhesion",
         "marker": {
          "color": "#FFA15A"
         },
         "name": "adhesion",
         "notched": false,
         "offsetgroup": "adhesion",
         "orientation": "v",
         "showlegend": true,
         "type": "box",
         "x": [
          "adhesion",
          "adhesion",
          "adhesion",
          "adhesion",
          "adhesion",
          "adhesion",
          "adhesion",
          "adhesion",
          "adhesion",
          "adhesion",
          "adhesion",
          "adhesion",
          "adhesion",
          "adhesion",
          "adhesion",
          "adhesion",
          "adhesion",
          "adhesion",
          "adhesion",
          "adhesion",
          "adhesion",
          "adhesion",
          "adhesion",
          "adhesion",
          "adhesion",
          "adhesion",
          "adhesion",
          "adhesion",
          "adhesion",
          "adhesion",
          "adhesion",
          "adhesion",
          "adhesion",
          "adhesion",
          "adhesion",
          "adhesion",
          "adhesion",
          "adhesion",
          "adhesion",
          "adhesion",
          "adhesion",
          "adhesion",
          "adhesion",
          "adhesion",
          "adhesion",
          "adhesion",
          "adhesion",
          "adhesion",
          "adhesion",
          "adhesion",
          "adhesion",
          "adhesion",
          "adhesion",
          "adhesion",
          "adhesion",
          "adhesion",
          "adhesion"
         ],
         "x0": " ",
         "xaxis": "x",
         "y": [
          0.6171875,
          0.6875,
          0.75,
          0.5390625,
          0.6171875,
          0.6875,
          0.78125,
          0.75,
          0.78125,
          0.78125,
          0.8046875,
          0.8046875,
          0.8046875,
          0.78125,
          0.8046875,
          0.8046875,
          0.78125,
          0.8046875,
          0.75,
          0.8046875,
          0.78125,
          0.78125,
          0.8046875,
          0.71875,
          0.71875,
          0.65234375,
          0.5390625,
          0.5390625,
          0.6171875,
          0.5390625,
          0.5390625,
          0.6171875,
          0.6171875,
          0.5390625,
          0.6875,
          0.65234375,
          0.6875,
          0.6171875,
          0.6875,
          0.6171875,
          0.6875,
          0.6171875,
          0.6171875,
          0.6171875,
          0.65234375,
          0.6171875,
          0.75,
          0.6171875,
          0.578125,
          0.5390625,
          0.578125,
          0.65234375,
          0.6171875,
          0.5390625,
          0.78125,
          0.5390625,
          0.6171875
         ],
         "y0": " ",
         "yaxis": "y"
        }
       ],
       "layout": {
        "boxmode": "overlay",
        "legend": {
         "title": {
          "text": "label"
         },
         "tracegroupgap": 0
        },
        "template": {
         "data": {
          "bar": [
           {
            "error_x": {
             "color": "#2a3f5f"
            },
            "error_y": {
             "color": "#2a3f5f"
            },
            "marker": {
             "line": {
              "color": "#E5ECF6",
              "width": 0.5
             }
            },
            "type": "bar"
           }
          ],
          "barpolar": [
           {
            "marker": {
             "line": {
              "color": "#E5ECF6",
              "width": 0.5
             }
            },
            "type": "barpolar"
           }
          ],
          "carpet": [
           {
            "aaxis": {
             "endlinecolor": "#2a3f5f",
             "gridcolor": "white",
             "linecolor": "white",
             "minorgridcolor": "white",
             "startlinecolor": "#2a3f5f"
            },
            "baxis": {
             "endlinecolor": "#2a3f5f",
             "gridcolor": "white",
             "linecolor": "white",
             "minorgridcolor": "white",
             "startlinecolor": "#2a3f5f"
            },
            "type": "carpet"
           }
          ],
          "choropleth": [
           {
            "colorbar": {
             "outlinewidth": 0,
             "ticks": ""
            },
            "type": "choropleth"
           }
          ],
          "contour": [
           {
            "colorbar": {
             "outlinewidth": 0,
             "ticks": ""
            },
            "colorscale": [
             [
              0,
              "#0d0887"
             ],
             [
              0.1111111111111111,
              "#46039f"
             ],
             [
              0.2222222222222222,
              "#7201a8"
             ],
             [
              0.3333333333333333,
              "#9c179e"
             ],
             [
              0.4444444444444444,
              "#bd3786"
             ],
             [
              0.5555555555555556,
              "#d8576b"
             ],
             [
              0.6666666666666666,
              "#ed7953"
             ],
             [
              0.7777777777777778,
              "#fb9f3a"
             ],
             [
              0.8888888888888888,
              "#fdca26"
             ],
             [
              1,
              "#f0f921"
             ]
            ],
            "type": "contour"
           }
          ],
          "contourcarpet": [
           {
            "colorbar": {
             "outlinewidth": 0,
             "ticks": ""
            },
            "type": "contourcarpet"
           }
          ],
          "heatmap": [
           {
            "colorbar": {
             "outlinewidth": 0,
             "ticks": ""
            },
            "colorscale": [
             [
              0,
              "#0d0887"
             ],
             [
              0.1111111111111111,
              "#46039f"
             ],
             [
              0.2222222222222222,
              "#7201a8"
             ],
             [
              0.3333333333333333,
              "#9c179e"
             ],
             [
              0.4444444444444444,
              "#bd3786"
             ],
             [
              0.5555555555555556,
              "#d8576b"
             ],
             [
              0.6666666666666666,
              "#ed7953"
             ],
             [
              0.7777777777777778,
              "#fb9f3a"
             ],
             [
              0.8888888888888888,
              "#fdca26"
             ],
             [
              1,
              "#f0f921"
             ]
            ],
            "type": "heatmap"
           }
          ],
          "heatmapgl": [
           {
            "colorbar": {
             "outlinewidth": 0,
             "ticks": ""
            },
            "colorscale": [
             [
              0,
              "#0d0887"
             ],
             [
              0.1111111111111111,
              "#46039f"
             ],
             [
              0.2222222222222222,
              "#7201a8"
             ],
             [
              0.3333333333333333,
              "#9c179e"
             ],
             [
              0.4444444444444444,
              "#bd3786"
             ],
             [
              0.5555555555555556,
              "#d8576b"
             ],
             [
              0.6666666666666666,
              "#ed7953"
             ],
             [
              0.7777777777777778,
              "#fb9f3a"
             ],
             [
              0.8888888888888888,
              "#fdca26"
             ],
             [
              1,
              "#f0f921"
             ]
            ],
            "type": "heatmapgl"
           }
          ],
          "histogram": [
           {
            "marker": {
             "colorbar": {
              "outlinewidth": 0,
              "ticks": ""
             }
            },
            "type": "histogram"
           }
          ],
          "histogram2d": [
           {
            "colorbar": {
             "outlinewidth": 0,
             "ticks": ""
            },
            "colorscale": [
             [
              0,
              "#0d0887"
             ],
             [
              0.1111111111111111,
              "#46039f"
             ],
             [
              0.2222222222222222,
              "#7201a8"
             ],
             [
              0.3333333333333333,
              "#9c179e"
             ],
             [
              0.4444444444444444,
              "#bd3786"
             ],
             [
              0.5555555555555556,
              "#d8576b"
             ],
             [
              0.6666666666666666,
              "#ed7953"
             ],
             [
              0.7777777777777778,
              "#fb9f3a"
             ],
             [
              0.8888888888888888,
              "#fdca26"
             ],
             [
              1,
              "#f0f921"
             ]
            ],
            "type": "histogram2d"
           }
          ],
          "histogram2dcontour": [
           {
            "colorbar": {
             "outlinewidth": 0,
             "ticks": ""
            },
            "colorscale": [
             [
              0,
              "#0d0887"
             ],
             [
              0.1111111111111111,
              "#46039f"
             ],
             [
              0.2222222222222222,
              "#7201a8"
             ],
             [
              0.3333333333333333,
              "#9c179e"
             ],
             [
              0.4444444444444444,
              "#bd3786"
             ],
             [
              0.5555555555555556,
              "#d8576b"
             ],
             [
              0.6666666666666666,
              "#ed7953"
             ],
             [
              0.7777777777777778,
              "#fb9f3a"
             ],
             [
              0.8888888888888888,
              "#fdca26"
             ],
             [
              1,
              "#f0f921"
             ]
            ],
            "type": "histogram2dcontour"
           }
          ],
          "mesh3d": [
           {
            "colorbar": {
             "outlinewidth": 0,
             "ticks": ""
            },
            "type": "mesh3d"
           }
          ],
          "parcoords": [
           {
            "line": {
             "colorbar": {
              "outlinewidth": 0,
              "ticks": ""
             }
            },
            "type": "parcoords"
           }
          ],
          "pie": [
           {
            "automargin": true,
            "type": "pie"
           }
          ],
          "scatter": [
           {
            "marker": {
             "colorbar": {
              "outlinewidth": 0,
              "ticks": ""
             }
            },
            "type": "scatter"
           }
          ],
          "scatter3d": [
           {
            "line": {
             "colorbar": {
              "outlinewidth": 0,
              "ticks": ""
             }
            },
            "marker": {
             "colorbar": {
              "outlinewidth": 0,
              "ticks": ""
             }
            },
            "type": "scatter3d"
           }
          ],
          "scattercarpet": [
           {
            "marker": {
             "colorbar": {
              "outlinewidth": 0,
              "ticks": ""
             }
            },
            "type": "scattercarpet"
           }
          ],
          "scattergeo": [
           {
            "marker": {
             "colorbar": {
              "outlinewidth": 0,
              "ticks": ""
             }
            },
            "type": "scattergeo"
           }
          ],
          "scattergl": [
           {
            "marker": {
             "colorbar": {
              "outlinewidth": 0,
              "ticks": ""
             }
            },
            "type": "scattergl"
           }
          ],
          "scattermapbox": [
           {
            "marker": {
             "colorbar": {
              "outlinewidth": 0,
              "ticks": ""
             }
            },
            "type": "scattermapbox"
           }
          ],
          "scatterpolar": [
           {
            "marker": {
             "colorbar": {
              "outlinewidth": 0,
              "ticks": ""
             }
            },
            "type": "scatterpolar"
           }
          ],
          "scatterpolargl": [
           {
            "marker": {
             "colorbar": {
              "outlinewidth": 0,
              "ticks": ""
             }
            },
            "type": "scatterpolargl"
           }
          ],
          "scatterternary": [
           {
            "marker": {
             "colorbar": {
              "outlinewidth": 0,
              "ticks": ""
             }
            },
            "type": "scatterternary"
           }
          ],
          "surface": [
           {
            "colorbar": {
             "outlinewidth": 0,
             "ticks": ""
            },
            "colorscale": [
             [
              0,
              "#0d0887"
             ],
             [
              0.1111111111111111,
              "#46039f"
             ],
             [
              0.2222222222222222,
              "#7201a8"
             ],
             [
              0.3333333333333333,
              "#9c179e"
             ],
             [
              0.4444444444444444,
              "#bd3786"
             ],
             [
              0.5555555555555556,
              "#d8576b"
             ],
             [
              0.6666666666666666,
              "#ed7953"
             ],
             [
              0.7777777777777778,
              "#fb9f3a"
             ],
             [
              0.8888888888888888,
              "#fdca26"
             ],
             [
              1,
              "#f0f921"
             ]
            ],
            "type": "surface"
           }
          ],
          "table": [
           {
            "cells": {
             "fill": {
              "color": "#EBF0F8"
             },
             "line": {
              "color": "white"
             }
            },
            "header": {
             "fill": {
              "color": "#C8D4E3"
             },
             "line": {
              "color": "white"
             }
            },
            "type": "table"
           }
          ]
         },
         "layout": {
          "annotationdefaults": {
           "arrowcolor": "#2a3f5f",
           "arrowhead": 0,
           "arrowwidth": 1
          },
          "coloraxis": {
           "colorbar": {
            "outlinewidth": 0,
            "ticks": ""
           }
          },
          "colorscale": {
           "diverging": [
            [
             0,
             "#8e0152"
            ],
            [
             0.1,
             "#c51b7d"
            ],
            [
             0.2,
             "#de77ae"
            ],
            [
             0.3,
             "#f1b6da"
            ],
            [
             0.4,
             "#fde0ef"
            ],
            [
             0.5,
             "#f7f7f7"
            ],
            [
             0.6,
             "#e6f5d0"
            ],
            [
             0.7,
             "#b8e186"
            ],
            [
             0.8,
             "#7fbc41"
            ],
            [
             0.9,
             "#4d9221"
            ],
            [
             1,
             "#276419"
            ]
           ],
           "sequential": [
            [
             0,
             "#0d0887"
            ],
            [
             0.1111111111111111,
             "#46039f"
            ],
            [
             0.2222222222222222,
             "#7201a8"
            ],
            [
             0.3333333333333333,
             "#9c179e"
            ],
            [
             0.4444444444444444,
             "#bd3786"
            ],
            [
             0.5555555555555556,
             "#d8576b"
            ],
            [
             0.6666666666666666,
             "#ed7953"
            ],
            [
             0.7777777777777778,
             "#fb9f3a"
            ],
            [
             0.8888888888888888,
             "#fdca26"
            ],
            [
             1,
             "#f0f921"
            ]
           ],
           "sequentialminus": [
            [
             0,
             "#0d0887"
            ],
            [
             0.1111111111111111,
             "#46039f"
            ],
            [
             0.2222222222222222,
             "#7201a8"
            ],
            [
             0.3333333333333333,
             "#9c179e"
            ],
            [
             0.4444444444444444,
             "#bd3786"
            ],
            [
             0.5555555555555556,
             "#d8576b"
            ],
            [
             0.6666666666666666,
             "#ed7953"
            ],
            [
             0.7777777777777778,
             "#fb9f3a"
            ],
            [
             0.8888888888888888,
             "#fdca26"
            ],
            [
             1,
             "#f0f921"
            ]
           ]
          },
          "colorway": [
           "#636efa",
           "#EF553B",
           "#00cc96",
           "#ab63fa",
           "#FFA15A",
           "#19d3f3",
           "#FF6692",
           "#B6E880",
           "#FF97FF",
           "#FECB52"
          ],
          "font": {
           "color": "#2a3f5f"
          },
          "geo": {
           "bgcolor": "white",
           "lakecolor": "white",
           "landcolor": "#E5ECF6",
           "showlakes": true,
           "showland": true,
           "subunitcolor": "white"
          },
          "hoverlabel": {
           "align": "left"
          },
          "hovermode": "closest",
          "mapbox": {
           "style": "light"
          },
          "paper_bgcolor": "white",
          "plot_bgcolor": "#E5ECF6",
          "polar": {
           "angularaxis": {
            "gridcolor": "white",
            "linecolor": "white",
            "ticks": ""
           },
           "bgcolor": "#E5ECF6",
           "radialaxis": {
            "gridcolor": "white",
            "linecolor": "white",
            "ticks": ""
           }
          },
          "scene": {
           "xaxis": {
            "backgroundcolor": "#E5ECF6",
            "gridcolor": "white",
            "gridwidth": 2,
            "linecolor": "white",
            "showbackground": true,
            "ticks": "",
            "zerolinecolor": "white"
           },
           "yaxis": {
            "backgroundcolor": "#E5ECF6",
            "gridcolor": "white",
            "gridwidth": 2,
            "linecolor": "white",
            "showbackground": true,
            "ticks": "",
            "zerolinecolor": "white"
           },
           "zaxis": {
            "backgroundcolor": "#E5ECF6",
            "gridcolor": "white",
            "gridwidth": 2,
            "linecolor": "white",
            "showbackground": true,
            "ticks": "",
            "zerolinecolor": "white"
           }
          },
          "shapedefaults": {
           "line": {
            "color": "#2a3f5f"
           }
          },
          "ternary": {
           "aaxis": {
            "gridcolor": "white",
            "linecolor": "white",
            "ticks": ""
           },
           "baxis": {
            "gridcolor": "white",
            "linecolor": "white",
            "ticks": ""
           },
           "bgcolor": "#E5ECF6",
           "caxis": {
            "gridcolor": "white",
            "linecolor": "white",
            "ticks": ""
           }
          },
          "title": {
           "x": 0.05
          },
          "xaxis": {
           "automargin": true,
           "gridcolor": "white",
           "linecolor": "white",
           "ticks": "",
           "title": {
            "standoff": 15
           },
           "zerolinecolor": "white",
           "zerolinewidth": 2
          },
          "yaxis": {
           "automargin": true,
           "gridcolor": "white",
           "linecolor": "white",
           "ticks": "",
           "title": {
            "standoff": 15
           },
           "zerolinecolor": "white",
           "zerolinewidth": 2
          }
         }
        },
        "title": {
         "text": "Print Nanny's Confidence Distribution by Label"
        },
        "xaxis": {
         "anchor": "y",
         "categoryarray": [
          "nozzle",
          "print",
          "raft",
          "spaghetti",
          "adhesion"
         ],
         "categoryorder": "array",
         "domain": [
          0,
          1
         ],
         "title": {
          "text": "label"
         }
        },
        "yaxis": {
         "anchor": "x",
         "domain": [
          0,
          1
         ],
         "title": {
          "text": "detection_scores"
         }
        }
       }
      },
      "text/html": [
       "<div>                            <div id=\"cd6b25b3-3266-4132-a9d8-32d89f94ab30\" class=\"plotly-graph-div\" style=\"height:525px; width:100%;\"></div>            <script type=\"text/javascript\">                require([\"plotly\"], function(Plotly) {                    window.PLOTLYENV=window.PLOTLYENV || {};                                    if (document.getElementById(\"cd6b25b3-3266-4132-a9d8-32d89f94ab30\")) {                    Plotly.newPlot(                        \"cd6b25b3-3266-4132-a9d8-32d89f94ab30\",                        [{\"alignmentgroup\": \"True\", \"hovertemplate\": \"label=%{x}<br>detection_scores=%{y}<extra></extra>\", \"legendgroup\": \"nozzle\", \"marker\": {\"color\": \"#636efa\"}, \"name\": \"nozzle\", \"notched\": false, \"offsetgroup\": \"nozzle\", \"orientation\": \"v\", \"showlegend\": true, \"type\": \"box\", \"x\": [\"nozzle\", \"nozzle\", \"nozzle\", \"nozzle\", \"nozzle\", \"nozzle\", \"nozzle\", \"nozzle\", \"nozzle\", \"nozzle\", \"nozzle\", \"nozzle\", \"nozzle\", \"nozzle\", \"nozzle\", \"nozzle\", \"nozzle\", \"nozzle\", \"nozzle\", \"nozzle\", \"nozzle\", \"nozzle\", \"nozzle\", \"nozzle\", \"nozzle\", \"nozzle\", \"nozzle\", \"nozzle\", \"nozzle\", \"nozzle\", \"nozzle\", \"nozzle\", \"nozzle\", \"nozzle\", \"nozzle\", \"nozzle\", \"nozzle\", \"nozzle\", \"nozzle\", \"nozzle\", \"nozzle\", \"nozzle\", \"nozzle\", \"nozzle\", \"nozzle\", \"nozzle\", \"nozzle\", \"nozzle\", \"nozzle\", \"nozzle\", \"nozzle\", \"nozzle\", \"nozzle\", \"nozzle\", \"nozzle\", \"nozzle\", \"nozzle\", \"nozzle\", \"nozzle\", \"nozzle\", \"nozzle\", \"nozzle\", \"nozzle\", \"nozzle\", \"nozzle\", \"nozzle\", \"nozzle\", \"nozzle\", \"nozzle\", \"nozzle\", \"nozzle\", \"nozzle\", \"nozzle\", \"nozzle\", \"nozzle\", \"nozzle\", \"nozzle\", \"nozzle\", \"nozzle\", \"nozzle\", \"nozzle\", \"nozzle\", \"nozzle\", \"nozzle\", \"nozzle\", \"nozzle\", \"nozzle\", \"nozzle\", \"nozzle\", \"nozzle\", \"nozzle\", \"nozzle\", \"nozzle\", \"nozzle\", \"nozzle\", \"nozzle\", \"nozzle\", \"nozzle\", \"nozzle\", \"nozzle\", \"nozzle\", \"nozzle\", \"nozzle\", \"nozzle\", \"nozzle\", \"nozzle\", \"nozzle\", \"nozzle\", \"nozzle\", \"nozzle\", \"nozzle\", \"nozzle\", \"nozzle\", \"nozzle\", \"nozzle\", \"nozzle\", \"nozzle\", \"nozzle\", \"nozzle\", \"nozzle\", \"nozzle\", \"nozzle\", \"nozzle\", \"nozzle\", \"nozzle\", \"nozzle\", \"nozzle\", \"nozzle\", \"nozzle\", \"nozzle\", \"nozzle\", \"nozzle\", \"nozzle\", \"nozzle\", \"nozzle\", \"nozzle\", \"nozzle\", \"nozzle\", \"nozzle\", \"nozzle\", \"nozzle\", \"nozzle\", \"nozzle\", \"nozzle\", \"nozzle\", \"nozzle\", \"nozzle\", \"nozzle\", \"nozzle\", \"nozzle\", \"nozzle\", \"nozzle\", \"nozzle\", \"nozzle\", \"nozzle\", \"nozzle\", \"nozzle\", \"nozzle\", \"nozzle\", \"nozzle\", \"nozzle\", \"nozzle\", \"nozzle\", \"nozzle\", \"nozzle\", \"nozzle\", \"nozzle\", \"nozzle\", \"nozzle\", \"nozzle\", \"nozzle\", \"nozzle\", \"nozzle\", \"nozzle\", \"nozzle\", \"nozzle\", \"nozzle\", \"nozzle\", \"nozzle\", \"nozzle\", \"nozzle\", \"nozzle\", \"nozzle\", \"nozzle\", \"nozzle\", \"nozzle\", \"nozzle\", \"nozzle\", \"nozzle\", \"nozzle\", \"nozzle\", \"nozzle\", \"nozzle\", \"nozzle\", \"nozzle\", \"nozzle\", \"nozzle\", \"nozzle\", \"nozzle\", \"nozzle\", \"nozzle\", \"nozzle\", \"nozzle\", \"nozzle\", \"nozzle\", \"nozzle\", \"nozzle\", \"nozzle\", \"nozzle\", \"nozzle\", \"nozzle\", \"nozzle\", \"nozzle\", \"nozzle\", \"nozzle\", \"nozzle\", \"nozzle\", \"nozzle\"], \"x0\": \" \", \"xaxis\": \"x\", \"y\": [0.75, 0.71875, 0.75, 0.71875, 0.71875, 0.71875, 0.75, 0.71875, 0.71875, 0.6171875, 0.578125, 0.578125, 0.65234375, 0.578125, 0.5390625, 0.578125, 0.578125, 0.578125, 0.5390625, 0.5390625, 0.5390625, 0.6171875, 0.65234375, 0.5390625, 0.65234375, 0.578125, 0.578125, 0.5390625, 0.6171875, 0.5390625, 0.578125, 0.5390625, 0.5390625, 0.578125, 0.5390625, 0.65234375, 0.65234375, 0.65234375, 0.65234375, 0.75, 0.71875, 0.6875, 0.71875, 0.71875, 0.75, 0.75, 0.75, 0.6875, 0.65234375, 0.6875, 0.6875, 0.71875, 0.6875, 0.71875, 0.71875, 0.71875, 0.75, 0.71875, 0.75, 0.71875, 0.75, 0.6875, 0.65234375, 0.75, 0.71875, 0.65234375, 0.6875, 0.65234375, 0.6875, 0.71875, 0.71875, 0.6171875, 0.71875, 0.6875, 0.6875, 0.71875, 0.75, 0.6875, 0.65234375, 0.6875, 0.71875, 0.6875, 0.71875, 0.6875, 0.71875, 0.75, 0.71875, 0.71875, 0.78125, 0.75, 0.71875, 0.65234375, 0.78125, 0.6875, 0.78125, 0.71875, 0.75, 0.71875, 0.75, 0.78125, 0.75, 0.78125, 0.78125, 0.75, 0.71875, 0.75, 0.75, 0.71875, 0.75, 0.8046875, 0.71875, 0.8046875, 0.71875, 0.65234375, 0.71875, 0.65234375, 0.71875, 0.75, 0.71875, 0.828125, 0.75, 0.78125, 0.8046875, 0.8046875, 0.78125, 0.75, 0.8046875, 0.78125, 0.75, 0.8046875, 0.828125, 0.8046875, 0.828125, 0.8046875, 0.71875, 0.8046875, 0.71875, 0.71875, 0.8046875, 0.8046875, 0.8046875, 0.78125, 0.71875, 0.71875, 0.6171875, 0.5390625, 0.5390625, 0.6875, 0.5390625, 0.5390625, 0.6875, 0.5390625, 0.578125, 0.578125, 0.578125, 0.578125, 0.578125, 0.6171875, 0.578125, 0.65234375, 0.75, 0.75, 0.71875, 0.75, 0.71875, 0.71875, 0.71875, 0.71875, 0.65234375, 0.6875, 0.6875, 0.6875, 0.65234375, 0.6875, 0.6875, 0.65234375, 0.65234375, 0.578125, 0.71875, 0.6171875, 0.6171875, 0.578125, 0.65234375, 0.75, 0.578125, 0.6171875, 0.5390625, 0.6171875, 0.5390625, 0.75, 0.65234375, 0.71875, 0.75, 0.5390625, 0.578125, 0.5390625, 0.6171875, 0.6171875, 0.6171875, 0.5390625, 0.6171875, 0.6171875, 0.65234375, 0.6875, 0.71875, 0.71875, 0.6875, 0.578125, 0.5390625, 0.65234375, 0.5390625, 0.578125, 0.6171875, 0.78125, 0.65234375, 0.5390625, 0.578125, 0.578125], \"y0\": \" \", \"yaxis\": \"y\"}, {\"alignmentgroup\": \"True\", \"hovertemplate\": \"label=%{x}<br>detection_scores=%{y}<extra></extra>\", \"legendgroup\": \"print\", \"marker\": {\"color\": \"#EF553B\"}, \"name\": \"print\", \"notched\": false, \"offsetgroup\": \"print\", \"orientation\": \"v\", \"showlegend\": true, \"type\": \"box\", \"x\": [\"print\", \"print\", \"print\", \"print\", \"print\", \"print\", \"print\", \"print\", \"print\", \"print\", \"print\", \"print\", \"print\", \"print\", \"print\", \"print\", \"print\", \"print\", \"print\", \"print\", \"print\", \"print\", \"print\", \"print\", \"print\", \"print\", \"print\", \"print\", \"print\", \"print\", \"print\", \"print\", \"print\", \"print\", \"print\", \"print\", \"print\", \"print\", \"print\", \"print\", \"print\", \"print\", \"print\", \"print\", \"print\", \"print\", \"print\", \"print\", \"print\", \"print\", \"print\", \"print\", \"print\", \"print\", \"print\", \"print\", \"print\", \"print\", \"print\", \"print\", \"print\", \"print\", \"print\", \"print\", \"print\", \"print\", \"print\", \"print\", \"print\", \"print\", \"print\", \"print\", \"print\", \"print\", \"print\", \"print\", \"print\", \"print\", \"print\", \"print\", \"print\", \"print\", \"print\", \"print\", \"print\", \"print\", \"print\", \"print\", \"print\", \"print\", \"print\", \"print\", \"print\", \"print\", \"print\", \"print\", \"print\", \"print\", \"print\", \"print\", \"print\", \"print\", \"print\", \"print\", \"print\", \"print\", \"print\", \"print\", \"print\", \"print\", \"print\", \"print\", \"print\", \"print\", \"print\", \"print\", \"print\", \"print\", \"print\", \"print\", \"print\", \"print\", \"print\", \"print\", \"print\", \"print\", \"print\", \"print\", \"print\", \"print\", \"print\", \"print\", \"print\", \"print\", \"print\", \"print\", \"print\", \"print\", \"print\", \"print\", \"print\", \"print\", \"print\", \"print\", \"print\", \"print\", \"print\", \"print\", \"print\", \"print\", \"print\", \"print\", \"print\", \"print\", \"print\", \"print\", \"print\", \"print\", \"print\", \"print\", \"print\", \"print\", \"print\", \"print\", \"print\", \"print\", \"print\", \"print\", \"print\", \"print\", \"print\", \"print\", \"print\", \"print\", \"print\", \"print\", \"print\", \"print\", \"print\", \"print\", \"print\", \"print\", \"print\", \"print\", \"print\", \"print\", \"print\", \"print\", \"print\", \"print\", \"print\", \"print\", \"print\", \"print\", \"print\", \"print\", \"print\", \"print\", \"print\", \"print\", \"print\", \"print\", \"print\", \"print\", \"print\", \"print\", \"print\", \"print\", \"print\", \"print\", \"print\", \"print\", \"print\", \"print\", \"print\", \"print\", \"print\", \"print\", \"print\", \"print\", \"print\", \"print\", \"print\", \"print\", \"print\", \"print\", \"print\", \"print\", \"print\", \"print\", \"print\", \"print\", \"print\", \"print\", \"print\", \"print\", \"print\", \"print\", \"print\", \"print\", \"print\", \"print\", \"print\", \"print\", \"print\", \"print\"], \"x0\": \" \", \"xaxis\": \"x\", \"y\": [0.5390625, 0.6171875, 0.578125, 0.578125, 0.5390625, 0.578125, 0.6171875, 0.6875, 0.6875, 0.6875, 0.71875, 0.75, 0.75, 0.78125, 0.75, 0.8046875, 0.8046875, 0.828125, 0.828125, 0.8515625, 0.8515625, 0.8515625, 0.87109375, 0.87109375, 0.87109375, 0.87109375, 0.88671875, 0.87109375, 0.87109375, 0.87109375, 0.87109375, 0.8515625, 0.87109375, 0.8515625, 0.828125, 0.87109375, 0.87109375, 0.87109375, 0.87109375, 0.8515625, 0.8046875, 0.828125, 0.828125, 0.8046875, 0.78125, 0.8046875, 0.8046875, 0.8046875, 0.828125, 0.8046875, 0.8046875, 0.8046875, 0.8046875, 0.8046875, 0.8046875, 0.78125, 0.75, 0.8046875, 0.75, 0.78125, 0.78125, 0.78125, 0.75, 0.75, 0.75, 0.75, 0.71875, 0.75, 0.75, 0.71875, 0.71875, 0.75, 0.75, 0.75, 0.6875, 0.75, 0.71875, 0.6875, 0.75, 0.75, 0.71875, 0.75, 0.75, 0.75, 0.75, 0.75, 0.78125, 0.8046875, 0.8046875, 0.78125, 0.8046875, 0.8046875, 0.8515625, 0.8046875, 0.8046875, 0.8046875, 0.78125, 0.828125, 0.78125, 0.78125, 0.75, 0.75, 0.8046875, 0.8046875, 0.78125, 0.78125, 0.78125, 0.8046875, 0.78125, 0.78125, 0.75, 0.75, 0.78125, 0.75, 0.78125, 0.75, 0.78125, 0.75, 0.8046875, 0.88671875, 0.71875, 0.5390625, 0.6171875, 0.5390625, 0.6171875, 0.6875, 0.6171875, 0.65234375, 0.6875, 0.75, 0.78125, 0.71875, 0.75, 0.65234375, 0.828125, 0.8046875, 0.8046875, 0.65234375, 0.6171875, 0.6171875, 0.6171875, 0.6171875, 0.8046875, 0.78125, 0.8046875, 0.75, 0.5390625, 0.78125, 0.828125, 0.8046875, 0.78125, 0.78125, 0.8046875, 0.78125, 0.78125, 0.8046875, 0.78125, 0.75, 0.78125, 0.78125, 0.78125, 0.8046875, 0.75, 0.78125, 0.78125, 0.78125, 0.8515625, 0.8515625, 0.828125, 0.8515625, 0.8515625, 0.87109375, 0.8515625, 0.8515625, 0.87109375, 0.8515625, 0.87109375, 0.88671875, 0.87109375, 0.87109375, 0.87109375, 0.8515625, 0.8515625, 0.8046875, 0.828125, 0.78125, 0.78125, 0.8046875, 0.75, 0.75, 0.75, 0.75, 0.75, 0.71875, 0.6875, 0.6875, 0.71875, 0.8046875, 0.6875, 0.6875, 0.6171875, 0.5390625, 0.5390625, 0.6171875, 0.6171875, 0.6171875, 0.6171875, 0.65234375, 0.6171875, 0.65234375, 0.6171875, 0.6875, 0.75, 0.78125, 0.8046875, 0.8046875, 0.8046875, 0.8046875, 0.8046875, 0.8046875, 0.8046875, 0.8046875, 0.75, 0.75, 0.71875, 0.8046875, 0.75, 0.78125, 0.78125, 0.8046875, 0.75, 0.75, 0.71875, 0.6875, 0.6875, 0.6875, 0.71875, 0.71875, 0.71875, 0.71875, 0.8046875, 0.8046875, 0.75, 0.71875, 0.71875, 0.75], \"y0\": \" \", \"yaxis\": \"y\"}, {\"alignmentgroup\": \"True\", \"hovertemplate\": \"label=%{x}<br>detection_scores=%{y}<extra></extra>\", \"legendgroup\": \"raft\", \"marker\": {\"color\": \"#00cc96\"}, \"name\": \"raft\", \"notched\": false, \"offsetgroup\": \"raft\", \"orientation\": \"v\", \"showlegend\": true, \"type\": \"box\", \"x\": [\"raft\", \"raft\", \"raft\", \"raft\", \"raft\", \"raft\", \"raft\", \"raft\", \"raft\", \"raft\", \"raft\", \"raft\", \"raft\", \"raft\", \"raft\", \"raft\", \"raft\", \"raft\", \"raft\", \"raft\", \"raft\", \"raft\", \"raft\", \"raft\", \"raft\", \"raft\", \"raft\", \"raft\", \"raft\", \"raft\", \"raft\", \"raft\", \"raft\", \"raft\", \"raft\", \"raft\", \"raft\", \"raft\", \"raft\", \"raft\", \"raft\", \"raft\", \"raft\", \"raft\", \"raft\", \"raft\", \"raft\", \"raft\", \"raft\", \"raft\", \"raft\", \"raft\", \"raft\", \"raft\", \"raft\", \"raft\", \"raft\", \"raft\", \"raft\", \"raft\", \"raft\", \"raft\", \"raft\", \"raft\", \"raft\", \"raft\", \"raft\", \"raft\", \"raft\", \"raft\", \"raft\", \"raft\", \"raft\", \"raft\", \"raft\", \"raft\", \"raft\", \"raft\", \"raft\", \"raft\", \"raft\", \"raft\", \"raft\", \"raft\", \"raft\", \"raft\", \"raft\", \"raft\", \"raft\", \"raft\", \"raft\", \"raft\", \"raft\", \"raft\", \"raft\", \"raft\", \"raft\", \"raft\", \"raft\", \"raft\", \"raft\", \"raft\", \"raft\", \"raft\", \"raft\", \"raft\", \"raft\", \"raft\", \"raft\", \"raft\", \"raft\", \"raft\", \"raft\", \"raft\", \"raft\", \"raft\", \"raft\", \"raft\", \"raft\", \"raft\", \"raft\", \"raft\", \"raft\", \"raft\", \"raft\", \"raft\", \"raft\", \"raft\", \"raft\", \"raft\", \"raft\", \"raft\", \"raft\", \"raft\", \"raft\", \"raft\", \"raft\", \"raft\", \"raft\", \"raft\", \"raft\", \"raft\", \"raft\", \"raft\", \"raft\", \"raft\", \"raft\", \"raft\", \"raft\", \"raft\", \"raft\", \"raft\", \"raft\", \"raft\", \"raft\", \"raft\", \"raft\", \"raft\", \"raft\", \"raft\", \"raft\", \"raft\", \"raft\", \"raft\", \"raft\", \"raft\", \"raft\", \"raft\", \"raft\", \"raft\", \"raft\", \"raft\"], \"x0\": \" \", \"xaxis\": \"x\", \"y\": [0.5390625, 0.578125, 0.6171875, 0.6875, 0.71875, 0.6875, 0.75, 0.75, 0.75, 0.78125, 0.78125, 0.75, 0.71875, 0.71875, 0.6875, 0.6875, 0.65234375, 0.6171875, 0.578125, 0.5390625, 0.6171875, 0.65234375, 0.71875, 0.78125, 0.75, 0.8046875, 0.8046875, 0.8046875, 0.78125, 0.8046875, 0.75, 0.75, 0.78125, 0.75, 0.71875, 0.6875, 0.71875, 0.6875, 0.71875, 0.71875, 0.6875, 0.71875, 0.6875, 0.71875, 0.75, 0.8046875, 0.8046875, 0.8515625, 0.8515625, 0.828125, 0.8046875, 0.8046875, 0.8046875, 0.8046875, 0.8046875, 0.8046875, 0.75, 0.75, 0.71875, 0.6875, 0.6875, 0.6171875, 0.5390625, 0.5390625, 0.5390625, 0.6875, 0.6875, 0.75, 0.78125, 0.78125, 0.8046875, 0.75, 0.8046875, 0.8046875, 0.8046875, 0.8046875, 0.8046875, 0.78125, 0.75, 0.75, 0.6875, 0.75, 0.78125, 0.75, 0.8046875, 0.8046875, 0.8046875, 0.8046875, 0.8046875, 0.87109375, 0.8046875, 0.8046875, 0.828125, 0.8046875, 0.8046875, 0.75, 0.71875, 0.71875, 0.6875, 0.65234375, 0.65234375, 0.65234375, 0.6171875, 0.5390625, 0.5390625, 0.5390625, 0.5390625, 0.65234375, 0.87109375, 0.71875, 0.9140625, 0.90234375, 0.88671875, 0.90234375, 0.88671875, 0.6171875, 0.78125, 0.90234375, 0.88671875, 0.87109375, 0.8046875, 0.8515625, 0.8046875, 0.71875, 0.8046875, 0.78125, 0.578125, 0.88671875, 0.88671875, 0.88671875, 0.87109375, 0.87109375, 0.8515625, 0.8046875, 0.78125, 0.8046875, 0.87109375, 0.87109375, 0.578125, 0.828125, 0.6171875, 0.8046875, 0.90234375, 0.8515625, 0.87109375, 0.87109375, 0.8515625, 0.828125, 0.87109375, 0.8515625, 0.8515625, 0.87109375, 0.8515625, 0.87109375, 0.87109375, 0.8515625, 0.87109375, 0.88671875, 0.87109375, 0.88671875, 0.8046875, 0.78125, 0.75, 0.65234375, 0.78125, 0.8046875, 0.6875, 0.75, 0.6171875, 0.65234375, 0.578125, 0.578125], \"y0\": \" \", \"yaxis\": \"y\"}, {\"alignmentgroup\": \"True\", \"hovertemplate\": \"label=%{x}<br>detection_scores=%{y}<extra></extra>\", \"legendgroup\": \"spaghetti\", \"marker\": {\"color\": \"#ab63fa\"}, \"name\": \"spaghetti\", \"notched\": false, \"offsetgroup\": \"spaghetti\", \"orientation\": \"v\", \"showlegend\": true, \"type\": \"box\", \"x\": [\"spaghetti\", \"spaghetti\", \"spaghetti\", \"spaghetti\", \"spaghetti\", \"spaghetti\", \"spaghetti\", \"spaghetti\", \"spaghetti\", \"spaghetti\", \"spaghetti\", \"spaghetti\", \"spaghetti\", \"spaghetti\", \"spaghetti\", \"spaghetti\", \"spaghetti\", \"spaghetti\", \"spaghetti\", \"spaghetti\", \"spaghetti\", \"spaghetti\", \"spaghetti\", \"spaghetti\", \"spaghetti\", \"spaghetti\", \"spaghetti\", \"spaghetti\", \"spaghetti\", \"spaghetti\", \"spaghetti\", \"spaghetti\", \"spaghetti\", \"spaghetti\", \"spaghetti\", \"spaghetti\", \"spaghetti\", \"spaghetti\", \"spaghetti\", \"spaghetti\", \"spaghetti\", \"spaghetti\", \"spaghetti\", \"spaghetti\", \"spaghetti\", \"spaghetti\", \"spaghetti\", \"spaghetti\", \"spaghetti\", \"spaghetti\", \"spaghetti\", \"spaghetti\", \"spaghetti\", \"spaghetti\", \"spaghetti\", \"spaghetti\", \"spaghetti\", \"spaghetti\", \"spaghetti\", \"spaghetti\", \"spaghetti\", \"spaghetti\", \"spaghetti\", \"spaghetti\", \"spaghetti\", \"spaghetti\", \"spaghetti\", \"spaghetti\", \"spaghetti\", \"spaghetti\", \"spaghetti\", \"spaghetti\", \"spaghetti\", \"spaghetti\", \"spaghetti\", \"spaghetti\", \"spaghetti\", \"spaghetti\", \"spaghetti\", \"spaghetti\", \"spaghetti\", \"spaghetti\", \"spaghetti\", \"spaghetti\", \"spaghetti\", \"spaghetti\", \"spaghetti\", \"spaghetti\", \"spaghetti\", \"spaghetti\", \"spaghetti\", \"spaghetti\", \"spaghetti\", \"spaghetti\", \"spaghetti\", \"spaghetti\", \"spaghetti\", \"spaghetti\", \"spaghetti\", \"spaghetti\", \"spaghetti\", \"spaghetti\", \"spaghetti\", \"spaghetti\", \"spaghetti\", \"spaghetti\", \"spaghetti\", \"spaghetti\", \"spaghetti\", \"spaghetti\", \"spaghetti\", \"spaghetti\", \"spaghetti\", \"spaghetti\", \"spaghetti\", \"spaghetti\", \"spaghetti\", \"spaghetti\", \"spaghetti\", \"spaghetti\", \"spaghetti\", \"spaghetti\", \"spaghetti\", \"spaghetti\", \"spaghetti\", \"spaghetti\", \"spaghetti\", \"spaghetti\", \"spaghetti\", \"spaghetti\", \"spaghetti\"], \"x0\": \" \", \"xaxis\": \"x\", \"y\": [0.6171875, 0.71875, 0.87109375, 0.78125, 0.90234375, 0.71875, 0.75, 0.78125, 0.6171875, 0.75, 0.75, 0.78125, 0.75, 0.87109375, 0.65234375, 0.8046875, 0.8046875, 0.8515625, 0.75, 0.88671875, 0.828125, 0.8046875, 0.828125, 0.8046875, 0.78125, 0.8046875, 0.8046875, 0.75, 0.578125, 0.6171875, 0.6171875, 0.8515625, 0.828125, 0.5390625, 0.92578125, 0.6875, 0.6171875, 0.5390625, 0.88671875, 0.78125, 0.65234375, 0.6171875, 0.78125, 0.5390625, 0.6171875, 0.6171875, 0.5390625, 0.578125, 0.5390625, 0.5390625, 0.71875, 0.71875, 0.6875, 0.78125, 0.65234375, 0.71875, 0.71875, 0.6171875, 0.8046875, 0.71875, 0.5390625, 0.65234375, 0.578125, 0.75, 0.8515625, 0.78125, 0.6171875, 0.87109375, 0.90234375, 0.90234375, 0.90234375, 0.90234375, 0.90234375, 0.9140625, 0.92578125, 0.90234375, 0.88671875, 0.90234375, 0.87109375, 0.88671875, 0.88671875, 0.8515625, 0.8515625, 0.88671875, 0.88671875, 0.90234375, 0.88671875, 0.8046875, 0.88671875, 0.8046875, 0.90234375, 0.88671875, 0.8515625, 0.8515625, 0.88671875, 0.92578125, 0.90234375, 0.88671875, 0.87109375, 0.8515625, 0.8515625, 0.8515625, 0.87109375, 0.88671875, 0.90234375, 0.92578125, 0.92578125, 0.90234375, 0.88671875, 0.88671875, 0.90234375, 0.90234375, 0.90234375, 0.88671875, 0.88671875, 0.88671875, 0.90234375, 0.88671875, 0.87109375, 0.8515625, 0.8046875, 0.8515625, 0.8515625, 0.87109375, 0.8515625, 0.88671875, 0.8515625, 0.8046875, 0.8046875, 0.8046875, 0.78125], \"y0\": \" \", \"yaxis\": \"y\"}, {\"alignmentgroup\": \"True\", \"hovertemplate\": \"label=%{x}<br>detection_scores=%{y}<extra></extra>\", \"legendgroup\": \"adhesion\", \"marker\": {\"color\": \"#FFA15A\"}, \"name\": \"adhesion\", \"notched\": false, \"offsetgroup\": \"adhesion\", \"orientation\": \"v\", \"showlegend\": true, \"type\": \"box\", \"x\": [\"adhesion\", \"adhesion\", \"adhesion\", \"adhesion\", \"adhesion\", \"adhesion\", \"adhesion\", \"adhesion\", \"adhesion\", \"adhesion\", \"adhesion\", \"adhesion\", \"adhesion\", \"adhesion\", \"adhesion\", \"adhesion\", \"adhesion\", \"adhesion\", \"adhesion\", \"adhesion\", \"adhesion\", \"adhesion\", \"adhesion\", \"adhesion\", \"adhesion\", \"adhesion\", \"adhesion\", \"adhesion\", \"adhesion\", \"adhesion\", \"adhesion\", \"adhesion\", \"adhesion\", \"adhesion\", \"adhesion\", \"adhesion\", \"adhesion\", \"adhesion\", \"adhesion\", \"adhesion\", \"adhesion\", \"adhesion\", \"adhesion\", \"adhesion\", \"adhesion\", \"adhesion\", \"adhesion\", \"adhesion\", \"adhesion\", \"adhesion\", \"adhesion\", \"adhesion\", \"adhesion\", \"adhesion\", \"adhesion\", \"adhesion\", \"adhesion\"], \"x0\": \" \", \"xaxis\": \"x\", \"y\": [0.6171875, 0.6875, 0.75, 0.5390625, 0.6171875, 0.6875, 0.78125, 0.75, 0.78125, 0.78125, 0.8046875, 0.8046875, 0.8046875, 0.78125, 0.8046875, 0.8046875, 0.78125, 0.8046875, 0.75, 0.8046875, 0.78125, 0.78125, 0.8046875, 0.71875, 0.71875, 0.65234375, 0.5390625, 0.5390625, 0.6171875, 0.5390625, 0.5390625, 0.6171875, 0.6171875, 0.5390625, 0.6875, 0.65234375, 0.6875, 0.6171875, 0.6875, 0.6171875, 0.6875, 0.6171875, 0.6171875, 0.6171875, 0.65234375, 0.6171875, 0.75, 0.6171875, 0.578125, 0.5390625, 0.578125, 0.65234375, 0.6171875, 0.5390625, 0.78125, 0.5390625, 0.6171875], \"y0\": \" \", \"yaxis\": \"y\"}],                        {\"boxmode\": \"overlay\", \"legend\": {\"title\": {\"text\": \"label\"}, \"tracegroupgap\": 0}, \"template\": {\"data\": {\"bar\": [{\"error_x\": {\"color\": \"#2a3f5f\"}, \"error_y\": {\"color\": \"#2a3f5f\"}, \"marker\": {\"line\": {\"color\": \"#E5ECF6\", \"width\": 0.5}}, \"type\": \"bar\"}], \"barpolar\": [{\"marker\": {\"line\": {\"color\": \"#E5ECF6\", \"width\": 0.5}}, \"type\": \"barpolar\"}], \"carpet\": [{\"aaxis\": {\"endlinecolor\": \"#2a3f5f\", \"gridcolor\": \"white\", \"linecolor\": \"white\", \"minorgridcolor\": \"white\", \"startlinecolor\": \"#2a3f5f\"}, \"baxis\": {\"endlinecolor\": \"#2a3f5f\", \"gridcolor\": \"white\", \"linecolor\": \"white\", \"minorgridcolor\": \"white\", \"startlinecolor\": \"#2a3f5f\"}, \"type\": \"carpet\"}], \"choropleth\": [{\"colorbar\": {\"outlinewidth\": 0, \"ticks\": \"\"}, \"type\": \"choropleth\"}], \"contour\": [{\"colorbar\": {\"outlinewidth\": 0, \"ticks\": \"\"}, \"colorscale\": [[0.0, \"#0d0887\"], [0.1111111111111111, \"#46039f\"], [0.2222222222222222, \"#7201a8\"], [0.3333333333333333, \"#9c179e\"], [0.4444444444444444, \"#bd3786\"], [0.5555555555555556, \"#d8576b\"], [0.6666666666666666, \"#ed7953\"], [0.7777777777777778, \"#fb9f3a\"], [0.8888888888888888, \"#fdca26\"], [1.0, \"#f0f921\"]], \"type\": \"contour\"}], \"contourcarpet\": [{\"colorbar\": {\"outlinewidth\": 0, \"ticks\": \"\"}, \"type\": \"contourcarpet\"}], \"heatmap\": [{\"colorbar\": {\"outlinewidth\": 0, \"ticks\": \"\"}, \"colorscale\": [[0.0, \"#0d0887\"], [0.1111111111111111, \"#46039f\"], [0.2222222222222222, \"#7201a8\"], [0.3333333333333333, \"#9c179e\"], [0.4444444444444444, \"#bd3786\"], [0.5555555555555556, \"#d8576b\"], [0.6666666666666666, \"#ed7953\"], [0.7777777777777778, \"#fb9f3a\"], [0.8888888888888888, \"#fdca26\"], [1.0, \"#f0f921\"]], \"type\": \"heatmap\"}], \"heatmapgl\": [{\"colorbar\": {\"outlinewidth\": 0, \"ticks\": \"\"}, \"colorscale\": [[0.0, \"#0d0887\"], [0.1111111111111111, \"#46039f\"], [0.2222222222222222, \"#7201a8\"], [0.3333333333333333, \"#9c179e\"], [0.4444444444444444, \"#bd3786\"], [0.5555555555555556, \"#d8576b\"], [0.6666666666666666, \"#ed7953\"], [0.7777777777777778, \"#fb9f3a\"], [0.8888888888888888, \"#fdca26\"], [1.0, \"#f0f921\"]], \"type\": \"heatmapgl\"}], \"histogram\": [{\"marker\": {\"colorbar\": {\"outlinewidth\": 0, \"ticks\": \"\"}}, \"type\": \"histogram\"}], \"histogram2d\": [{\"colorbar\": {\"outlinewidth\": 0, \"ticks\": \"\"}, \"colorscale\": [[0.0, \"#0d0887\"], [0.1111111111111111, \"#46039f\"], [0.2222222222222222, \"#7201a8\"], [0.3333333333333333, \"#9c179e\"], [0.4444444444444444, \"#bd3786\"], [0.5555555555555556, \"#d8576b\"], [0.6666666666666666, \"#ed7953\"], [0.7777777777777778, \"#fb9f3a\"], [0.8888888888888888, \"#fdca26\"], [1.0, \"#f0f921\"]], \"type\": \"histogram2d\"}], \"histogram2dcontour\": [{\"colorbar\": {\"outlinewidth\": 0, \"ticks\": \"\"}, \"colorscale\": [[0.0, \"#0d0887\"], [0.1111111111111111, \"#46039f\"], [0.2222222222222222, \"#7201a8\"], [0.3333333333333333, \"#9c179e\"], [0.4444444444444444, \"#bd3786\"], [0.5555555555555556, \"#d8576b\"], [0.6666666666666666, \"#ed7953\"], [0.7777777777777778, \"#fb9f3a\"], [0.8888888888888888, \"#fdca26\"], [1.0, \"#f0f921\"]], \"type\": \"histogram2dcontour\"}], \"mesh3d\": [{\"colorbar\": {\"outlinewidth\": 0, \"ticks\": \"\"}, \"type\": \"mesh3d\"}], \"parcoords\": [{\"line\": {\"colorbar\": {\"outlinewidth\": 0, \"ticks\": \"\"}}, \"type\": \"parcoords\"}], \"pie\": [{\"automargin\": true, \"type\": \"pie\"}], \"scatter\": [{\"marker\": {\"colorbar\": {\"outlinewidth\": 0, \"ticks\": \"\"}}, \"type\": \"scatter\"}], \"scatter3d\": [{\"line\": {\"colorbar\": {\"outlinewidth\": 0, \"ticks\": \"\"}}, \"marker\": {\"colorbar\": {\"outlinewidth\": 0, \"ticks\": \"\"}}, \"type\": \"scatter3d\"}], \"scattercarpet\": [{\"marker\": {\"colorbar\": {\"outlinewidth\": 0, \"ticks\": \"\"}}, \"type\": \"scattercarpet\"}], \"scattergeo\": [{\"marker\": {\"colorbar\": {\"outlinewidth\": 0, \"ticks\": \"\"}}, \"type\": \"scattergeo\"}], \"scattergl\": [{\"marker\": {\"colorbar\": {\"outlinewidth\": 0, \"ticks\": \"\"}}, \"type\": \"scattergl\"}], \"scattermapbox\": [{\"marker\": {\"colorbar\": {\"outlinewidth\": 0, \"ticks\": \"\"}}, \"type\": \"scattermapbox\"}], \"scatterpolar\": [{\"marker\": {\"colorbar\": {\"outlinewidth\": 0, \"ticks\": \"\"}}, \"type\": \"scatterpolar\"}], \"scatterpolargl\": [{\"marker\": {\"colorbar\": {\"outlinewidth\": 0, \"ticks\": \"\"}}, \"type\": \"scatterpolargl\"}], \"scatterternary\": [{\"marker\": {\"colorbar\": {\"outlinewidth\": 0, \"ticks\": \"\"}}, \"type\": \"scatterternary\"}], \"surface\": [{\"colorbar\": {\"outlinewidth\": 0, \"ticks\": \"\"}, \"colorscale\": [[0.0, \"#0d0887\"], [0.1111111111111111, \"#46039f\"], [0.2222222222222222, \"#7201a8\"], [0.3333333333333333, \"#9c179e\"], [0.4444444444444444, \"#bd3786\"], [0.5555555555555556, \"#d8576b\"], [0.6666666666666666, \"#ed7953\"], [0.7777777777777778, \"#fb9f3a\"], [0.8888888888888888, \"#fdca26\"], [1.0, \"#f0f921\"]], \"type\": \"surface\"}], \"table\": [{\"cells\": {\"fill\": {\"color\": \"#EBF0F8\"}, \"line\": {\"color\": \"white\"}}, \"header\": {\"fill\": {\"color\": \"#C8D4E3\"}, \"line\": {\"color\": \"white\"}}, \"type\": \"table\"}]}, \"layout\": {\"annotationdefaults\": {\"arrowcolor\": \"#2a3f5f\", \"arrowhead\": 0, \"arrowwidth\": 1}, \"coloraxis\": {\"colorbar\": {\"outlinewidth\": 0, \"ticks\": \"\"}}, \"colorscale\": {\"diverging\": [[0, \"#8e0152\"], [0.1, \"#c51b7d\"], [0.2, \"#de77ae\"], [0.3, \"#f1b6da\"], [0.4, \"#fde0ef\"], [0.5, \"#f7f7f7\"], [0.6, \"#e6f5d0\"], [0.7, \"#b8e186\"], [0.8, \"#7fbc41\"], [0.9, \"#4d9221\"], [1, \"#276419\"]], \"sequential\": [[0.0, \"#0d0887\"], [0.1111111111111111, \"#46039f\"], [0.2222222222222222, \"#7201a8\"], [0.3333333333333333, \"#9c179e\"], [0.4444444444444444, \"#bd3786\"], [0.5555555555555556, \"#d8576b\"], [0.6666666666666666, \"#ed7953\"], [0.7777777777777778, \"#fb9f3a\"], [0.8888888888888888, \"#fdca26\"], [1.0, \"#f0f921\"]], \"sequentialminus\": [[0.0, \"#0d0887\"], [0.1111111111111111, \"#46039f\"], [0.2222222222222222, \"#7201a8\"], [0.3333333333333333, \"#9c179e\"], [0.4444444444444444, \"#bd3786\"], [0.5555555555555556, \"#d8576b\"], [0.6666666666666666, \"#ed7953\"], [0.7777777777777778, \"#fb9f3a\"], [0.8888888888888888, \"#fdca26\"], [1.0, \"#f0f921\"]]}, \"colorway\": [\"#636efa\", \"#EF553B\", \"#00cc96\", \"#ab63fa\", \"#FFA15A\", \"#19d3f3\", \"#FF6692\", \"#B6E880\", \"#FF97FF\", \"#FECB52\"], \"font\": {\"color\": \"#2a3f5f\"}, \"geo\": {\"bgcolor\": \"white\", \"lakecolor\": \"white\", \"landcolor\": \"#E5ECF6\", \"showlakes\": true, \"showland\": true, \"subunitcolor\": \"white\"}, \"hoverlabel\": {\"align\": \"left\"}, \"hovermode\": \"closest\", \"mapbox\": {\"style\": \"light\"}, \"paper_bgcolor\": \"white\", \"plot_bgcolor\": \"#E5ECF6\", \"polar\": {\"angularaxis\": {\"gridcolor\": \"white\", \"linecolor\": \"white\", \"ticks\": \"\"}, \"bgcolor\": \"#E5ECF6\", \"radialaxis\": {\"gridcolor\": \"white\", \"linecolor\": \"white\", \"ticks\": \"\"}}, \"scene\": {\"xaxis\": {\"backgroundcolor\": \"#E5ECF6\", \"gridcolor\": \"white\", \"gridwidth\": 2, \"linecolor\": \"white\", \"showbackground\": true, \"ticks\": \"\", \"zerolinecolor\": \"white\"}, \"yaxis\": {\"backgroundcolor\": \"#E5ECF6\", \"gridcolor\": \"white\", \"gridwidth\": 2, \"linecolor\": \"white\", \"showbackground\": true, \"ticks\": \"\", \"zerolinecolor\": \"white\"}, \"zaxis\": {\"backgroundcolor\": \"#E5ECF6\", \"gridcolor\": \"white\", \"gridwidth\": 2, \"linecolor\": \"white\", \"showbackground\": true, \"ticks\": \"\", \"zerolinecolor\": \"white\"}}, \"shapedefaults\": {\"line\": {\"color\": \"#2a3f5f\"}}, \"ternary\": {\"aaxis\": {\"gridcolor\": \"white\", \"linecolor\": \"white\", \"ticks\": \"\"}, \"baxis\": {\"gridcolor\": \"white\", \"linecolor\": \"white\", \"ticks\": \"\"}, \"bgcolor\": \"#E5ECF6\", \"caxis\": {\"gridcolor\": \"white\", \"linecolor\": \"white\", \"ticks\": \"\"}}, \"title\": {\"x\": 0.05}, \"xaxis\": {\"automargin\": true, \"gridcolor\": \"white\", \"linecolor\": \"white\", \"ticks\": \"\", \"title\": {\"standoff\": 15}, \"zerolinecolor\": \"white\", \"zerolinewidth\": 2}, \"yaxis\": {\"automargin\": true, \"gridcolor\": \"white\", \"linecolor\": \"white\", \"ticks\": \"\", \"title\": {\"standoff\": 15}, \"zerolinecolor\": \"white\", \"zerolinewidth\": 2}}}, \"title\": {\"text\": \"Print Nanny's Confidence Distribution by Label\"}, \"xaxis\": {\"anchor\": \"y\", \"categoryarray\": [\"nozzle\", \"print\", \"raft\", \"spaghetti\", \"adhesion\"], \"categoryorder\": \"array\", \"domain\": [0.0, 1.0], \"title\": {\"text\": \"label\"}}, \"yaxis\": {\"anchor\": \"x\", \"domain\": [0.0, 1.0], \"title\": {\"text\": \"detection_scores\"}}},                        {\"responsive\": true}                    ).then(function(){\n",
       "                            \n",
       "var gd = document.getElementById('cd6b25b3-3266-4132-a9d8-32d89f94ab30');\n",
       "var x = new MutationObserver(function (mutations, observer) {{\n",
       "        var display = window.getComputedStyle(gd).display;\n",
       "        if (!display || display === 'none') {{\n",
       "            console.log([gd, 'removed!']);\n",
       "            Plotly.purge(gd);\n",
       "            observer.disconnect();\n",
       "        }}\n",
       "}});\n",
       "\n",
       "// Listen for the removal of the full notebook cells\n",
       "var notebookContainer = gd.closest('#notebook-container');\n",
       "if (notebookContainer) {{\n",
       "    x.observe(notebookContainer, {childList: true});\n",
       "}}\n",
       "\n",
       "// Listen for the clearing of the current output cell\n",
       "var outputEl = gd.closest('.output');\n",
       "if (outputEl) {{\n",
       "    x.observe(outputEl, {childList: true});\n",
       "}}\n",
       "\n",
       "                        })                };                });            </script>        </div>"
      ]
     },
     "metadata": {},
     "output_type": "display_data"
    }
   ],
   "source": [
    "\n",
    "pd.options.plotting.backend = \"plotly\"\n",
    "confident_df.reset_index().plot(\n",
    "    x='label',\n",
    "    y='detection_scores',\n",
    "    kind='box',\n",
    "    title=\"Print Nanny's Confidence Distribution by Label\",\n",
    "    color='label',\n",
    ")"
   ]
  },
  {
   "cell_type": "code",
   "execution_count": 10,
   "metadata": {},
   "outputs": [
    {
     "data": {
      "application/vnd.plotly.v1+json": {
       "config": {
        "plotlyServerURL": "https://plot.ly"
       },
       "data": [
        {
         "hovertemplate": "label=nozzle<br>frame_id=%{x}<br>y=%{y}<extra></extra>",
         "legendgroup": "nozzle",
         "line": {
          "color": "#636efa",
          "dash": "solid"
         },
         "mode": "lines",
         "name": "nozzle",
         "orientation": "v",
         "showlegend": true,
         "type": "scatter",
         "x": [
          2,
          3,
          4,
          5,
          6,
          7,
          8,
          9,
          10,
          11,
          13,
          14,
          15,
          16,
          17,
          18,
          19,
          20,
          21,
          23,
          24,
          25,
          26,
          27,
          28,
          29,
          30,
          31,
          32,
          33,
          34,
          35,
          36,
          37,
          38,
          39,
          40,
          41,
          42,
          43,
          44,
          45,
          46,
          47,
          48,
          49,
          50,
          51,
          52,
          53,
          54,
          55,
          56,
          57,
          58,
          59,
          60,
          61,
          62,
          63,
          64,
          65,
          66,
          67,
          68,
          69,
          70,
          71,
          72,
          73,
          74,
          75,
          76,
          77,
          78,
          79,
          80,
          81,
          82,
          83,
          84,
          85,
          86,
          87,
          88,
          89,
          90,
          91,
          92,
          93,
          94,
          95,
          96,
          97,
          98,
          99,
          100,
          101,
          102,
          103,
          104,
          105,
          106,
          107,
          108,
          109,
          110,
          111,
          112,
          113,
          114,
          115,
          116,
          117,
          118,
          119,
          120,
          121,
          122,
          123,
          124,
          125,
          126,
          127,
          128,
          129,
          130,
          131,
          132,
          133,
          134,
          135,
          136,
          137,
          138,
          139,
          140,
          141,
          142,
          143,
          144,
          145,
          147,
          149,
          150,
          151,
          153,
          154,
          155,
          156,
          162,
          165,
          166,
          167,
          168,
          169,
          170,
          171,
          175,
          176,
          177,
          178,
          179,
          180,
          181,
          182,
          183,
          184,
          185,
          186,
          187,
          188,
          189,
          190,
          191,
          192,
          193,
          194,
          195,
          197,
          198,
          199,
          200,
          201,
          203,
          204,
          205,
          206,
          207,
          208,
          209,
          210,
          211,
          212,
          213,
          214,
          215,
          216,
          217,
          218,
          219,
          220,
          221,
          222,
          223,
          224,
          225,
          226,
          227,
          228,
          230,
          236,
          237,
          238,
          239,
          247,
          276,
          278
         ],
         "xaxis": "x5",
         "y": [
          0.7363888888888892,
          0.7233046207264959,
          0.7105524781679674,
          0.6982113357656836,
          0.6750775496393703,
          0.6545342587665957,
          0.6372124595663997,
          0.6237431484578224,
          0.6231468900966175,
          0.6151992753623182,
          0.6180472524154582,
          0.6209729770531393,
          0.6273452596618349,
          0.6292202596618348,
          0.6464455012077286,
          0.6665089070048299,
          0.6667096920289846,
          0.6638217089371972,
          0.6662198067632843,
          0.6663768115942021,
          0.6582729468599026,
          0.6503336352656999,
          0.6330766908212552,
          0.6233831521739124,
          0.6126283212560378,
          0.6211050724637674,
          0.6165881642512069,
          0.611882548309178,
          0.6149456521739122,
          0.6261918780193226,
          0.6371369263285014,
          0.6406816123188397,
          0.640474788647342,
          0.6499033816425108,
          0.6555925422705304,
          0.6570538949275353,
          0.6812560386473419,
          0.7004778079710134,
          0.752019172705313,
          0.773329559178743,
          0.7863413345410617,
          0.7934895833333323,
          0.8002664553140086,
          0.8030155495169071,
          0.8068885869565207,
          0.804122886473429,
          0.7952845712560377,
          0.7858680555555546,
          0.7742753623188396,
          0.7667602657004824,
          0.7602558876811585,
          0.760372131642511,
          0.7615255132850233,
          0.7582487922705304,
          0.7646195652173905,
          0.7662922705313998,
          0.7681091485507234,
          0.7691636473429941,
          0.7708408816425111,
          0.7699803743961342,
          0.7760628019323662,
          0.7840655193236706,
          0.7875701992753613,
          0.7861413043478249,
          0.7799086654589361,
          0.7741878019323662,
          0.7686994263285013,
          0.7685567632850231,
          0.770822765700482,
          0.7741938405797091,
          0.7702717391304337,
          0.7650339673913034,
          0.7531023550724629,
          0.7504257246376802,
          0.7479196859903372,
          0.7341183574879218,
          0.711022795893719,
          0.7079347826086947,
          0.7030095108695643,
          0.6917330917874386,
          0.6869021739130428,
          0.6892753623188398,
          0.6952573973429943,
          0.7042406400966175,
          0.7075890700483084,
          0.7455842391304338,
          0.760744263285023,
          0.7581099033816413,
          0.7566176026570037,
          0.7547410929951681,
          0.7519089673913034,
          0.7568485809178733,
          0.7541372282608686,
          0.75494640700483,
          0.7576939915458927,
          0.7491440217391295,
          0.7338224637681152,
          0.7363798309178735,
          0.7296467391304338,
          0.7383197463768106,
          0.7520727657004821,
          0.7596225845410618,
          0.7702958937198058,
          0.7676879528985497,
          0.7700769927536221,
          0.770673309178743,
          0.7729430857487912,
          0.7834910929951681,
          0.7935356280193224,
          0.7878993055555545,
          0.7942134661835738,
          0.79172554347826,
          0.7748475241545882,
          0.7582450181159411,
          0.748462409420289,
          0.7332080314009654,
          0.7298943236714968,
          0.7358718297101441,
          0.7338201992753615,
          0.7297758152173904,
          0.7183318236714967,
          0.7088692632850231,
          0.705732940821255,
          0.7112213164251198,
          0.7251570048309167,
          0.7360431763285014,
          0.7580570652173902,
          0.7669399154589362,
          0.783485809178743,
          0.7902189009661824,
          0.7866304347826075,
          0.794818840579709,
          0.7806506642512068,
          0.7749018719806754,
          0.7639236111111101,
          0.769237620772946,
          0.7713987016908203,
          0.783598278985506,
          0.780842391304347,
          0.7738503925120762,
          0.773208786231883,
          0.7498769625603855,
          0.7377641908212552,
          0.7313911533816416,
          0.7640466485507237,
          0.7489575785024147,
          0.7048754528985498,
          0.706720259661835,
          0.6803540157004824,
          0.7184729770531391,
          0.7598724335748781,
          0.7501041666666656,
          0.7453057065217381,
          0.7695735205313999,
          0.7674041364734288,
          0.7697712862318831,
          0.7582397342995159,
          0.7429423309178734,
          0.684591636473429,
          0.6957148248792261,
          0.7328268417874387,
          0.7326479468599023,
          0.735581219806762,
          0.7371942934782598,
          0.7188594504830909,
          0.711003170289854,
          0.7393115942028975,
          0.7260597826086947,
          0.7184322161835739,
          0.6989070048309172,
          0.6918833031400956,
          0.6979898852656996,
          0.6823278985507237,
          0.6989439915458928,
          0.7032012379227044,
          0.7239930555555546,
          0.7166372282608687,
          0.7012915157004822,
          0.7238368055555546,
          0.696376811594202,
          0.7121761775362309,
          0.7184088164251197,
          0.7164643719806751,
          0.7352996678743953,
          0.7161133756038639,
          0.7159374999999991,
          0.7038330314009652,
          0.7306031099033806,
          0.7515708031400954,
          0.7596210748792261,
          0.7587220712560375,
          0.749796195652173,
          0.7374630132850231,
          0.6810620471014484,
          0.6563428442028977,
          0.7074962258454099,
          0.7287847222222213,
          0.7393153683574867,
          0.7362673611111101,
          0.7366017512077283,
          0.730540458937197,
          0.7467059178743951,
          0.7679528985507236,
          0.7649766002415449,
          0.7728781702898542,
          0.7829415760869552,
          0.7479762983091778,
          0.7474766002415452,
          0.7456099033816415,
          0.746194897342994,
          0.7745493659420281,
          0.7420848429951682,
          0.7236420591787431,
          0.71322765700483,
          0.7100890700483081,
          0.7562167874396123,
          0.7688066123188395,
          0.7589457440204723
         ],
         "yaxis": "y5"
        },
        {
         "hovertemplate": "label=print<br>frame_id=%{x}<br>y=%{y}<extra></extra>",
         "legendgroup": "print",
         "line": {
          "color": "#EF553B",
          "dash": "solid"
         },
         "mode": "lines",
         "name": "print",
         "orientation": "v",
         "showlegend": true,
         "type": "scatter",
         "x": [
          5,
          6,
          7,
          8,
          9,
          30,
          31,
          32,
          33,
          34,
          35,
          36,
          37,
          38,
          39,
          40,
          41,
          42,
          43,
          44,
          45,
          46,
          47,
          48,
          49,
          50,
          51,
          52,
          53,
          54,
          55,
          56,
          57,
          58,
          59,
          60,
          61,
          62,
          63,
          64,
          65,
          66,
          67,
          68,
          69,
          70,
          71,
          72,
          73,
          74,
          75,
          76,
          77,
          78,
          79,
          80,
          81,
          82,
          83,
          84,
          85,
          86,
          87,
          88,
          89,
          90,
          91,
          92,
          93,
          94,
          95,
          96,
          97,
          98,
          99,
          100,
          101,
          102,
          103,
          104,
          105,
          106,
          107,
          108,
          109,
          110,
          111,
          112,
          113,
          114,
          115,
          116,
          117,
          118,
          119,
          120,
          121,
          122,
          123,
          124,
          125,
          126,
          127,
          128,
          129,
          130,
          131,
          132,
          133,
          134,
          135,
          136,
          137,
          138,
          139,
          140,
          141,
          142,
          143,
          144,
          146,
          148,
          156,
          157,
          158,
          159,
          160,
          161,
          162,
          163,
          164,
          165,
          166,
          167,
          168,
          169,
          170,
          171,
          173,
          174,
          175,
          176,
          177,
          178,
          179,
          180,
          181,
          182,
          184,
          185,
          186,
          187,
          188,
          189,
          190,
          191,
          192,
          193,
          194,
          195,
          196,
          197,
          198,
          199,
          200,
          201,
          202,
          203,
          204,
          205,
          206,
          207,
          208,
          209,
          210,
          211,
          212,
          213,
          214,
          215,
          216,
          217,
          218,
          219,
          220,
          221,
          222,
          223,
          224,
          225,
          226,
          227,
          228,
          229,
          230,
          231,
          232,
          233,
          234,
          235,
          236,
          238,
          239,
          240,
          241,
          242,
          243,
          244,
          245,
          246,
          247,
          248,
          249,
          250,
          251,
          252,
          253,
          254,
          255,
          256,
          257,
          258,
          259,
          260,
          261,
          262,
          263,
          264,
          265,
          266,
          267,
          268,
          269,
          270,
          271,
          272,
          273,
          274,
          275,
          276,
          277,
          278,
          279,
          280,
          281,
          282
         ],
         "xaxis": "x4",
         "y": [
          0.6863600680720245,
          0.6644426550201006,
          0.6454312354312354,
          0.6299568057244688,
          0.61865036231884,
          0.6068032910628013,
          0.6031770833333326,
          0.6042881944444437,
          0.625133605072463,
          0.6256204710144919,
          0.6341613828502407,
          0.6460862016908202,
          0.6445531400966175,
          0.6402475845410619,
          0.6584586352656995,
          0.6660227958937189,
          0.6979106280193228,
          0.7233778683574866,
          0.7484035326086946,
          0.7663171799516897,
          0.78076313405797,
          0.7866674214975835,
          0.7891628925120763,
          0.7958235205313998,
          0.7953985507246365,
          0.7892444142512066,
          0.7803977958937188,
          0.7715134359903372,
          0.760535175120772,
          0.755824275362318,
          0.7520848429951681,
          0.748048007246376,
          0.7482608695652166,
          0.7508310688405788,
          0.7547192028985498,
          0.7597207125603855,
          0.7627392814009653,
          0.7659903381642502,
          0.7681416062801922,
          0.7633703200483082,
          0.7781204710144917,
          0.778316727053139,
          0.7830230978260859,
          0.7782986111111102,
          0.7703147644927526,
          0.7649071557971003,
          0.7571376811594193,
          0.7623278985507238,
          0.7645833333333323,
          0.7659503321256029,
          0.7598663949275354,
          0.7525271739130426,
          0.74366092995169,
          0.7381174516908204,
          0.7361828200483085,
          0.7158891908212551,
          0.7138503925120765,
          0.7070878623188397,
          0.6931091485507237,
          0.6892761171497578,
          0.6876487016908204,
          0.6920289855072456,
          0.7042776268115931,
          0.7062771739130425,
          0.7378532608695643,
          0.7519957729468589,
          0.7630366847826076,
          0.7563013285024144,
          0.7510929951690811,
          0.753316727053139,
          0.7554000603864724,
          0.7549516908212551,
          0.7549396135265691,
          0.7564779589371972,
          0.7449026268115932,
          0.7338390700483084,
          0.7339085144927527,
          0.7325211352656995,
          0.7491893115942018,
          0.7583635265700474,
          0.7673037439613516,
          0.7693765096618346,
          0.7633937198067623,
          0.7673935688405785,
          0.7709020229468587,
          0.7801162439613517,
          0.7828774154589362,
          0.7881091485507236,
          0.7993478260869555,
          0.7965277777777766,
          0.7898128019323661,
          0.7790851449275353,
          0.7638315217391295,
          0.7481657608695643,
          0.7342685688405788,
          0.7296399456521729,
          0.7311820652173905,
          0.7334261775362308,
          0.7270055857487914,
          0.7203147644927528,
          0.7210001509661828,
          0.7088247282608686,
          0.7018651871980667,
          0.7181491545893712,
          0.7353894927536221,
          0.7568553743961343,
          0.7764704106280181,
          0.7724682971014482,
          0.7806884057971004,
          0.7926977657004821,
          0.7983318236714964,
          0.779927536231883,
          0.7706687801932357,
          0.7631725543478252,
          0.7641493055555545,
          0.7645153985507236,
          0.7747297705314,
          0.7911058272946849,
          0.7739628623188396,
          0.7722826086956514,
          0.7531431159420281,
          0.7393417874396127,
          0.7118327294685981,
          0.7191749698067623,
          0.7423256340579701,
          0.7629362922705302,
          0.7696550422705302,
          0.7550830314009651,
          0.7651320954106272,
          0.7525566123188395,
          0.7436299818840569,
          0.7584586352656996,
          0.7469557669082117,
          0.7631008454106271,
          0.7657752113526559,
          0.7704483695652165,
          0.7631861413043468,
          0.7413836050724627,
          0.7399509359903372,
          0.7128645833333325,
          0.6831031099033809,
          0.6988051026570038,
          0.7185394021739122,
          0.7359442934782601,
          0.7345954106280184,
          0.7350664251207719,
          0.7119293478260862,
          0.7049245169082118,
          0.7014530495169075,
          0.7155170591787431,
          0.6988919082125595,
          0.6803653381642504,
          0.682549818840579,
          0.6898060084541053,
          0.7024124396135256,
          0.720456672705313,
          0.7259344806763275,
          0.7416870471014483,
          0.7268485809178736,
          0.7218485809178735,
          0.6966749698067624,
          0.6932608695652166,
          0.7004000603864725,
          0.7062386775362309,
          0.7132291666666657,
          0.7300988828502407,
          0.7291628925120764,
          0.7442066727053129,
          0.7086745169082117,
          0.6856808574879221,
          0.7219134963768105,
          0.7303177838164243,
          0.7565617451690813,
          0.776034118357487,
          0.7649932065217381,
          0.7362394323671488,
          0.696305102657004,
          0.6575520833333324,
          0.6660522342995161,
          0.6987854770531391,
          0.7183990036231873,
          0.7551607789855062,
          0.755449879227052,
          0.7284775060386462,
          0.7313805857487914,
          0.7679279891304336,
          0.7731378321256027,
          0.7790617451690812,
          0.7902573973429939,
          0.7651396437198056,
          0.7666968599033808,
          0.747138435990337,
          0.7494723731884047,
          0.749249698067632,
          0.7507178442028976,
          0.7688677536231876,
          0.7793176328502404,
          0.7829151570048299,
          0.7697380736714967,
          0.7638201992753613,
          0.7578306159420278,
          0.7066153381642504,
          0.7136284722222213,
          0.7201366243961345,
          0.731334541062801,
          0.7347727958937189,
          0.7377928743961343,
          0.7376185084541051,
          0.7469104770531391,
          0.7506529287439602,
          0.7572652475845402,
          0.7704491243961342,
          0.785840881642511,
          0.8015141908212549,
          0.8146286231884046,
          0.8318636775362307,
          0.8536865942028973,
          0.8540564613526558,
          0.8567255434782597,
          0.8519504830917862,
          0.8504332729468588,
          0.8463903985507236,
          0.8419791666666656,
          0.8362484903381631,
          0.8346950483091776,
          0.8326283212560376,
          0.8348520531400956,
          0.8394127415458926,
          0.8422086352656993,
          0.8384239130434772,
          0.8260643115942019,
          0.8102083333333322,
          0.8003577898550717,
          0.7897433574879218,
          0.7812824577294678,
          0.767789100241545,
          0.7781091485507238,
          0.7736933876811586,
          0.7749781099033807,
          0.7759186292270521,
          0.7698760916016352,
          0.7623640591745212,
          0.7538454359650013,
          0.7524747844245129,
          0.7565312616127836,
          0.7677123397435903
         ],
         "yaxis": "y4"
        },
        {
         "hovertemplate": "label=raft<br>frame_id=%{x}<br>y=%{y}<extra></extra>",
         "legendgroup": "raft",
         "line": {
          "color": "#00cc96",
          "dash": "solid"
         },
         "mode": "lines",
         "name": "raft",
         "orientation": "v",
         "showlegend": true,
         "type": "scatter",
         "x": [
          12,
          13,
          14,
          15,
          16,
          17,
          18,
          19,
          20,
          21,
          22,
          23,
          24,
          25,
          26,
          27,
          28,
          29,
          38,
          39,
          40,
          41,
          42,
          43,
          44,
          45,
          46,
          47,
          48,
          49,
          50,
          51,
          52,
          53,
          54,
          55,
          56,
          57,
          58,
          59,
          60,
          61,
          62,
          63,
          64,
          65,
          66,
          67,
          68,
          69,
          70,
          71,
          72,
          73,
          74,
          75,
          76,
          77,
          78,
          79,
          80,
          81,
          82,
          85,
          86,
          87,
          88,
          89,
          90,
          91,
          92,
          93,
          94,
          95,
          96,
          97,
          98,
          99,
          100,
          101,
          102,
          103,
          104,
          105,
          106,
          107,
          108,
          109,
          110,
          111,
          112,
          113,
          114,
          115,
          116,
          117,
          118,
          119,
          120,
          121,
          122,
          123,
          124,
          125,
          126,
          127,
          129,
          144,
          145,
          148,
          149,
          150,
          151,
          152,
          153,
          154,
          155,
          156,
          157,
          158,
          159,
          160,
          161,
          162,
          163,
          164,
          165,
          166,
          167,
          168,
          169,
          170,
          171,
          172,
          173,
          174,
          175,
          176,
          181,
          182,
          183,
          184,
          185,
          186,
          187,
          188,
          189,
          190,
          191,
          192,
          193,
          194,
          195,
          196,
          197,
          198,
          199,
          200,
          201,
          202,
          203,
          204,
          205,
          206,
          207,
          208,
          209,
          210,
          211,
          212,
          213,
          214
         ],
         "xaxis": "x3",
         "y": [
          0.6223679045893712,
          0.620217391304347,
          0.6167346014492748,
          0.6207367149758446,
          0.6307729468599025,
          0.6490594806763277,
          0.6648505434782601,
          0.6685733695652165,
          0.6656514190821247,
          0.6661465881642503,
          0.6644685990338156,
          0.6691810084541052,
          0.668066878019323,
          0.6576743659420281,
          0.6443198973429943,
          0.6289122886473422,
          0.6217051630434776,
          0.6107435084541056,
          0.6478759057971005,
          0.6671135265700474,
          0.6868621678743954,
          0.7220757850241536,
          0.7413707729468587,
          0.761573822463767,
          0.7803555253623178,
          0.7906363224637669,
          0.7973520531400955,
          0.7963451086956509,
          0.8012839673913031,
          0.7996467391304336,
          0.7932276570048298,
          0.7844602958937187,
          0.774945652173912,
          0.7647222222222212,
          0.7617134661835739,
          0.7607827596618348,
          0.7553268417874386,
          0.7611163949275352,
          0.7605517814009651,
          0.7684020229468591,
          0.7686231884057962,
          0.7736503623188397,
          0.7763066123188396,
          0.7697758152173905,
          0.7705268719806753,
          0.7697690217391293,
          0.7829634661835738,
          0.7793236714975836,
          0.7776788949275352,
          0.7721603260869554,
          0.7645244565217383,
          0.7578215579710137,
          0.7666364734299509,
          0.7688934178743952,
          0.7632472826086947,
          0.7615579710144919,
          0.750739734299516,
          0.7459163647342987,
          0.7404476147342989,
          0.7286028079710134,
          0.7100362318840568,
          0.7048845108695644,
          0.6992119565217384,
          0.6887447161835741,
          0.6954740338164243,
          0.7090398550724627,
          0.7177143719806752,
          0.7252823067632842,
          0.7394217995169073,
          0.7513964371980666,
          0.757001811594202,
          0.7502815519323662,
          0.751052234299516,
          0.7507102958937188,
          0.7528336352656996,
          0.7542006340579701,
          0.7527536231884049,
          0.7487839673913034,
          0.7336156400966174,
          0.7305480072463759,
          0.7374230072463758,
          0.7455842391304339,
          0.7471739130434774,
          0.7646950483091776,
          0.7662424516908204,
          0.7604989432367142,
          0.7662032004830908,
          0.7691130736714966,
          0.7677928743961344,
          0.7795297403381631,
          0.7839387077294677,
          0.7934148550724627,
          0.7939794685990328,
          0.7855691425120763,
          0.7763873792270521,
          0.7583227657004822,
          0.7479385567632841,
          0.729609752415458,
          0.7382872886473422,
          0.746671195652173,
          0.7405517814009651,
          0.7347486413043468,
          0.7134080615942018,
          0.7150090579710136,
          0.7077921195652165,
          0.7173256340579699,
          0.7496180555555545,
          0.754771286231883,
          0.7467768719806754,
          0.729110809178743,
          0.724194595410627,
          0.7408272946859893,
          0.7650384963768107,
          0.7379068538647335,
          0.7083197463768108,
          0.6965194746376803,
          0.6940557065217381,
          0.6895720108695644,
          0.7211171497584531,
          0.7232435084541052,
          0.7489696557971003,
          0.7715202294685979,
          0.768232940821255,
          0.7728668478260861,
          0.7532495471014481,
          0.7414787137681148,
          0.7524932065217381,
          0.7483974939613516,
          0.7447984601449266,
          0.7721618357487912,
          0.7699064009661825,
          0.7702958937198056,
          0.7560016606280184,
          0.7493372584541055,
          0.7527823067632843,
          0.7278328804347819,
          0.7077355072463758,
          0.7005849939613518,
          0.7084367451690812,
          0.6995569142512068,
          0.7128955314009652,
          0.716034118357487,
          0.7201585144927527,
          0.7016145833333323,
          0.6911858393719799,
          0.6880110205314002,
          0.6910695954106272,
          0.6985680857487914,
          0.7215791062801923,
          0.7377740036231875,
          0.7395923913043466,
          0.7261171497584532,
          0.7124464070048301,
          0.7001011473429943,
          0.7006023550724627,
          0.7074660326086949,
          0.6992647946859896,
          0.7007480374396127,
          0.7266470410628011,
          0.7286662137681151,
          0.730655193236714,
          0.7061533816425113,
          0.6991810084541052,
          0.7273814915458927,
          0.7376487016908202,
          0.7631287741545885,
          0.7855087560386463,
          0.7613866243961342,
          0.7178374094202893,
          0.6851894625603855,
          0.6550966183574871,
          0.6894761473429942
         ],
         "yaxis": "y3"
        },
        {
         "hovertemplate": "label=spaghetti<br>frame_id=%{x}<br>y=%{y}<extra></extra>",
         "legendgroup": "spaghetti",
         "line": {
          "color": "#ab63fa",
          "dash": "solid"
         },
         "mode": "lines",
         "name": "spaghetti",
         "orientation": "v",
         "showlegend": true,
         "type": "scatter",
         "x": [
          147,
          149,
          150,
          151,
          152,
          153,
          154,
          156,
          157,
          158,
          158,
          159,
          159,
          160,
          160,
          161,
          161,
          162,
          162,
          166,
          167,
          168,
          169,
          170,
          171,
          173,
          174,
          175,
          175,
          176,
          180,
          181,
          181,
          181,
          182,
          182,
          182,
          182,
          183,
          183,
          183,
          184,
          185,
          185,
          186,
          186,
          187,
          189,
          195,
          197,
          198,
          199,
          199,
          200,
          200,
          201,
          201,
          203,
          205,
          211,
          212,
          213,
          214,
          215,
          216,
          217,
          218,
          219,
          220,
          221,
          222,
          223,
          224,
          225,
          226,
          227,
          228,
          229,
          230,
          231,
          232,
          233,
          234,
          235,
          236,
          237,
          238,
          239,
          240,
          241,
          242,
          243,
          244,
          245,
          246,
          247,
          248,
          249,
          250,
          251,
          252,
          253,
          254,
          255,
          256,
          257,
          258,
          259,
          260,
          261,
          262,
          263,
          264,
          265,
          266,
          267,
          268,
          269,
          270,
          271,
          272,
          273,
          274,
          275,
          276,
          277,
          278,
          279,
          280,
          281,
          282
         ],
         "xaxis": "x2",
         "y": [
          0.7343523550724628,
          0.7165783514492745,
          0.7447992149758442,
          0.7649433876811582,
          0.7274139492753614,
          0.7007827596618349,
          0.6984458031400955,
          0.6989960748792261,
          0.7191417572463759,
          0.7454159118357477,
          0.7323354468599025,
          0.75814236111111,
          0.7517096920289844,
          0.7713677536231873,
          0.7719972826086945,
          0.7557789855072455,
          0.755577445652173,
          0.7542957427536223,
          0.7602196557971006,
          0.7474139492753615,
          0.7491387379227045,
          0.7622614734299508,
          0.7773263888888877,
          0.7515632548309171,
          0.7563632246376802,
          0.7478683574879218,
          0.7417406400966173,
          0.6978962862318833,
          0.6887900060386465,
          0.687825332125603,
          0.7320508756038636,
          0.7481551932367141,
          0.7310167572463758,
          0.7133386171497574,
          0.7049969806763275,
          0.7208740942028978,
          0.7099501811594194,
          0.6995455917874388,
          0.706923309178743,
          0.7236390398550715,
          0.7258114432367138,
          0.7371074879227044,
          0.7056929347826079,
          0.7077672101449266,
          0.7080948067632842,
          0.699711654589371,
          0.6874766002415448,
          0.6905970712560376,
          0.7024750905797092,
          0.7186624396135258,
          0.7016961050724627,
          0.7156076388888879,
          0.7188413345410618,
          0.7027634359903372,
          0.7130080012077282,
          0.7466734601449265,
          0.7532057669082117,
          0.7283265398550715,
          0.6939990942028976,
          0.7191621376811586,
          0.6710114734299507,
          0.6558514492753615,
          0.6722078804347816,
          0.713863979468598,
          0.7120003019323663,
          0.7423256340579699,
          0.7429355374396125,
          0.7289409722222212,
          0.7283114432367142,
          0.7684842995169072,
          0.7845146437198057,
          0.7832586050724629,
          0.7936314915458929,
          0.7646769323671486,
          0.7574305555555544,
          0.7547946859903372,
          0.7490587258454096,
          0.7445237016908204,
          0.7582193538647333,
          0.7880434782608685,
          0.7861035628019313,
          0.7651298309178736,
          0.7756861413043468,
          0.7825166062801922,
          0.7719987922705304,
          0.7296248490338154,
          0.7145576690821246,
          0.7116628925120764,
          0.7146927838164242,
          0.7238315217391293,
          0.7342481884057963,
          0.7332676630434772,
          0.7487032004830907,
          0.7483771135265689,
          0.739434631642511,
          0.7496648550724626,
          0.7694821859903371,
          0.7835227958937186,
          0.7965715579710132,
          0.8116123188405785,
          0.8265813707729456,
          0.8479929045893707,
          0.8402566425120762,
          0.8452566425120761,
          0.847817028985506,
          0.8448641304347814,
          0.8434171195652163,
          0.8397720410628009,
          0.8345720108695641,
          0.8290375905797089,
          0.8260484601449265,
          0.8250098128019312,
          0.8280729166666656,
          0.8331355676328491,
          0.8334322161835738,
          0.8243176328502405,
          0.8088413345410619,
          0.7972622282608686,
          0.7863269927536223,
          0.7918425422705304,
          0.7717542270531392,
          0.7640224939613516,
          0.7690232487922696,
          0.7671701388888881,
          0.7680102657004821,
          0.773545440821255,
          0.7660782363771496,
          0.7560354749417251,
          0.7525878111170232,
          0.7537185399141924,
          0.7611251335470091
         ],
         "yaxis": "y2"
        },
        {
         "hovertemplate": "label=adhesion<br>frame_id=%{x}<br>y=%{y}<extra></extra>",
         "legendgroup": "adhesion",
         "line": {
          "color": "#FFA15A",
          "dash": "solid"
         },
         "mode": "lines",
         "name": "adhesion",
         "orientation": "v",
         "showlegend": true,
         "type": "scatter",
         "x": [
          149,
          150,
          151,
          152,
          153,
          154,
          156,
          157,
          158,
          159,
          160,
          161,
          162,
          163,
          164,
          165,
          166,
          167,
          168,
          169,
          170,
          171,
          172,
          173,
          174,
          175,
          184,
          186,
          187,
          188,
          188,
          189,
          190,
          190,
          191,
          191,
          192,
          192,
          193,
          194,
          195,
          195,
          196,
          196,
          197,
          197,
          198,
          198,
          199,
          200,
          201,
          202,
          204,
          204,
          208,
          220,
          224
         ],
         "xaxis": "x",
         "y": [
          0.7316062801932359,
          0.7634171195652163,
          0.7598407306763275,
          0.7173573369565208,
          0.7123762077294677,
          0.6933129528985499,
          0.7107367149758445,
          0.7195403079710134,
          0.7300090579710137,
          0.7652626811594194,
          0.7632291666666657,
          0.7679725241545884,
          0.7568010265700473,
          0.7437182971014482,
          0.7433944746376802,
          0.7444565217391296,
          0.752968749999999,
          0.7650173611111101,
          0.760643870772946,
          0.7711292270531391,
          0.7617247886473419,
          0.74819217995169,
          0.75659420289855,
          0.7384057971014484,
          0.718888888888888,
          0.6819361413043469,
          0.725432518115941,
          0.6947992149758444,
          0.6863971920289847,
          0.6925822765700475,
          0.6902423007246368,
          0.6841810084541052,
          0.7020576690821247,
          0.7127928743961344,
          0.712367904589371,
          0.7291372282608686,
          0.7154415760869557,
          0.7331166968599023,
          0.7153434480676321,
          0.7122833635265692,
          0.72438179347826,
          0.7018689613526562,
          0.6953064613526563,
          0.7063420893719798,
          0.6856612318840571,
          0.7102853260869556,
          0.6871746678743952,
          0.7168108393719798,
          0.7227075785024144,
          0.7232842693236706,
          0.7523905495169074,
          0.7304981884057962,
          0.7047116545893709,
          0.698864734299516,
          0.7457336956521728,
          0.7487190519323662,
          0.7708212560386465
         ],
         "yaxis": "y"
        }
       ],
       "layout": {
        "annotations": [
         {
          "font": {},
          "showarrow": false,
          "text": "label=adhesion",
          "x": 0.5,
          "xanchor": "center",
          "xref": "paper",
          "y": 0.144,
          "yanchor": "bottom",
          "yref": "paper"
         },
         {
          "font": {},
          "showarrow": false,
          "text": "label=spaghetti",
          "x": 0.5,
          "xanchor": "center",
          "xref": "paper",
          "y": 0.358,
          "yanchor": "bottom",
          "yref": "paper"
         },
         {
          "font": {},
          "showarrow": false,
          "text": "label=raft",
          "x": 0.5,
          "xanchor": "center",
          "xref": "paper",
          "y": 0.572,
          "yanchor": "bottom",
          "yref": "paper"
         },
         {
          "font": {},
          "showarrow": false,
          "text": "label=print",
          "x": 0.5,
          "xanchor": "center",
          "xref": "paper",
          "y": 0.7859999999999999,
          "yanchor": "bottom",
          "yref": "paper"
         },
         {
          "font": {},
          "showarrow": false,
          "text": "label=nozzle",
          "x": 0.5,
          "xanchor": "center",
          "xref": "paper",
          "y": 1,
          "yanchor": "bottom",
          "yref": "paper"
         }
        ],
        "height": 800,
        "legend": {
         "title": {
          "text": "Detection"
         },
         "tracegroupgap": 0
        },
        "margin": {
         "t": 60
        },
        "template": {
         "data": {
          "bar": [
           {
            "error_x": {
             "color": "#2a3f5f"
            },
            "error_y": {
             "color": "#2a3f5f"
            },
            "marker": {
             "line": {
              "color": "#E5ECF6",
              "width": 0.5
             }
            },
            "type": "bar"
           }
          ],
          "barpolar": [
           {
            "marker": {
             "line": {
              "color": "#E5ECF6",
              "width": 0.5
             }
            },
            "type": "barpolar"
           }
          ],
          "carpet": [
           {
            "aaxis": {
             "endlinecolor": "#2a3f5f",
             "gridcolor": "white",
             "linecolor": "white",
             "minorgridcolor": "white",
             "startlinecolor": "#2a3f5f"
            },
            "baxis": {
             "endlinecolor": "#2a3f5f",
             "gridcolor": "white",
             "linecolor": "white",
             "minorgridcolor": "white",
             "startlinecolor": "#2a3f5f"
            },
            "type": "carpet"
           }
          ],
          "choropleth": [
           {
            "colorbar": {
             "outlinewidth": 0,
             "ticks": ""
            },
            "type": "choropleth"
           }
          ],
          "contour": [
           {
            "colorbar": {
             "outlinewidth": 0,
             "ticks": ""
            },
            "colorscale": [
             [
              0,
              "#0d0887"
             ],
             [
              0.1111111111111111,
              "#46039f"
             ],
             [
              0.2222222222222222,
              "#7201a8"
             ],
             [
              0.3333333333333333,
              "#9c179e"
             ],
             [
              0.4444444444444444,
              "#bd3786"
             ],
             [
              0.5555555555555556,
              "#d8576b"
             ],
             [
              0.6666666666666666,
              "#ed7953"
             ],
             [
              0.7777777777777778,
              "#fb9f3a"
             ],
             [
              0.8888888888888888,
              "#fdca26"
             ],
             [
              1,
              "#f0f921"
             ]
            ],
            "type": "contour"
           }
          ],
          "contourcarpet": [
           {
            "colorbar": {
             "outlinewidth": 0,
             "ticks": ""
            },
            "type": "contourcarpet"
           }
          ],
          "heatmap": [
           {
            "colorbar": {
             "outlinewidth": 0,
             "ticks": ""
            },
            "colorscale": [
             [
              0,
              "#0d0887"
             ],
             [
              0.1111111111111111,
              "#46039f"
             ],
             [
              0.2222222222222222,
              "#7201a8"
             ],
             [
              0.3333333333333333,
              "#9c179e"
             ],
             [
              0.4444444444444444,
              "#bd3786"
             ],
             [
              0.5555555555555556,
              "#d8576b"
             ],
             [
              0.6666666666666666,
              "#ed7953"
             ],
             [
              0.7777777777777778,
              "#fb9f3a"
             ],
             [
              0.8888888888888888,
              "#fdca26"
             ],
             [
              1,
              "#f0f921"
             ]
            ],
            "type": "heatmap"
           }
          ],
          "heatmapgl": [
           {
            "colorbar": {
             "outlinewidth": 0,
             "ticks": ""
            },
            "colorscale": [
             [
              0,
              "#0d0887"
             ],
             [
              0.1111111111111111,
              "#46039f"
             ],
             [
              0.2222222222222222,
              "#7201a8"
             ],
             [
              0.3333333333333333,
              "#9c179e"
             ],
             [
              0.4444444444444444,
              "#bd3786"
             ],
             [
              0.5555555555555556,
              "#d8576b"
             ],
             [
              0.6666666666666666,
              "#ed7953"
             ],
             [
              0.7777777777777778,
              "#fb9f3a"
             ],
             [
              0.8888888888888888,
              "#fdca26"
             ],
             [
              1,
              "#f0f921"
             ]
            ],
            "type": "heatmapgl"
           }
          ],
          "histogram": [
           {
            "marker": {
             "colorbar": {
              "outlinewidth": 0,
              "ticks": ""
             }
            },
            "type": "histogram"
           }
          ],
          "histogram2d": [
           {
            "colorbar": {
             "outlinewidth": 0,
             "ticks": ""
            },
            "colorscale": [
             [
              0,
              "#0d0887"
             ],
             [
              0.1111111111111111,
              "#46039f"
             ],
             [
              0.2222222222222222,
              "#7201a8"
             ],
             [
              0.3333333333333333,
              "#9c179e"
             ],
             [
              0.4444444444444444,
              "#bd3786"
             ],
             [
              0.5555555555555556,
              "#d8576b"
             ],
             [
              0.6666666666666666,
              "#ed7953"
             ],
             [
              0.7777777777777778,
              "#fb9f3a"
             ],
             [
              0.8888888888888888,
              "#fdca26"
             ],
             [
              1,
              "#f0f921"
             ]
            ],
            "type": "histogram2d"
           }
          ],
          "histogram2dcontour": [
           {
            "colorbar": {
             "outlinewidth": 0,
             "ticks": ""
            },
            "colorscale": [
             [
              0,
              "#0d0887"
             ],
             [
              0.1111111111111111,
              "#46039f"
             ],
             [
              0.2222222222222222,
              "#7201a8"
             ],
             [
              0.3333333333333333,
              "#9c179e"
             ],
             [
              0.4444444444444444,
              "#bd3786"
             ],
             [
              0.5555555555555556,
              "#d8576b"
             ],
             [
              0.6666666666666666,
              "#ed7953"
             ],
             [
              0.7777777777777778,
              "#fb9f3a"
             ],
             [
              0.8888888888888888,
              "#fdca26"
             ],
             [
              1,
              "#f0f921"
             ]
            ],
            "type": "histogram2dcontour"
           }
          ],
          "mesh3d": [
           {
            "colorbar": {
             "outlinewidth": 0,
             "ticks": ""
            },
            "type": "mesh3d"
           }
          ],
          "parcoords": [
           {
            "line": {
             "colorbar": {
              "outlinewidth": 0,
              "ticks": ""
             }
            },
            "type": "parcoords"
           }
          ],
          "pie": [
           {
            "automargin": true,
            "type": "pie"
           }
          ],
          "scatter": [
           {
            "marker": {
             "colorbar": {
              "outlinewidth": 0,
              "ticks": ""
             }
            },
            "type": "scatter"
           }
          ],
          "scatter3d": [
           {
            "line": {
             "colorbar": {
              "outlinewidth": 0,
              "ticks": ""
             }
            },
            "marker": {
             "colorbar": {
              "outlinewidth": 0,
              "ticks": ""
             }
            },
            "type": "scatter3d"
           }
          ],
          "scattercarpet": [
           {
            "marker": {
             "colorbar": {
              "outlinewidth": 0,
              "ticks": ""
             }
            },
            "type": "scattercarpet"
           }
          ],
          "scattergeo": [
           {
            "marker": {
             "colorbar": {
              "outlinewidth": 0,
              "ticks": ""
             }
            },
            "type": "scattergeo"
           }
          ],
          "scattergl": [
           {
            "marker": {
             "colorbar": {
              "outlinewidth": 0,
              "ticks": ""
             }
            },
            "type": "scattergl"
           }
          ],
          "scattermapbox": [
           {
            "marker": {
             "colorbar": {
              "outlinewidth": 0,
              "ticks": ""
             }
            },
            "type": "scattermapbox"
           }
          ],
          "scatterpolar": [
           {
            "marker": {
             "colorbar": {
              "outlinewidth": 0,
              "ticks": ""
             }
            },
            "type": "scatterpolar"
           }
          ],
          "scatterpolargl": [
           {
            "marker": {
             "colorbar": {
              "outlinewidth": 0,
              "ticks": ""
             }
            },
            "type": "scatterpolargl"
           }
          ],
          "scatterternary": [
           {
            "marker": {
             "colorbar": {
              "outlinewidth": 0,
              "ticks": ""
             }
            },
            "type": "scatterternary"
           }
          ],
          "surface": [
           {
            "colorbar": {
             "outlinewidth": 0,
             "ticks": ""
            },
            "colorscale": [
             [
              0,
              "#0d0887"
             ],
             [
              0.1111111111111111,
              "#46039f"
             ],
             [
              0.2222222222222222,
              "#7201a8"
             ],
             [
              0.3333333333333333,
              "#9c179e"
             ],
             [
              0.4444444444444444,
              "#bd3786"
             ],
             [
              0.5555555555555556,
              "#d8576b"
             ],
             [
              0.6666666666666666,
              "#ed7953"
             ],
             [
              0.7777777777777778,
              "#fb9f3a"
             ],
             [
              0.8888888888888888,
              "#fdca26"
             ],
             [
              1,
              "#f0f921"
             ]
            ],
            "type": "surface"
           }
          ],
          "table": [
           {
            "cells": {
             "fill": {
              "color": "#EBF0F8"
             },
             "line": {
              "color": "white"
             }
            },
            "header": {
             "fill": {
              "color": "#C8D4E3"
             },
             "line": {
              "color": "white"
             }
            },
            "type": "table"
           }
          ]
         },
         "layout": {
          "annotationdefaults": {
           "arrowcolor": "#2a3f5f",
           "arrowhead": 0,
           "arrowwidth": 1
          },
          "coloraxis": {
           "colorbar": {
            "outlinewidth": 0,
            "ticks": ""
           }
          },
          "colorscale": {
           "diverging": [
            [
             0,
             "#8e0152"
            ],
            [
             0.1,
             "#c51b7d"
            ],
            [
             0.2,
             "#de77ae"
            ],
            [
             0.3,
             "#f1b6da"
            ],
            [
             0.4,
             "#fde0ef"
            ],
            [
             0.5,
             "#f7f7f7"
            ],
            [
             0.6,
             "#e6f5d0"
            ],
            [
             0.7,
             "#b8e186"
            ],
            [
             0.8,
             "#7fbc41"
            ],
            [
             0.9,
             "#4d9221"
            ],
            [
             1,
             "#276419"
            ]
           ],
           "sequential": [
            [
             0,
             "#0d0887"
            ],
            [
             0.1111111111111111,
             "#46039f"
            ],
            [
             0.2222222222222222,
             "#7201a8"
            ],
            [
             0.3333333333333333,
             "#9c179e"
            ],
            [
             0.4444444444444444,
             "#bd3786"
            ],
            [
             0.5555555555555556,
             "#d8576b"
            ],
            [
             0.6666666666666666,
             "#ed7953"
            ],
            [
             0.7777777777777778,
             "#fb9f3a"
            ],
            [
             0.8888888888888888,
             "#fdca26"
            ],
            [
             1,
             "#f0f921"
            ]
           ],
           "sequentialminus": [
            [
             0,
             "#0d0887"
            ],
            [
             0.1111111111111111,
             "#46039f"
            ],
            [
             0.2222222222222222,
             "#7201a8"
            ],
            [
             0.3333333333333333,
             "#9c179e"
            ],
            [
             0.4444444444444444,
             "#bd3786"
            ],
            [
             0.5555555555555556,
             "#d8576b"
            ],
            [
             0.6666666666666666,
             "#ed7953"
            ],
            [
             0.7777777777777778,
             "#fb9f3a"
            ],
            [
             0.8888888888888888,
             "#fdca26"
            ],
            [
             1,
             "#f0f921"
            ]
           ]
          },
          "colorway": [
           "#636efa",
           "#EF553B",
           "#00cc96",
           "#ab63fa",
           "#FFA15A",
           "#19d3f3",
           "#FF6692",
           "#B6E880",
           "#FF97FF",
           "#FECB52"
          ],
          "font": {
           "color": "#2a3f5f"
          },
          "geo": {
           "bgcolor": "white",
           "lakecolor": "white",
           "landcolor": "#E5ECF6",
           "showlakes": true,
           "showland": true,
           "subunitcolor": "white"
          },
          "hoverlabel": {
           "align": "left"
          },
          "hovermode": "closest",
          "mapbox": {
           "style": "light"
          },
          "paper_bgcolor": "white",
          "plot_bgcolor": "#E5ECF6",
          "polar": {
           "angularaxis": {
            "gridcolor": "white",
            "linecolor": "white",
            "ticks": ""
           },
           "bgcolor": "#E5ECF6",
           "radialaxis": {
            "gridcolor": "white",
            "linecolor": "white",
            "ticks": ""
           }
          },
          "scene": {
           "xaxis": {
            "backgroundcolor": "#E5ECF6",
            "gridcolor": "white",
            "gridwidth": 2,
            "linecolor": "white",
            "showbackground": true,
            "ticks": "",
            "zerolinecolor": "white"
           },
           "yaxis": {
            "backgroundcolor": "#E5ECF6",
            "gridcolor": "white",
            "gridwidth": 2,
            "linecolor": "white",
            "showbackground": true,
            "ticks": "",
            "zerolinecolor": "white"
           },
           "zaxis": {
            "backgroundcolor": "#E5ECF6",
            "gridcolor": "white",
            "gridwidth": 2,
            "linecolor": "white",
            "showbackground": true,
            "ticks": "",
            "zerolinecolor": "white"
           }
          },
          "shapedefaults": {
           "line": {
            "color": "#2a3f5f"
           }
          },
          "ternary": {
           "aaxis": {
            "gridcolor": "white",
            "linecolor": "white",
            "ticks": ""
           },
           "baxis": {
            "gridcolor": "white",
            "linecolor": "white",
            "ticks": ""
           },
           "bgcolor": "#E5ECF6",
           "caxis": {
            "gridcolor": "white",
            "linecolor": "white",
            "ticks": ""
           }
          },
          "title": {
           "x": 0.05
          },
          "xaxis": {
           "automargin": true,
           "gridcolor": "white",
           "linecolor": "white",
           "ticks": "",
           "title": {
            "standoff": 15
           },
           "zerolinecolor": "white",
           "zerolinewidth": 2
          },
          "yaxis": {
           "automargin": true,
           "gridcolor": "white",
           "linecolor": "white",
           "ticks": "",
           "title": {
            "standoff": 15
           },
           "zerolinecolor": "white",
           "zerolinewidth": 2
          }
         }
        },
        "title": {
         "text": "Print Nanny Confidence over Time"
        },
        "width": 800,
        "xaxis": {
         "anchor": "y",
         "domain": [
          0,
          1
         ],
         "title": {
          "text": "Time"
         }
        },
        "xaxis2": {
         "anchor": "y2",
         "domain": [
          0,
          1
         ],
         "matches": "x",
         "showticklabels": false
        },
        "xaxis3": {
         "anchor": "y3",
         "domain": [
          0,
          1
         ],
         "matches": "x",
         "showticklabels": false
        },
        "xaxis4": {
         "anchor": "y4",
         "domain": [
          0,
          1
         ],
         "matches": "x",
         "showticklabels": false
        },
        "xaxis5": {
         "anchor": "y5",
         "domain": [
          0,
          1
         ],
         "matches": "x",
         "showticklabels": false
        },
        "yaxis": {
         "anchor": "x",
         "domain": [
          0,
          0.144
         ],
         "title": {
          "text": "Confidence"
         }
        },
        "yaxis2": {
         "anchor": "x2",
         "domain": [
          0.214,
          0.358
         ],
         "matches": "y",
         "title": {
          "text": "Confidence"
         }
        },
        "yaxis3": {
         "anchor": "x3",
         "domain": [
          0.428,
          0.572
         ],
         "matches": "y",
         "title": {
          "text": "Confidence"
         }
        },
        "yaxis4": {
         "anchor": "x4",
         "domain": [
          0.6419999999999999,
          0.7859999999999999
         ],
         "matches": "y",
         "title": {
          "text": "Confidence"
         }
        },
        "yaxis5": {
         "anchor": "x5",
         "domain": [
          0.856,
          1
         ],
         "matches": "y",
         "title": {
          "text": "Confidence"
         }
        }
       }
      },
      "text/html": [
       "<div>                            <div id=\"7daef5e7-964d-4a34-860c-95b4c82efa72\" class=\"plotly-graph-div\" style=\"height:800px; width:800px;\"></div>            <script type=\"text/javascript\">                require([\"plotly\"], function(Plotly) {                    window.PLOTLYENV=window.PLOTLYENV || {};                                    if (document.getElementById(\"7daef5e7-964d-4a34-860c-95b4c82efa72\")) {                    Plotly.newPlot(                        \"7daef5e7-964d-4a34-860c-95b4c82efa72\",                        [{\"hovertemplate\": \"label=nozzle<br>frame_id=%{x}<br>y=%{y}<extra></extra>\", \"legendgroup\": \"nozzle\", \"line\": {\"color\": \"#636efa\", \"dash\": \"solid\"}, \"mode\": \"lines\", \"name\": \"nozzle\", \"orientation\": \"v\", \"showlegend\": true, \"type\": \"scatter\", \"x\": [2, 3, 4, 5, 6, 7, 8, 9, 10, 11, 13, 14, 15, 16, 17, 18, 19, 20, 21, 23, 24, 25, 26, 27, 28, 29, 30, 31, 32, 33, 34, 35, 36, 37, 38, 39, 40, 41, 42, 43, 44, 45, 46, 47, 48, 49, 50, 51, 52, 53, 54, 55, 56, 57, 58, 59, 60, 61, 62, 63, 64, 65, 66, 67, 68, 69, 70, 71, 72, 73, 74, 75, 76, 77, 78, 79, 80, 81, 82, 83, 84, 85, 86, 87, 88, 89, 90, 91, 92, 93, 94, 95, 96, 97, 98, 99, 100, 101, 102, 103, 104, 105, 106, 107, 108, 109, 110, 111, 112, 113, 114, 115, 116, 117, 118, 119, 120, 121, 122, 123, 124, 125, 126, 127, 128, 129, 130, 131, 132, 133, 134, 135, 136, 137, 138, 139, 140, 141, 142, 143, 144, 145, 147, 149, 150, 151, 153, 154, 155, 156, 162, 165, 166, 167, 168, 169, 170, 171, 175, 176, 177, 178, 179, 180, 181, 182, 183, 184, 185, 186, 187, 188, 189, 190, 191, 192, 193, 194, 195, 197, 198, 199, 200, 201, 203, 204, 205, 206, 207, 208, 209, 210, 211, 212, 213, 214, 215, 216, 217, 218, 219, 220, 221, 222, 223, 224, 225, 226, 227, 228, 230, 236, 237, 238, 239, 247, 276, 278], \"xaxis\": \"x5\", \"y\": [0.7363888888888892, 0.7233046207264959, 0.7105524781679674, 0.6982113357656836, 0.6750775496393703, 0.6545342587665957, 0.6372124595663997, 0.6237431484578224, 0.6231468900966175, 0.6151992753623182, 0.6180472524154582, 0.6209729770531393, 0.6273452596618349, 0.6292202596618348, 0.6464455012077286, 0.6665089070048299, 0.6667096920289846, 0.6638217089371972, 0.6662198067632843, 0.6663768115942021, 0.6582729468599026, 0.6503336352656999, 0.6330766908212552, 0.6233831521739124, 0.6126283212560378, 0.6211050724637674, 0.6165881642512069, 0.611882548309178, 0.6149456521739122, 0.6261918780193226, 0.6371369263285014, 0.6406816123188397, 0.640474788647342, 0.6499033816425108, 0.6555925422705304, 0.6570538949275353, 0.6812560386473419, 0.7004778079710134, 0.752019172705313, 0.773329559178743, 0.7863413345410617, 0.7934895833333323, 0.8002664553140086, 0.8030155495169071, 0.8068885869565207, 0.804122886473429, 0.7952845712560377, 0.7858680555555546, 0.7742753623188396, 0.7667602657004824, 0.7602558876811585, 0.760372131642511, 0.7615255132850233, 0.7582487922705304, 0.7646195652173905, 0.7662922705313998, 0.7681091485507234, 0.7691636473429941, 0.7708408816425111, 0.7699803743961342, 0.7760628019323662, 0.7840655193236706, 0.7875701992753613, 0.7861413043478249, 0.7799086654589361, 0.7741878019323662, 0.7686994263285013, 0.7685567632850231, 0.770822765700482, 0.7741938405797091, 0.7702717391304337, 0.7650339673913034, 0.7531023550724629, 0.7504257246376802, 0.7479196859903372, 0.7341183574879218, 0.711022795893719, 0.7079347826086947, 0.7030095108695643, 0.6917330917874386, 0.6869021739130428, 0.6892753623188398, 0.6952573973429943, 0.7042406400966175, 0.7075890700483084, 0.7455842391304338, 0.760744263285023, 0.7581099033816413, 0.7566176026570037, 0.7547410929951681, 0.7519089673913034, 0.7568485809178733, 0.7541372282608686, 0.75494640700483, 0.7576939915458927, 0.7491440217391295, 0.7338224637681152, 0.7363798309178735, 0.7296467391304338, 0.7383197463768106, 0.7520727657004821, 0.7596225845410618, 0.7702958937198058, 0.7676879528985497, 0.7700769927536221, 0.770673309178743, 0.7729430857487912, 0.7834910929951681, 0.7935356280193224, 0.7878993055555545, 0.7942134661835738, 0.79172554347826, 0.7748475241545882, 0.7582450181159411, 0.748462409420289, 0.7332080314009654, 0.7298943236714968, 0.7358718297101441, 0.7338201992753615, 0.7297758152173904, 0.7183318236714967, 0.7088692632850231, 0.705732940821255, 0.7112213164251198, 0.7251570048309167, 0.7360431763285014, 0.7580570652173902, 0.7669399154589362, 0.783485809178743, 0.7902189009661824, 0.7866304347826075, 0.794818840579709, 0.7806506642512068, 0.7749018719806754, 0.7639236111111101, 0.769237620772946, 0.7713987016908203, 0.783598278985506, 0.780842391304347, 0.7738503925120762, 0.773208786231883, 0.7498769625603855, 0.7377641908212552, 0.7313911533816416, 0.7640466485507237, 0.7489575785024147, 0.7048754528985498, 0.706720259661835, 0.6803540157004824, 0.7184729770531391, 0.7598724335748781, 0.7501041666666656, 0.7453057065217381, 0.7695735205313999, 0.7674041364734288, 0.7697712862318831, 0.7582397342995159, 0.7429423309178734, 0.684591636473429, 0.6957148248792261, 0.7328268417874387, 0.7326479468599023, 0.735581219806762, 0.7371942934782598, 0.7188594504830909, 0.711003170289854, 0.7393115942028975, 0.7260597826086947, 0.7184322161835739, 0.6989070048309172, 0.6918833031400956, 0.6979898852656996, 0.6823278985507237, 0.6989439915458928, 0.7032012379227044, 0.7239930555555546, 0.7166372282608687, 0.7012915157004822, 0.7238368055555546, 0.696376811594202, 0.7121761775362309, 0.7184088164251197, 0.7164643719806751, 0.7352996678743953, 0.7161133756038639, 0.7159374999999991, 0.7038330314009652, 0.7306031099033806, 0.7515708031400954, 0.7596210748792261, 0.7587220712560375, 0.749796195652173, 0.7374630132850231, 0.6810620471014484, 0.6563428442028977, 0.7074962258454099, 0.7287847222222213, 0.7393153683574867, 0.7362673611111101, 0.7366017512077283, 0.730540458937197, 0.7467059178743951, 0.7679528985507236, 0.7649766002415449, 0.7728781702898542, 0.7829415760869552, 0.7479762983091778, 0.7474766002415452, 0.7456099033816415, 0.746194897342994, 0.7745493659420281, 0.7420848429951682, 0.7236420591787431, 0.71322765700483, 0.7100890700483081, 0.7562167874396123, 0.7688066123188395, 0.7589457440204723], \"yaxis\": \"y5\"}, {\"hovertemplate\": \"label=print<br>frame_id=%{x}<br>y=%{y}<extra></extra>\", \"legendgroup\": \"print\", \"line\": {\"color\": \"#EF553B\", \"dash\": \"solid\"}, \"mode\": \"lines\", \"name\": \"print\", \"orientation\": \"v\", \"showlegend\": true, \"type\": \"scatter\", \"x\": [5, 6, 7, 8, 9, 30, 31, 32, 33, 34, 35, 36, 37, 38, 39, 40, 41, 42, 43, 44, 45, 46, 47, 48, 49, 50, 51, 52, 53, 54, 55, 56, 57, 58, 59, 60, 61, 62, 63, 64, 65, 66, 67, 68, 69, 70, 71, 72, 73, 74, 75, 76, 77, 78, 79, 80, 81, 82, 83, 84, 85, 86, 87, 88, 89, 90, 91, 92, 93, 94, 95, 96, 97, 98, 99, 100, 101, 102, 103, 104, 105, 106, 107, 108, 109, 110, 111, 112, 113, 114, 115, 116, 117, 118, 119, 120, 121, 122, 123, 124, 125, 126, 127, 128, 129, 130, 131, 132, 133, 134, 135, 136, 137, 138, 139, 140, 141, 142, 143, 144, 146, 148, 156, 157, 158, 159, 160, 161, 162, 163, 164, 165, 166, 167, 168, 169, 170, 171, 173, 174, 175, 176, 177, 178, 179, 180, 181, 182, 184, 185, 186, 187, 188, 189, 190, 191, 192, 193, 194, 195, 196, 197, 198, 199, 200, 201, 202, 203, 204, 205, 206, 207, 208, 209, 210, 211, 212, 213, 214, 215, 216, 217, 218, 219, 220, 221, 222, 223, 224, 225, 226, 227, 228, 229, 230, 231, 232, 233, 234, 235, 236, 238, 239, 240, 241, 242, 243, 244, 245, 246, 247, 248, 249, 250, 251, 252, 253, 254, 255, 256, 257, 258, 259, 260, 261, 262, 263, 264, 265, 266, 267, 268, 269, 270, 271, 272, 273, 274, 275, 276, 277, 278, 279, 280, 281, 282], \"xaxis\": \"x4\", \"y\": [0.6863600680720245, 0.6644426550201006, 0.6454312354312354, 0.6299568057244688, 0.61865036231884, 0.6068032910628013, 0.6031770833333326, 0.6042881944444437, 0.625133605072463, 0.6256204710144919, 0.6341613828502407, 0.6460862016908202, 0.6445531400966175, 0.6402475845410619, 0.6584586352656995, 0.6660227958937189, 0.6979106280193228, 0.7233778683574866, 0.7484035326086946, 0.7663171799516897, 0.78076313405797, 0.7866674214975835, 0.7891628925120763, 0.7958235205313998, 0.7953985507246365, 0.7892444142512066, 0.7803977958937188, 0.7715134359903372, 0.760535175120772, 0.755824275362318, 0.7520848429951681, 0.748048007246376, 0.7482608695652166, 0.7508310688405788, 0.7547192028985498, 0.7597207125603855, 0.7627392814009653, 0.7659903381642502, 0.7681416062801922, 0.7633703200483082, 0.7781204710144917, 0.778316727053139, 0.7830230978260859, 0.7782986111111102, 0.7703147644927526, 0.7649071557971003, 0.7571376811594193, 0.7623278985507238, 0.7645833333333323, 0.7659503321256029, 0.7598663949275354, 0.7525271739130426, 0.74366092995169, 0.7381174516908204, 0.7361828200483085, 0.7158891908212551, 0.7138503925120765, 0.7070878623188397, 0.6931091485507237, 0.6892761171497578, 0.6876487016908204, 0.6920289855072456, 0.7042776268115931, 0.7062771739130425, 0.7378532608695643, 0.7519957729468589, 0.7630366847826076, 0.7563013285024144, 0.7510929951690811, 0.753316727053139, 0.7554000603864724, 0.7549516908212551, 0.7549396135265691, 0.7564779589371972, 0.7449026268115932, 0.7338390700483084, 0.7339085144927527, 0.7325211352656995, 0.7491893115942018, 0.7583635265700474, 0.7673037439613516, 0.7693765096618346, 0.7633937198067623, 0.7673935688405785, 0.7709020229468587, 0.7801162439613517, 0.7828774154589362, 0.7881091485507236, 0.7993478260869555, 0.7965277777777766, 0.7898128019323661, 0.7790851449275353, 0.7638315217391295, 0.7481657608695643, 0.7342685688405788, 0.7296399456521729, 0.7311820652173905, 0.7334261775362308, 0.7270055857487914, 0.7203147644927528, 0.7210001509661828, 0.7088247282608686, 0.7018651871980667, 0.7181491545893712, 0.7353894927536221, 0.7568553743961343, 0.7764704106280181, 0.7724682971014482, 0.7806884057971004, 0.7926977657004821, 0.7983318236714964, 0.779927536231883, 0.7706687801932357, 0.7631725543478252, 0.7641493055555545, 0.7645153985507236, 0.7747297705314, 0.7911058272946849, 0.7739628623188396, 0.7722826086956514, 0.7531431159420281, 0.7393417874396127, 0.7118327294685981, 0.7191749698067623, 0.7423256340579701, 0.7629362922705302, 0.7696550422705302, 0.7550830314009651, 0.7651320954106272, 0.7525566123188395, 0.7436299818840569, 0.7584586352656996, 0.7469557669082117, 0.7631008454106271, 0.7657752113526559, 0.7704483695652165, 0.7631861413043468, 0.7413836050724627, 0.7399509359903372, 0.7128645833333325, 0.6831031099033809, 0.6988051026570038, 0.7185394021739122, 0.7359442934782601, 0.7345954106280184, 0.7350664251207719, 0.7119293478260862, 0.7049245169082118, 0.7014530495169075, 0.7155170591787431, 0.6988919082125595, 0.6803653381642504, 0.682549818840579, 0.6898060084541053, 0.7024124396135256, 0.720456672705313, 0.7259344806763275, 0.7416870471014483, 0.7268485809178736, 0.7218485809178735, 0.6966749698067624, 0.6932608695652166, 0.7004000603864725, 0.7062386775362309, 0.7132291666666657, 0.7300988828502407, 0.7291628925120764, 0.7442066727053129, 0.7086745169082117, 0.6856808574879221, 0.7219134963768105, 0.7303177838164243, 0.7565617451690813, 0.776034118357487, 0.7649932065217381, 0.7362394323671488, 0.696305102657004, 0.6575520833333324, 0.6660522342995161, 0.6987854770531391, 0.7183990036231873, 0.7551607789855062, 0.755449879227052, 0.7284775060386462, 0.7313805857487914, 0.7679279891304336, 0.7731378321256027, 0.7790617451690812, 0.7902573973429939, 0.7651396437198056, 0.7666968599033808, 0.747138435990337, 0.7494723731884047, 0.749249698067632, 0.7507178442028976, 0.7688677536231876, 0.7793176328502404, 0.7829151570048299, 0.7697380736714967, 0.7638201992753613, 0.7578306159420278, 0.7066153381642504, 0.7136284722222213, 0.7201366243961345, 0.731334541062801, 0.7347727958937189, 0.7377928743961343, 0.7376185084541051, 0.7469104770531391, 0.7506529287439602, 0.7572652475845402, 0.7704491243961342, 0.785840881642511, 0.8015141908212549, 0.8146286231884046, 0.8318636775362307, 0.8536865942028973, 0.8540564613526558, 0.8567255434782597, 0.8519504830917862, 0.8504332729468588, 0.8463903985507236, 0.8419791666666656, 0.8362484903381631, 0.8346950483091776, 0.8326283212560376, 0.8348520531400956, 0.8394127415458926, 0.8422086352656993, 0.8384239130434772, 0.8260643115942019, 0.8102083333333322, 0.8003577898550717, 0.7897433574879218, 0.7812824577294678, 0.767789100241545, 0.7781091485507238, 0.7736933876811586, 0.7749781099033807, 0.7759186292270521, 0.7698760916016352, 0.7623640591745212, 0.7538454359650013, 0.7524747844245129, 0.7565312616127836, 0.7677123397435903], \"yaxis\": \"y4\"}, {\"hovertemplate\": \"label=raft<br>frame_id=%{x}<br>y=%{y}<extra></extra>\", \"legendgroup\": \"raft\", \"line\": {\"color\": \"#00cc96\", \"dash\": \"solid\"}, \"mode\": \"lines\", \"name\": \"raft\", \"orientation\": \"v\", \"showlegend\": true, \"type\": \"scatter\", \"x\": [12, 13, 14, 15, 16, 17, 18, 19, 20, 21, 22, 23, 24, 25, 26, 27, 28, 29, 38, 39, 40, 41, 42, 43, 44, 45, 46, 47, 48, 49, 50, 51, 52, 53, 54, 55, 56, 57, 58, 59, 60, 61, 62, 63, 64, 65, 66, 67, 68, 69, 70, 71, 72, 73, 74, 75, 76, 77, 78, 79, 80, 81, 82, 85, 86, 87, 88, 89, 90, 91, 92, 93, 94, 95, 96, 97, 98, 99, 100, 101, 102, 103, 104, 105, 106, 107, 108, 109, 110, 111, 112, 113, 114, 115, 116, 117, 118, 119, 120, 121, 122, 123, 124, 125, 126, 127, 129, 144, 145, 148, 149, 150, 151, 152, 153, 154, 155, 156, 157, 158, 159, 160, 161, 162, 163, 164, 165, 166, 167, 168, 169, 170, 171, 172, 173, 174, 175, 176, 181, 182, 183, 184, 185, 186, 187, 188, 189, 190, 191, 192, 193, 194, 195, 196, 197, 198, 199, 200, 201, 202, 203, 204, 205, 206, 207, 208, 209, 210, 211, 212, 213, 214], \"xaxis\": \"x3\", \"y\": [0.6223679045893712, 0.620217391304347, 0.6167346014492748, 0.6207367149758446, 0.6307729468599025, 0.6490594806763277, 0.6648505434782601, 0.6685733695652165, 0.6656514190821247, 0.6661465881642503, 0.6644685990338156, 0.6691810084541052, 0.668066878019323, 0.6576743659420281, 0.6443198973429943, 0.6289122886473422, 0.6217051630434776, 0.6107435084541056, 0.6478759057971005, 0.6671135265700474, 0.6868621678743954, 0.7220757850241536, 0.7413707729468587, 0.761573822463767, 0.7803555253623178, 0.7906363224637669, 0.7973520531400955, 0.7963451086956509, 0.8012839673913031, 0.7996467391304336, 0.7932276570048298, 0.7844602958937187, 0.774945652173912, 0.7647222222222212, 0.7617134661835739, 0.7607827596618348, 0.7553268417874386, 0.7611163949275352, 0.7605517814009651, 0.7684020229468591, 0.7686231884057962, 0.7736503623188397, 0.7763066123188396, 0.7697758152173905, 0.7705268719806753, 0.7697690217391293, 0.7829634661835738, 0.7793236714975836, 0.7776788949275352, 0.7721603260869554, 0.7645244565217383, 0.7578215579710137, 0.7666364734299509, 0.7688934178743952, 0.7632472826086947, 0.7615579710144919, 0.750739734299516, 0.7459163647342987, 0.7404476147342989, 0.7286028079710134, 0.7100362318840568, 0.7048845108695644, 0.6992119565217384, 0.6887447161835741, 0.6954740338164243, 0.7090398550724627, 0.7177143719806752, 0.7252823067632842, 0.7394217995169073, 0.7513964371980666, 0.757001811594202, 0.7502815519323662, 0.751052234299516, 0.7507102958937188, 0.7528336352656996, 0.7542006340579701, 0.7527536231884049, 0.7487839673913034, 0.7336156400966174, 0.7305480072463759, 0.7374230072463758, 0.7455842391304339, 0.7471739130434774, 0.7646950483091776, 0.7662424516908204, 0.7604989432367142, 0.7662032004830908, 0.7691130736714966, 0.7677928743961344, 0.7795297403381631, 0.7839387077294677, 0.7934148550724627, 0.7939794685990328, 0.7855691425120763, 0.7763873792270521, 0.7583227657004822, 0.7479385567632841, 0.729609752415458, 0.7382872886473422, 0.746671195652173, 0.7405517814009651, 0.7347486413043468, 0.7134080615942018, 0.7150090579710136, 0.7077921195652165, 0.7173256340579699, 0.7496180555555545, 0.754771286231883, 0.7467768719806754, 0.729110809178743, 0.724194595410627, 0.7408272946859893, 0.7650384963768107, 0.7379068538647335, 0.7083197463768108, 0.6965194746376803, 0.6940557065217381, 0.6895720108695644, 0.7211171497584531, 0.7232435084541052, 0.7489696557971003, 0.7715202294685979, 0.768232940821255, 0.7728668478260861, 0.7532495471014481, 0.7414787137681148, 0.7524932065217381, 0.7483974939613516, 0.7447984601449266, 0.7721618357487912, 0.7699064009661825, 0.7702958937198056, 0.7560016606280184, 0.7493372584541055, 0.7527823067632843, 0.7278328804347819, 0.7077355072463758, 0.7005849939613518, 0.7084367451690812, 0.6995569142512068, 0.7128955314009652, 0.716034118357487, 0.7201585144927527, 0.7016145833333323, 0.6911858393719799, 0.6880110205314002, 0.6910695954106272, 0.6985680857487914, 0.7215791062801923, 0.7377740036231875, 0.7395923913043466, 0.7261171497584532, 0.7124464070048301, 0.7001011473429943, 0.7006023550724627, 0.7074660326086949, 0.6992647946859896, 0.7007480374396127, 0.7266470410628011, 0.7286662137681151, 0.730655193236714, 0.7061533816425113, 0.6991810084541052, 0.7273814915458927, 0.7376487016908202, 0.7631287741545885, 0.7855087560386463, 0.7613866243961342, 0.7178374094202893, 0.6851894625603855, 0.6550966183574871, 0.6894761473429942], \"yaxis\": \"y3\"}, {\"hovertemplate\": \"label=spaghetti<br>frame_id=%{x}<br>y=%{y}<extra></extra>\", \"legendgroup\": \"spaghetti\", \"line\": {\"color\": \"#ab63fa\", \"dash\": \"solid\"}, \"mode\": \"lines\", \"name\": \"spaghetti\", \"orientation\": \"v\", \"showlegend\": true, \"type\": \"scatter\", \"x\": [147, 149, 150, 151, 152, 153, 154, 156, 157, 158, 158, 159, 159, 160, 160, 161, 161, 162, 162, 166, 167, 168, 169, 170, 171, 173, 174, 175, 175, 176, 180, 181, 181, 181, 182, 182, 182, 182, 183, 183, 183, 184, 185, 185, 186, 186, 187, 189, 195, 197, 198, 199, 199, 200, 200, 201, 201, 203, 205, 211, 212, 213, 214, 215, 216, 217, 218, 219, 220, 221, 222, 223, 224, 225, 226, 227, 228, 229, 230, 231, 232, 233, 234, 235, 236, 237, 238, 239, 240, 241, 242, 243, 244, 245, 246, 247, 248, 249, 250, 251, 252, 253, 254, 255, 256, 257, 258, 259, 260, 261, 262, 263, 264, 265, 266, 267, 268, 269, 270, 271, 272, 273, 274, 275, 276, 277, 278, 279, 280, 281, 282], \"xaxis\": \"x2\", \"y\": [0.7343523550724628, 0.7165783514492745, 0.7447992149758442, 0.7649433876811582, 0.7274139492753614, 0.7007827596618349, 0.6984458031400955, 0.6989960748792261, 0.7191417572463759, 0.7454159118357477, 0.7323354468599025, 0.75814236111111, 0.7517096920289844, 0.7713677536231873, 0.7719972826086945, 0.7557789855072455, 0.755577445652173, 0.7542957427536223, 0.7602196557971006, 0.7474139492753615, 0.7491387379227045, 0.7622614734299508, 0.7773263888888877, 0.7515632548309171, 0.7563632246376802, 0.7478683574879218, 0.7417406400966173, 0.6978962862318833, 0.6887900060386465, 0.687825332125603, 0.7320508756038636, 0.7481551932367141, 0.7310167572463758, 0.7133386171497574, 0.7049969806763275, 0.7208740942028978, 0.7099501811594194, 0.6995455917874388, 0.706923309178743, 0.7236390398550715, 0.7258114432367138, 0.7371074879227044, 0.7056929347826079, 0.7077672101449266, 0.7080948067632842, 0.699711654589371, 0.6874766002415448, 0.6905970712560376, 0.7024750905797092, 0.7186624396135258, 0.7016961050724627, 0.7156076388888879, 0.7188413345410618, 0.7027634359903372, 0.7130080012077282, 0.7466734601449265, 0.7532057669082117, 0.7283265398550715, 0.6939990942028976, 0.7191621376811586, 0.6710114734299507, 0.6558514492753615, 0.6722078804347816, 0.713863979468598, 0.7120003019323663, 0.7423256340579699, 0.7429355374396125, 0.7289409722222212, 0.7283114432367142, 0.7684842995169072, 0.7845146437198057, 0.7832586050724629, 0.7936314915458929, 0.7646769323671486, 0.7574305555555544, 0.7547946859903372, 0.7490587258454096, 0.7445237016908204, 0.7582193538647333, 0.7880434782608685, 0.7861035628019313, 0.7651298309178736, 0.7756861413043468, 0.7825166062801922, 0.7719987922705304, 0.7296248490338154, 0.7145576690821246, 0.7116628925120764, 0.7146927838164242, 0.7238315217391293, 0.7342481884057963, 0.7332676630434772, 0.7487032004830907, 0.7483771135265689, 0.739434631642511, 0.7496648550724626, 0.7694821859903371, 0.7835227958937186, 0.7965715579710132, 0.8116123188405785, 0.8265813707729456, 0.8479929045893707, 0.8402566425120762, 0.8452566425120761, 0.847817028985506, 0.8448641304347814, 0.8434171195652163, 0.8397720410628009, 0.8345720108695641, 0.8290375905797089, 0.8260484601449265, 0.8250098128019312, 0.8280729166666656, 0.8331355676328491, 0.8334322161835738, 0.8243176328502405, 0.8088413345410619, 0.7972622282608686, 0.7863269927536223, 0.7918425422705304, 0.7717542270531392, 0.7640224939613516, 0.7690232487922696, 0.7671701388888881, 0.7680102657004821, 0.773545440821255, 0.7660782363771496, 0.7560354749417251, 0.7525878111170232, 0.7537185399141924, 0.7611251335470091], \"yaxis\": \"y2\"}, {\"hovertemplate\": \"label=adhesion<br>frame_id=%{x}<br>y=%{y}<extra></extra>\", \"legendgroup\": \"adhesion\", \"line\": {\"color\": \"#FFA15A\", \"dash\": \"solid\"}, \"mode\": \"lines\", \"name\": \"adhesion\", \"orientation\": \"v\", \"showlegend\": true, \"type\": \"scatter\", \"x\": [149, 150, 151, 152, 153, 154, 156, 157, 158, 159, 160, 161, 162, 163, 164, 165, 166, 167, 168, 169, 170, 171, 172, 173, 174, 175, 184, 186, 187, 188, 188, 189, 190, 190, 191, 191, 192, 192, 193, 194, 195, 195, 196, 196, 197, 197, 198, 198, 199, 200, 201, 202, 204, 204, 208, 220, 224], \"xaxis\": \"x\", \"y\": [0.7316062801932359, 0.7634171195652163, 0.7598407306763275, 0.7173573369565208, 0.7123762077294677, 0.6933129528985499, 0.7107367149758445, 0.7195403079710134, 0.7300090579710137, 0.7652626811594194, 0.7632291666666657, 0.7679725241545884, 0.7568010265700473, 0.7437182971014482, 0.7433944746376802, 0.7444565217391296, 0.752968749999999, 0.7650173611111101, 0.760643870772946, 0.7711292270531391, 0.7617247886473419, 0.74819217995169, 0.75659420289855, 0.7384057971014484, 0.718888888888888, 0.6819361413043469, 0.725432518115941, 0.6947992149758444, 0.6863971920289847, 0.6925822765700475, 0.6902423007246368, 0.6841810084541052, 0.7020576690821247, 0.7127928743961344, 0.712367904589371, 0.7291372282608686, 0.7154415760869557, 0.7331166968599023, 0.7153434480676321, 0.7122833635265692, 0.72438179347826, 0.7018689613526562, 0.6953064613526563, 0.7063420893719798, 0.6856612318840571, 0.7102853260869556, 0.6871746678743952, 0.7168108393719798, 0.7227075785024144, 0.7232842693236706, 0.7523905495169074, 0.7304981884057962, 0.7047116545893709, 0.698864734299516, 0.7457336956521728, 0.7487190519323662, 0.7708212560386465], \"yaxis\": \"y\"}],                        {\"annotations\": [{\"font\": {}, \"showarrow\": false, \"text\": \"label=adhesion\", \"x\": 0.5, \"xanchor\": \"center\", \"xref\": \"paper\", \"y\": 0.144, \"yanchor\": \"bottom\", \"yref\": \"paper\"}, {\"font\": {}, \"showarrow\": false, \"text\": \"label=spaghetti\", \"x\": 0.5, \"xanchor\": \"center\", \"xref\": \"paper\", \"y\": 0.358, \"yanchor\": \"bottom\", \"yref\": \"paper\"}, {\"font\": {}, \"showarrow\": false, \"text\": \"label=raft\", \"x\": 0.5, \"xanchor\": \"center\", \"xref\": \"paper\", \"y\": 0.572, \"yanchor\": \"bottom\", \"yref\": \"paper\"}, {\"font\": {}, \"showarrow\": false, \"text\": \"label=print\", \"x\": 0.5, \"xanchor\": \"center\", \"xref\": \"paper\", \"y\": 0.7859999999999999, \"yanchor\": \"bottom\", \"yref\": \"paper\"}, {\"font\": {}, \"showarrow\": false, \"text\": \"label=nozzle\", \"x\": 0.5, \"xanchor\": \"center\", \"xref\": \"paper\", \"y\": 1.0, \"yanchor\": \"bottom\", \"yref\": \"paper\"}], \"height\": 800, \"legend\": {\"title\": {\"text\": \"Detection\"}, \"tracegroupgap\": 0}, \"margin\": {\"t\": 60}, \"template\": {\"data\": {\"bar\": [{\"error_x\": {\"color\": \"#2a3f5f\"}, \"error_y\": {\"color\": \"#2a3f5f\"}, \"marker\": {\"line\": {\"color\": \"#E5ECF6\", \"width\": 0.5}}, \"type\": \"bar\"}], \"barpolar\": [{\"marker\": {\"line\": {\"color\": \"#E5ECF6\", \"width\": 0.5}}, \"type\": \"barpolar\"}], \"carpet\": [{\"aaxis\": {\"endlinecolor\": \"#2a3f5f\", \"gridcolor\": \"white\", \"linecolor\": \"white\", \"minorgridcolor\": \"white\", \"startlinecolor\": \"#2a3f5f\"}, \"baxis\": {\"endlinecolor\": \"#2a3f5f\", \"gridcolor\": \"white\", \"linecolor\": \"white\", \"minorgridcolor\": \"white\", \"startlinecolor\": \"#2a3f5f\"}, \"type\": \"carpet\"}], \"choropleth\": [{\"colorbar\": {\"outlinewidth\": 0, \"ticks\": \"\"}, \"type\": \"choropleth\"}], \"contour\": [{\"colorbar\": {\"outlinewidth\": 0, \"ticks\": \"\"}, \"colorscale\": [[0.0, \"#0d0887\"], [0.1111111111111111, \"#46039f\"], [0.2222222222222222, \"#7201a8\"], [0.3333333333333333, \"#9c179e\"], [0.4444444444444444, \"#bd3786\"], [0.5555555555555556, \"#d8576b\"], [0.6666666666666666, \"#ed7953\"], [0.7777777777777778, \"#fb9f3a\"], [0.8888888888888888, \"#fdca26\"], [1.0, \"#f0f921\"]], \"type\": \"contour\"}], \"contourcarpet\": [{\"colorbar\": {\"outlinewidth\": 0, \"ticks\": \"\"}, \"type\": \"contourcarpet\"}], \"heatmap\": [{\"colorbar\": {\"outlinewidth\": 0, \"ticks\": \"\"}, \"colorscale\": [[0.0, \"#0d0887\"], [0.1111111111111111, \"#46039f\"], [0.2222222222222222, \"#7201a8\"], [0.3333333333333333, \"#9c179e\"], [0.4444444444444444, \"#bd3786\"], [0.5555555555555556, \"#d8576b\"], [0.6666666666666666, \"#ed7953\"], [0.7777777777777778, \"#fb9f3a\"], [0.8888888888888888, \"#fdca26\"], [1.0, \"#f0f921\"]], \"type\": \"heatmap\"}], \"heatmapgl\": [{\"colorbar\": {\"outlinewidth\": 0, \"ticks\": \"\"}, \"colorscale\": [[0.0, \"#0d0887\"], [0.1111111111111111, \"#46039f\"], [0.2222222222222222, \"#7201a8\"], [0.3333333333333333, \"#9c179e\"], [0.4444444444444444, \"#bd3786\"], [0.5555555555555556, \"#d8576b\"], [0.6666666666666666, \"#ed7953\"], [0.7777777777777778, \"#fb9f3a\"], [0.8888888888888888, \"#fdca26\"], [1.0, \"#f0f921\"]], \"type\": \"heatmapgl\"}], \"histogram\": [{\"marker\": {\"colorbar\": {\"outlinewidth\": 0, \"ticks\": \"\"}}, \"type\": \"histogram\"}], \"histogram2d\": [{\"colorbar\": {\"outlinewidth\": 0, \"ticks\": \"\"}, \"colorscale\": [[0.0, \"#0d0887\"], [0.1111111111111111, \"#46039f\"], [0.2222222222222222, \"#7201a8\"], [0.3333333333333333, \"#9c179e\"], [0.4444444444444444, \"#bd3786\"], [0.5555555555555556, \"#d8576b\"], [0.6666666666666666, \"#ed7953\"], [0.7777777777777778, \"#fb9f3a\"], [0.8888888888888888, \"#fdca26\"], [1.0, \"#f0f921\"]], \"type\": \"histogram2d\"}], \"histogram2dcontour\": [{\"colorbar\": {\"outlinewidth\": 0, \"ticks\": \"\"}, \"colorscale\": [[0.0, \"#0d0887\"], [0.1111111111111111, \"#46039f\"], [0.2222222222222222, \"#7201a8\"], [0.3333333333333333, \"#9c179e\"], [0.4444444444444444, \"#bd3786\"], [0.5555555555555556, \"#d8576b\"], [0.6666666666666666, \"#ed7953\"], [0.7777777777777778, \"#fb9f3a\"], [0.8888888888888888, \"#fdca26\"], [1.0, \"#f0f921\"]], \"type\": \"histogram2dcontour\"}], \"mesh3d\": [{\"colorbar\": {\"outlinewidth\": 0, \"ticks\": \"\"}, \"type\": \"mesh3d\"}], \"parcoords\": [{\"line\": {\"colorbar\": {\"outlinewidth\": 0, \"ticks\": \"\"}}, \"type\": \"parcoords\"}], \"pie\": [{\"automargin\": true, \"type\": \"pie\"}], \"scatter\": [{\"marker\": {\"colorbar\": {\"outlinewidth\": 0, \"ticks\": \"\"}}, \"type\": \"scatter\"}], \"scatter3d\": [{\"line\": {\"colorbar\": {\"outlinewidth\": 0, \"ticks\": \"\"}}, \"marker\": {\"colorbar\": {\"outlinewidth\": 0, \"ticks\": \"\"}}, \"type\": \"scatter3d\"}], \"scattercarpet\": [{\"marker\": {\"colorbar\": {\"outlinewidth\": 0, \"ticks\": \"\"}}, \"type\": \"scattercarpet\"}], \"scattergeo\": [{\"marker\": {\"colorbar\": {\"outlinewidth\": 0, \"ticks\": \"\"}}, \"type\": \"scattergeo\"}], \"scattergl\": [{\"marker\": {\"colorbar\": {\"outlinewidth\": 0, \"ticks\": \"\"}}, \"type\": \"scattergl\"}], \"scattermapbox\": [{\"marker\": {\"colorbar\": {\"outlinewidth\": 0, \"ticks\": \"\"}}, \"type\": \"scattermapbox\"}], \"scatterpolar\": [{\"marker\": {\"colorbar\": {\"outlinewidth\": 0, \"ticks\": \"\"}}, \"type\": \"scatterpolar\"}], \"scatterpolargl\": [{\"marker\": {\"colorbar\": {\"outlinewidth\": 0, \"ticks\": \"\"}}, \"type\": \"scatterpolargl\"}], \"scatterternary\": [{\"marker\": {\"colorbar\": {\"outlinewidth\": 0, \"ticks\": \"\"}}, \"type\": \"scatterternary\"}], \"surface\": [{\"colorbar\": {\"outlinewidth\": 0, \"ticks\": \"\"}, \"colorscale\": [[0.0, \"#0d0887\"], [0.1111111111111111, \"#46039f\"], [0.2222222222222222, \"#7201a8\"], [0.3333333333333333, \"#9c179e\"], [0.4444444444444444, \"#bd3786\"], [0.5555555555555556, \"#d8576b\"], [0.6666666666666666, \"#ed7953\"], [0.7777777777777778, \"#fb9f3a\"], [0.8888888888888888, \"#fdca26\"], [1.0, \"#f0f921\"]], \"type\": \"surface\"}], \"table\": [{\"cells\": {\"fill\": {\"color\": \"#EBF0F8\"}, \"line\": {\"color\": \"white\"}}, \"header\": {\"fill\": {\"color\": \"#C8D4E3\"}, \"line\": {\"color\": \"white\"}}, \"type\": \"table\"}]}, \"layout\": {\"annotationdefaults\": {\"arrowcolor\": \"#2a3f5f\", \"arrowhead\": 0, \"arrowwidth\": 1}, \"coloraxis\": {\"colorbar\": {\"outlinewidth\": 0, \"ticks\": \"\"}}, \"colorscale\": {\"diverging\": [[0, \"#8e0152\"], [0.1, \"#c51b7d\"], [0.2, \"#de77ae\"], [0.3, \"#f1b6da\"], [0.4, \"#fde0ef\"], [0.5, \"#f7f7f7\"], [0.6, \"#e6f5d0\"], [0.7, \"#b8e186\"], [0.8, \"#7fbc41\"], [0.9, \"#4d9221\"], [1, \"#276419\"]], \"sequential\": [[0.0, \"#0d0887\"], [0.1111111111111111, \"#46039f\"], [0.2222222222222222, \"#7201a8\"], [0.3333333333333333, \"#9c179e\"], [0.4444444444444444, \"#bd3786\"], [0.5555555555555556, \"#d8576b\"], [0.6666666666666666, \"#ed7953\"], [0.7777777777777778, \"#fb9f3a\"], [0.8888888888888888, \"#fdca26\"], [1.0, \"#f0f921\"]], \"sequentialminus\": [[0.0, \"#0d0887\"], [0.1111111111111111, \"#46039f\"], [0.2222222222222222, \"#7201a8\"], [0.3333333333333333, \"#9c179e\"], [0.4444444444444444, \"#bd3786\"], [0.5555555555555556, \"#d8576b\"], [0.6666666666666666, \"#ed7953\"], [0.7777777777777778, \"#fb9f3a\"], [0.8888888888888888, \"#fdca26\"], [1.0, \"#f0f921\"]]}, \"colorway\": [\"#636efa\", \"#EF553B\", \"#00cc96\", \"#ab63fa\", \"#FFA15A\", \"#19d3f3\", \"#FF6692\", \"#B6E880\", \"#FF97FF\", \"#FECB52\"], \"font\": {\"color\": \"#2a3f5f\"}, \"geo\": {\"bgcolor\": \"white\", \"lakecolor\": \"white\", \"landcolor\": \"#E5ECF6\", \"showlakes\": true, \"showland\": true, \"subunitcolor\": \"white\"}, \"hoverlabel\": {\"align\": \"left\"}, \"hovermode\": \"closest\", \"mapbox\": {\"style\": \"light\"}, \"paper_bgcolor\": \"white\", \"plot_bgcolor\": \"#E5ECF6\", \"polar\": {\"angularaxis\": {\"gridcolor\": \"white\", \"linecolor\": \"white\", \"ticks\": \"\"}, \"bgcolor\": \"#E5ECF6\", \"radialaxis\": {\"gridcolor\": \"white\", \"linecolor\": \"white\", \"ticks\": \"\"}}, \"scene\": {\"xaxis\": {\"backgroundcolor\": \"#E5ECF6\", \"gridcolor\": \"white\", \"gridwidth\": 2, \"linecolor\": \"white\", \"showbackground\": true, \"ticks\": \"\", \"zerolinecolor\": \"white\"}, \"yaxis\": {\"backgroundcolor\": \"#E5ECF6\", \"gridcolor\": \"white\", \"gridwidth\": 2, \"linecolor\": \"white\", \"showbackground\": true, \"ticks\": \"\", \"zerolinecolor\": \"white\"}, \"zaxis\": {\"backgroundcolor\": \"#E5ECF6\", \"gridcolor\": \"white\", \"gridwidth\": 2, \"linecolor\": \"white\", \"showbackground\": true, \"ticks\": \"\", \"zerolinecolor\": \"white\"}}, \"shapedefaults\": {\"line\": {\"color\": \"#2a3f5f\"}}, \"ternary\": {\"aaxis\": {\"gridcolor\": \"white\", \"linecolor\": \"white\", \"ticks\": \"\"}, \"baxis\": {\"gridcolor\": \"white\", \"linecolor\": \"white\", \"ticks\": \"\"}, \"bgcolor\": \"#E5ECF6\", \"caxis\": {\"gridcolor\": \"white\", \"linecolor\": \"white\", \"ticks\": \"\"}}, \"title\": {\"x\": 0.05}, \"xaxis\": {\"automargin\": true, \"gridcolor\": \"white\", \"linecolor\": \"white\", \"ticks\": \"\", \"title\": {\"standoff\": 15}, \"zerolinecolor\": \"white\", \"zerolinewidth\": 2}, \"yaxis\": {\"automargin\": true, \"gridcolor\": \"white\", \"linecolor\": \"white\", \"ticks\": \"\", \"title\": {\"standoff\": 15}, \"zerolinecolor\": \"white\", \"zerolinewidth\": 2}}}, \"title\": {\"text\": \"Print Nanny Confidence over Time\"}, \"width\": 800, \"xaxis\": {\"anchor\": \"y\", \"domain\": [0.0, 1.0], \"title\": {\"text\": \"Time\"}}, \"xaxis2\": {\"anchor\": \"y2\", \"domain\": [0.0, 1.0], \"matches\": \"x\", \"showticklabels\": false}, \"xaxis3\": {\"anchor\": \"y3\", \"domain\": [0.0, 1.0], \"matches\": \"x\", \"showticklabels\": false}, \"xaxis4\": {\"anchor\": \"y4\", \"domain\": [0.0, 1.0], \"matches\": \"x\", \"showticklabels\": false}, \"xaxis5\": {\"anchor\": \"y5\", \"domain\": [0.0, 1.0], \"matches\": \"x\", \"showticklabels\": false}, \"yaxis\": {\"anchor\": \"x\", \"domain\": [0.0, 0.144], \"title\": {\"text\": \"Confidence\"}}, \"yaxis2\": {\"anchor\": \"x2\", \"domain\": [0.214, 0.358], \"matches\": \"y\", \"title\": {\"text\": \"Confidence\"}}, \"yaxis3\": {\"anchor\": \"x3\", \"domain\": [0.428, 0.572], \"matches\": \"y\", \"title\": {\"text\": \"Confidence\"}}, \"yaxis4\": {\"anchor\": \"x4\", \"domain\": [0.6419999999999999, 0.7859999999999999], \"matches\": \"y\", \"title\": {\"text\": \"Confidence\"}}, \"yaxis5\": {\"anchor\": \"x5\", \"domain\": [0.856, 1.0], \"matches\": \"y\", \"title\": {\"text\": \"Confidence\"}}},                        {\"responsive\": true}                    ).then(function(){\n",
       "                            \n",
       "var gd = document.getElementById('7daef5e7-964d-4a34-860c-95b4c82efa72');\n",
       "var x = new MutationObserver(function (mutations, observer) {{\n",
       "        var display = window.getComputedStyle(gd).display;\n",
       "        if (!display || display === 'none') {{\n",
       "            console.log([gd, 'removed!']);\n",
       "            Plotly.purge(gd);\n",
       "            observer.disconnect();\n",
       "        }}\n",
       "}});\n",
       "\n",
       "// Listen for the removal of the full notebook cells\n",
       "var notebookContainer = gd.closest('#notebook-container');\n",
       "if (notebookContainer) {{\n",
       "    x.observe(notebookContainer, {childList: true});\n",
       "}}\n",
       "\n",
       "// Listen for the clearing of the current output cell\n",
       "var outputEl = gd.closest('.output');\n",
       "if (outputEl) {{\n",
       "    x.observe(outputEl, {childList: true});\n",
       "}}\n",
       "\n",
       "                        })                };                });            </script>        </div>"
      ]
     },
     "metadata": {},
     "output_type": "display_data"
    }
   ],
   "source": [
    "g = confident_df.reset_index() #.set_index('frame_id')\n",
    "import plotly.express as px\n",
    "from scipy import signal\n",
    "y = signal.savgol_filter(g['detection_scores'], int(framerate), 3)\n",
    "\n",
    "\n",
    "\n",
    "fig = px.line(\n",
    "    g, x='frame_id', y=y, color='label', facet_col='label', line_group='label',\n",
    "    height=800, width=800, facet_col_wrap=1, facet_col_spacing=0.05\n",
    ")\n",
    "\n",
    "fig.update_yaxes(title_text='Confidence')\n",
    "#fig.update_xaxes(title_text='Time')\n",
    "\n",
    "fig.update_layout(\n",
    "    overwrite=True,\n",
    "    title_text=\"Print Nanny Confidence over Time\",\n",
    "    xaxis_title='Time',\n",
    "    legend_title='Detection'\n",
    ")\n",
    "\n",
    "fig.show()\n"
   ]
  },
  {
   "cell_type": "code",
   "execution_count": 12,
   "metadata": {},
   "outputs": [
    {
     "data": {
      "application/vnd.plotly.v1+json": {
       "config": {
        "plotlyServerURL": "https://plot.ly"
       },
       "data": [
        {
         "mode": "lines",
         "name": "print",
         "type": "scatter",
         "x": [
          5,
          6,
          7,
          8,
          9,
          30,
          31,
          32,
          33,
          34,
          35,
          36,
          37,
          38,
          39,
          40,
          41,
          42,
          43,
          44,
          45,
          46,
          47,
          48,
          49,
          50,
          51,
          52,
          53,
          54,
          55,
          56,
          57,
          58,
          59,
          60,
          61,
          62,
          63,
          64,
          65,
          66,
          67,
          68,
          69,
          70,
          71,
          72,
          73,
          74,
          75,
          76,
          77,
          78,
          79,
          80,
          81,
          82,
          83,
          84,
          85,
          86,
          87,
          88,
          89,
          90,
          91,
          92,
          93,
          94,
          95,
          96,
          97,
          98,
          99,
          100,
          101,
          102,
          103,
          104,
          105,
          106,
          107,
          108,
          109,
          110,
          111,
          112,
          113,
          114,
          115,
          116,
          117,
          118,
          119,
          120,
          121,
          122,
          123,
          124,
          125,
          126,
          127,
          128,
          129,
          130,
          131,
          132,
          133,
          134,
          135,
          136,
          137,
          138,
          139,
          140,
          141,
          142,
          143,
          144,
          146,
          148,
          156,
          157,
          158,
          159,
          160,
          161,
          162,
          163,
          164,
          165,
          166,
          167,
          168,
          169,
          170,
          171,
          173,
          174,
          175,
          176,
          177,
          178,
          179,
          180,
          181,
          182,
          184,
          185,
          186,
          187,
          188,
          189,
          190,
          191,
          192,
          193,
          194,
          195,
          196,
          197,
          198,
          199,
          200,
          201,
          202,
          203,
          204,
          205,
          206,
          207,
          208,
          209,
          210,
          211,
          212,
          213,
          214,
          215,
          216,
          217,
          218,
          219,
          220,
          221,
          222,
          223,
          224,
          225,
          226,
          227,
          228,
          229,
          230,
          231,
          232,
          233,
          234,
          235,
          236,
          238,
          239,
          240,
          241,
          242,
          243,
          244,
          245,
          246,
          247,
          248,
          249,
          250,
          251,
          252,
          253,
          254,
          255,
          256,
          257,
          258,
          259,
          260,
          261,
          262,
          263,
          264,
          265,
          266,
          267,
          268,
          269,
          270,
          271,
          272,
          273,
          274,
          275,
          276,
          277,
          278,
          279,
          280,
          281,
          282
         ],
         "y": [
          0.565990376593659,
          0.5694470039716623,
          0.5713360916083627,
          0.5759622366553356,
          0.5854901264578917,
          0.6004798501486597,
          0.6203621897155671,
          0.6438538905442172,
          0.6693129114346623,
          0.6950336540925757,
          0.7194821720948179,
          0.7414713593294023,
          0.7602761178216604,
          0.7674519203058336,
          0.7778183991778858,
          0.7905619730070644,
          0.8074237259677612,
          0.8215615000332472,
          0.8337701247358205,
          0.8425005105764798,
          0.851401184787365,
          0.8616786774861303,
          0.8679696832187391,
          0.8687151866872074,
          0.8726141570604391,
          0.8749189887010154,
          0.8788697410673703,
          0.8768007038279535,
          0.8746264109608448,
          0.8663129245863638,
          0.8614690637552443,
          0.858871582121787,
          0.8588219657213766,
          0.8582031384892665,
          0.859362905194277,
          0.8619818637802572,
          0.8627338189517777,
          0.862791580685293,
          0.8564866434369071,
          0.8478353908861306,
          0.836254259100863,
          0.8238511592674569,
          0.8126391758610554,
          0.805787520911524,
          0.8000687142236383,
          0.797280728044089,
          0.8047873551413838,
          0.8061148866746991,
          0.8099819339443336,
          0.8120833901132888,
          0.8121206844436235,
          0.8086824875036559,
          0.8050133516772578,
          0.7966657136339208,
          0.7899934701193557,
          0.7833483551775977,
          0.7813318125153766,
          0.77956560229514,
          0.7765500777466436,
          0.7719273400392087,
          0.7681843221703942,
          0.7668163516566587,
          0.7651513350034638,
          0.7553540358082733,
          0.7496737371636876,
          0.7436061334980582,
          0.7346738729209793,
          0.7345997734575616,
          0.7388826012706622,
          0.7356848593631246,
          0.7388954927451271,
          0.7369117382304247,
          0.7337794228095512,
          0.7296239930970461,
          0.7265266082159919,
          0.7244563373775427,
          0.724897298984973,
          0.7268154652729987,
          0.7282561936034878,
          0.7285657865255817,
          0.7308609807151475,
          0.742085203333011,
          0.7492772580369979,
          0.7528431387740592,
          0.7581326218438798,
          0.762550063748476,
          0.7771375002386394,
          0.7836734791181359,
          0.7955206553270435,
          0.8053580050614761,
          0.8066182779384738,
          0.8128243549183639,
          0.8196353700381972,
          0.81727108502266,
          0.8118683799666472,
          0.8041003067673063,
          0.7987238287823896,
          0.7920865953519125,
          0.7845319049560514,
          0.7763049143563809,
          0.7720928796165993,
          0.7772860107138606,
          0.7800692434604918,
          0.7862393187044118,
          0.7855053624122696,
          0.7906736080850982,
          0.7885145433053449,
          0.7849564705011159,
          0.7900642313749674,
          0.7806601645745695,
          0.7585058740441377,
          0.7497404356957804,
          0.7490825482505726,
          0.7602935307249272,
          0.7795140523061332,
          0.7912087143116343,
          0.7957622166876767,
          0.7882084675656613,
          0.7703779940099416,
          0.7422463149461171,
          0.7014368093683284,
          0.6622337725476974,
          0.6196976227317441,
          0.6019064997257016,
          0.598516661060962,
          0.6166238638242016,
          0.633917286296018,
          0.6606331436655903,
          0.6918835718752779,
          0.7258842179829134,
          0.7399111921851865,
          0.7531486643325513,
          0.7688494461554378,
          0.7793412596171838,
          0.7673575098762977,
          0.7304873685770755,
          0.699511261372176,
          0.6808121948952754,
          0.6766516942356464,
          0.6722246904470952,
          0.6708941554547708,
          0.6748849112966753,
          0.6852511866679731,
          0.7071353687255081,
          0.7326505915334686,
          0.7611320466324099,
          0.7618245988070067,
          0.7622975000897572,
          0.7594268839868519,
          0.7674267405676076,
          0.7792811692252051,
          0.7881790931930035,
          0.7998886498628003,
          0.8067335428866315,
          0.7916130789268181,
          0.7832573472541506,
          0.7733191367128669,
          0.7713678985694316,
          0.7856127816440672,
          0.7756878278180153,
          0.7720873857591146,
          0.7727285337758638,
          0.7767939889775448,
          0.7852031213692015,
          0.7931093934550761,
          0.8060084339057647,
          0.8200600263963013,
          0.830574504671648,
          0.8420758528926375,
          0.8532265865493451,
          0.8568996856689264,
          0.8600567022366767,
          0.8575772410974155,
          0.8576727001855597,
          0.8618110457777757,
          0.8641000925211162,
          0.8729834121611991,
          0.8770676093183012,
          0.8732416632351228,
          0.8695941727299499,
          0.8650630143389583,
          0.8560042047963515,
          0.8430303854416177,
          0.8248103318987721,
          0.808497798969337,
          0.7939678365275836,
          0.7905205317688604,
          0.7811166910067593,
          0.7694171032224248,
          0.7555049876296711,
          0.7405024149046167,
          0.7281370210431353,
          0.7279764224905625,
          0.7325640712325094,
          0.7344010546399985,
          0.7319976543932447,
          0.7225606595799892,
          0.7057622178912807,
          0.683551954047639,
          0.6522631225279389,
          0.6288605736194128,
          0.610766313371543,
          0.597618463088745,
          0.589448225336116,
          0.5864432437175541,
          0.592779512790474,
          0.6076069814027063,
          0.625759562182578,
          0.6415649891308943,
          0.6527007127841167,
          0.6765513239517835,
          0.6951273215249074,
          0.7234617052370209,
          0.7539653950534708,
          0.7881730120336679,
          0.8065440637987353,
          0.8193522030478705,
          0.8214384709016053,
          0.8169065031476808,
          0.8000829281215693,
          0.7858975739889491,
          0.771899659296604,
          0.7662090046511149,
          0.7618523849457686,
          0.7609336327345442,
          0.7662494781007178,
          0.7723204531175983,
          0.7769390213796206,
          0.7745605801357479,
          0.7723830637371542,
          0.7649676553556182,
          0.7465429861134303,
          0.721332555730953,
          0.6986454670835124,
          0.6924621207745103,
          0.6949541719546861,
          0.7052287806900381,
          0.7209473575151205,
          0.7386620419502566,
          0.7543527032890658,
          0.7641644637372618,
          0.765345743902778,
          0.757386830637223,
          0.743358967228535,
          0.7314539659450753,
          0.7367243429309139
         ]
        },
        {
         "cliponaxis": false,
         "mode": "lines",
         "name": "defects",
         "type": "scatter",
         "x": [
          147,
          149,
          149,
          150,
          150,
          151,
          151,
          152,
          152,
          153,
          153,
          154,
          154,
          156,
          156,
          157,
          157,
          158,
          158,
          158,
          159,
          159,
          159,
          160,
          160,
          160,
          161,
          161,
          161,
          162,
          162,
          162,
          163,
          164,
          165,
          166,
          166,
          167,
          167,
          168,
          168,
          169,
          169,
          170,
          170,
          171,
          171,
          172,
          173,
          173,
          174,
          174,
          175,
          175,
          175,
          176,
          180,
          181,
          181,
          181,
          182,
          182,
          182,
          182,
          183,
          183,
          183,
          184,
          184,
          185,
          185,
          186,
          186,
          186,
          187,
          187,
          188,
          188,
          189,
          189,
          190,
          190,
          191,
          191,
          192,
          192,
          193,
          194,
          195,
          195,
          195,
          196,
          196,
          197,
          197,
          197,
          198,
          198,
          198,
          199,
          199,
          199,
          200,
          200,
          200,
          201,
          201,
          201,
          202,
          203,
          204,
          204,
          205,
          208,
          211,
          212,
          213,
          214,
          215,
          216,
          217,
          218,
          219,
          220,
          220,
          221,
          222,
          223,
          224,
          224,
          225,
          226,
          227,
          228,
          229,
          230,
          231,
          232,
          233,
          234,
          235,
          236,
          237,
          238,
          239,
          240,
          241,
          242,
          243,
          244,
          245,
          246,
          247,
          248,
          249,
          250,
          251,
          252,
          253,
          254,
          255,
          256,
          257,
          258,
          259,
          260,
          261,
          262,
          263,
          264,
          265,
          266,
          267,
          268,
          269,
          270,
          271,
          272,
          273,
          274,
          275,
          276,
          277,
          278,
          279,
          280,
          281,
          282
         ],
         "y": [
          0.6702457264957268,
          0.6895833333333337,
          0.7049139492753626,
          0.7166419763056994,
          0.7251718164082297,
          0.7309078715668392,
          0.7342545437654135,
          0.7356162349878386,
          0.7353973472179997,
          0.7340022824397827,
          0.7318354426370733,
          0.7293012297937573,
          0.7268040458937187,
          0.7320863526570038,
          0.7322705314009651,
          0.7259344806763276,
          0.7362273550724627,
          0.7351622886473419,
          0.7439613526570036,
          0.7549630132850232,
          0.7753004227053127,
          0.77236111111111,
          0.7782291666666655,
          0.7725249094202886,
          0.7805419685990327,
          0.7811662137681149,
          0.7885990338164239,
          0.7964998490338153,
          0.8052143719806752,
          0.7987552838164241,
          0.8020440821256027,
          0.8030200785024145,
          0.8042512077294676,
          0.8062477355072454,
          0.80748188405797,
          0.8045252113526559,
          0.8093568840579699,
          0.8155359299516898,
          0.8048686594202887,
          0.8061148852656995,
          0.804187801932366,
          0.806249999999999,
          0.8125150966183565,
          0.8104649758454097,
          0.8016123188405788,
          0.779711654589371,
          0.763076690821255,
          0.7629362922705305,
          0.7457752113526561,
          0.739700332125603,
          0.7395055857487913,
          0.7402785326086948,
          0.720975241545893,
          0.7079929045893711,
          0.7082495471014484,
          0.7088564311594194,
          0.712573218599033,
          0.7006544384057963,
          0.7037764190821247,
          0.7008974939613519,
          0.6997531702898544,
          0.7033793780193228,
          0.6964862620772939,
          0.6992746074879219,
          0.6960726147342987,
          0.6937115036231876,
          0.6801185084541054,
          0.6623309178743954,
          0.6420674818840573,
          0.6240911835748786,
          0.6127090881642504,
          0.6076290760869556,
          0.58493583937198,
          0.5927272041062793,
          0.5867149758454099,
          0.5819859601449268,
          0.5676977657004826,
          0.5813503925120767,
          0.597447916666666,
          0.6026728562801925,
          0.60653381642512,
          0.6033242753623181,
          0.6186216787439606,
          0.6244640700483084,
          0.6223792270531392,
          0.6252264492753614,
          0.6297856280193226,
          0.6330480072463759,
          0.6342376207729459,
          0.639951690821255,
          0.6321950483091778,
          0.6373452596618349,
          0.6447841183574871,
          0.6422909118357477,
          0.6351781400966177,
          0.6446354166666657,
          0.6471490036231876,
          0.6541455314009654,
          0.6563383152173905,
          0.6661201690821247,
          0.6565119263285015,
          0.6562726449275353,
          0.6579913949275353,
          0.6634224033816416,
          0.6634284420289845,
          0.6660250603864725,
          0.66003170289855,
          0.6485620471014485,
          0.6380314009661826,
          0.6500837862318831,
          0.6479838466183565,
          0.6425649154589362,
          0.6657027475845404,
          0.6662009359903373,
          0.6637182971014483,
          0.6778124999999989,
          0.6889032306763273,
          0.7084759963768105,
          0.7197003321256027,
          0.7345259661835736,
          0.7442829106280181,
          0.7596927838164239,
          0.7722010869565205,
          0.7856446256038635,
          0.790779740338163,
          0.8112975543478248,
          0.834060235507245,
          0.8529445954106264,
          0.8559057971014479,
          0.8618991545893706,
          0.8587484903381628,
          0.8639153079710132,
          0.8790202294685977,
          0.8840504227053126,
          0.8802581521739118,
          0.8830819746376799,
          0.8902279589371968,
          0.8742406400966171,
          0.8762439613526559,
          0.8768568840579698,
          0.8767678140096605,
          0.8799305555555542,
          0.8645682367149747,
          0.8654083635265688,
          0.8686896135265689,
          0.8708439009661825,
          0.8719738828502405,
          0.8730978260869553,
          0.8718923611111098,
          0.8713737922705302,
          0.8707435084541052,
          0.8690700483091776,
          0.8690745772946848,
          0.8722788345410615,
          0.8758227657004819,
          0.8800837862318828,
          0.8842980072463756,
          0.883207276570047,
          0.8873890398550712,
          0.8856997282608682,
          0.8891243961352644,
          0.891013737922704,
          0.8914387077294673,
          0.8916727053140083,
          0.8940594806763272,
          0.9006665157004818,
          0.9023905495169071,
          0.9027581521739118,
          0.9005049818840568,
          0.8973497886473419,
          0.8911020531400954,
          0.8859805253623178,
          0.8831355676328492,
          0.8794580314009651,
          0.8754838466183562,
          0.8734956219806752,
          0.8703842670011149,
          0.8668817855604543,
          0.8628937578122363,
          0.8583257639100034,
          0.8530833840072974,
          0.8470721982576607,
          0.8401977868146351,
          0.8323657298317628,
          0.8234816074625861,
          0.813450999860647,
          0.8021794871794874,
          0.7895726495726497
         ]
        }
       ],
       "layout": {
        "template": {
         "data": {
          "bar": [
           {
            "error_x": {
             "color": "#2a3f5f"
            },
            "error_y": {
             "color": "#2a3f5f"
            },
            "marker": {
             "line": {
              "color": "#E5ECF6",
              "width": 0.5
             }
            },
            "type": "bar"
           }
          ],
          "barpolar": [
           {
            "marker": {
             "line": {
              "color": "#E5ECF6",
              "width": 0.5
             }
            },
            "type": "barpolar"
           }
          ],
          "carpet": [
           {
            "aaxis": {
             "endlinecolor": "#2a3f5f",
             "gridcolor": "white",
             "linecolor": "white",
             "minorgridcolor": "white",
             "startlinecolor": "#2a3f5f"
            },
            "baxis": {
             "endlinecolor": "#2a3f5f",
             "gridcolor": "white",
             "linecolor": "white",
             "minorgridcolor": "white",
             "startlinecolor": "#2a3f5f"
            },
            "type": "carpet"
           }
          ],
          "choropleth": [
           {
            "colorbar": {
             "outlinewidth": 0,
             "ticks": ""
            },
            "type": "choropleth"
           }
          ],
          "contour": [
           {
            "colorbar": {
             "outlinewidth": 0,
             "ticks": ""
            },
            "colorscale": [
             [
              0,
              "#0d0887"
             ],
             [
              0.1111111111111111,
              "#46039f"
             ],
             [
              0.2222222222222222,
              "#7201a8"
             ],
             [
              0.3333333333333333,
              "#9c179e"
             ],
             [
              0.4444444444444444,
              "#bd3786"
             ],
             [
              0.5555555555555556,
              "#d8576b"
             ],
             [
              0.6666666666666666,
              "#ed7953"
             ],
             [
              0.7777777777777778,
              "#fb9f3a"
             ],
             [
              0.8888888888888888,
              "#fdca26"
             ],
             [
              1,
              "#f0f921"
             ]
            ],
            "type": "contour"
           }
          ],
          "contourcarpet": [
           {
            "colorbar": {
             "outlinewidth": 0,
             "ticks": ""
            },
            "type": "contourcarpet"
           }
          ],
          "heatmap": [
           {
            "colorbar": {
             "outlinewidth": 0,
             "ticks": ""
            },
            "colorscale": [
             [
              0,
              "#0d0887"
             ],
             [
              0.1111111111111111,
              "#46039f"
             ],
             [
              0.2222222222222222,
              "#7201a8"
             ],
             [
              0.3333333333333333,
              "#9c179e"
             ],
             [
              0.4444444444444444,
              "#bd3786"
             ],
             [
              0.5555555555555556,
              "#d8576b"
             ],
             [
              0.6666666666666666,
              "#ed7953"
             ],
             [
              0.7777777777777778,
              "#fb9f3a"
             ],
             [
              0.8888888888888888,
              "#fdca26"
             ],
             [
              1,
              "#f0f921"
             ]
            ],
            "type": "heatmap"
           }
          ],
          "heatmapgl": [
           {
            "colorbar": {
             "outlinewidth": 0,
             "ticks": ""
            },
            "colorscale": [
             [
              0,
              "#0d0887"
             ],
             [
              0.1111111111111111,
              "#46039f"
             ],
             [
              0.2222222222222222,
              "#7201a8"
             ],
             [
              0.3333333333333333,
              "#9c179e"
             ],
             [
              0.4444444444444444,
              "#bd3786"
             ],
             [
              0.5555555555555556,
              "#d8576b"
             ],
             [
              0.6666666666666666,
              "#ed7953"
             ],
             [
              0.7777777777777778,
              "#fb9f3a"
             ],
             [
              0.8888888888888888,
              "#fdca26"
             ],
             [
              1,
              "#f0f921"
             ]
            ],
            "type": "heatmapgl"
           }
          ],
          "histogram": [
           {
            "marker": {
             "colorbar": {
              "outlinewidth": 0,
              "ticks": ""
             }
            },
            "type": "histogram"
           }
          ],
          "histogram2d": [
           {
            "colorbar": {
             "outlinewidth": 0,
             "ticks": ""
            },
            "colorscale": [
             [
              0,
              "#0d0887"
             ],
             [
              0.1111111111111111,
              "#46039f"
             ],
             [
              0.2222222222222222,
              "#7201a8"
             ],
             [
              0.3333333333333333,
              "#9c179e"
             ],
             [
              0.4444444444444444,
              "#bd3786"
             ],
             [
              0.5555555555555556,
              "#d8576b"
             ],
             [
              0.6666666666666666,
              "#ed7953"
             ],
             [
              0.7777777777777778,
              "#fb9f3a"
             ],
             [
              0.8888888888888888,
              "#fdca26"
             ],
             [
              1,
              "#f0f921"
             ]
            ],
            "type": "histogram2d"
           }
          ],
          "histogram2dcontour": [
           {
            "colorbar": {
             "outlinewidth": 0,
             "ticks": ""
            },
            "colorscale": [
             [
              0,
              "#0d0887"
             ],
             [
              0.1111111111111111,
              "#46039f"
             ],
             [
              0.2222222222222222,
              "#7201a8"
             ],
             [
              0.3333333333333333,
              "#9c179e"
             ],
             [
              0.4444444444444444,
              "#bd3786"
             ],
             [
              0.5555555555555556,
              "#d8576b"
             ],
             [
              0.6666666666666666,
              "#ed7953"
             ],
             [
              0.7777777777777778,
              "#fb9f3a"
             ],
             [
              0.8888888888888888,
              "#fdca26"
             ],
             [
              1,
              "#f0f921"
             ]
            ],
            "type": "histogram2dcontour"
           }
          ],
          "mesh3d": [
           {
            "colorbar": {
             "outlinewidth": 0,
             "ticks": ""
            },
            "type": "mesh3d"
           }
          ],
          "parcoords": [
           {
            "line": {
             "colorbar": {
              "outlinewidth": 0,
              "ticks": ""
             }
            },
            "type": "parcoords"
           }
          ],
          "pie": [
           {
            "automargin": true,
            "type": "pie"
           }
          ],
          "scatter": [
           {
            "marker": {
             "colorbar": {
              "outlinewidth": 0,
              "ticks": ""
             }
            },
            "type": "scatter"
           }
          ],
          "scatter3d": [
           {
            "line": {
             "colorbar": {
              "outlinewidth": 0,
              "ticks": ""
             }
            },
            "marker": {
             "colorbar": {
              "outlinewidth": 0,
              "ticks": ""
             }
            },
            "type": "scatter3d"
           }
          ],
          "scattercarpet": [
           {
            "marker": {
             "colorbar": {
              "outlinewidth": 0,
              "ticks": ""
             }
            },
            "type": "scattercarpet"
           }
          ],
          "scattergeo": [
           {
            "marker": {
             "colorbar": {
              "outlinewidth": 0,
              "ticks": ""
             }
            },
            "type": "scattergeo"
           }
          ],
          "scattergl": [
           {
            "marker": {
             "colorbar": {
              "outlinewidth": 0,
              "ticks": ""
             }
            },
            "type": "scattergl"
           }
          ],
          "scattermapbox": [
           {
            "marker": {
             "colorbar": {
              "outlinewidth": 0,
              "ticks": ""
             }
            },
            "type": "scattermapbox"
           }
          ],
          "scatterpolar": [
           {
            "marker": {
             "colorbar": {
              "outlinewidth": 0,
              "ticks": ""
             }
            },
            "type": "scatterpolar"
           }
          ],
          "scatterpolargl": [
           {
            "marker": {
             "colorbar": {
              "outlinewidth": 0,
              "ticks": ""
             }
            },
            "type": "scatterpolargl"
           }
          ],
          "scatterternary": [
           {
            "marker": {
             "colorbar": {
              "outlinewidth": 0,
              "ticks": ""
             }
            },
            "type": "scatterternary"
           }
          ],
          "surface": [
           {
            "colorbar": {
             "outlinewidth": 0,
             "ticks": ""
            },
            "colorscale": [
             [
              0,
              "#0d0887"
             ],
             [
              0.1111111111111111,
              "#46039f"
             ],
             [
              0.2222222222222222,
              "#7201a8"
             ],
             [
              0.3333333333333333,
              "#9c179e"
             ],
             [
              0.4444444444444444,
              "#bd3786"
             ],
             [
              0.5555555555555556,
              "#d8576b"
             ],
             [
              0.6666666666666666,
              "#ed7953"
             ],
             [
              0.7777777777777778,
              "#fb9f3a"
             ],
             [
              0.8888888888888888,
              "#fdca26"
             ],
             [
              1,
              "#f0f921"
             ]
            ],
            "type": "surface"
           }
          ],
          "table": [
           {
            "cells": {
             "fill": {
              "color": "#EBF0F8"
             },
             "line": {
              "color": "white"
             }
            },
            "header": {
             "fill": {
              "color": "#C8D4E3"
             },
             "line": {
              "color": "white"
             }
            },
            "type": "table"
           }
          ]
         },
         "layout": {
          "annotationdefaults": {
           "arrowcolor": "#2a3f5f",
           "arrowhead": 0,
           "arrowwidth": 1
          },
          "coloraxis": {
           "colorbar": {
            "outlinewidth": 0,
            "ticks": ""
           }
          },
          "colorscale": {
           "diverging": [
            [
             0,
             "#8e0152"
            ],
            [
             0.1,
             "#c51b7d"
            ],
            [
             0.2,
             "#de77ae"
            ],
            [
             0.3,
             "#f1b6da"
            ],
            [
             0.4,
             "#fde0ef"
            ],
            [
             0.5,
             "#f7f7f7"
            ],
            [
             0.6,
             "#e6f5d0"
            ],
            [
             0.7,
             "#b8e186"
            ],
            [
             0.8,
             "#7fbc41"
            ],
            [
             0.9,
             "#4d9221"
            ],
            [
             1,
             "#276419"
            ]
           ],
           "sequential": [
            [
             0,
             "#0d0887"
            ],
            [
             0.1111111111111111,
             "#46039f"
            ],
            [
             0.2222222222222222,
             "#7201a8"
            ],
            [
             0.3333333333333333,
             "#9c179e"
            ],
            [
             0.4444444444444444,
             "#bd3786"
            ],
            [
             0.5555555555555556,
             "#d8576b"
            ],
            [
             0.6666666666666666,
             "#ed7953"
            ],
            [
             0.7777777777777778,
             "#fb9f3a"
            ],
            [
             0.8888888888888888,
             "#fdca26"
            ],
            [
             1,
             "#f0f921"
            ]
           ],
           "sequentialminus": [
            [
             0,
             "#0d0887"
            ],
            [
             0.1111111111111111,
             "#46039f"
            ],
            [
             0.2222222222222222,
             "#7201a8"
            ],
            [
             0.3333333333333333,
             "#9c179e"
            ],
            [
             0.4444444444444444,
             "#bd3786"
            ],
            [
             0.5555555555555556,
             "#d8576b"
            ],
            [
             0.6666666666666666,
             "#ed7953"
            ],
            [
             0.7777777777777778,
             "#fb9f3a"
            ],
            [
             0.8888888888888888,
             "#fdca26"
            ],
            [
             1,
             "#f0f921"
            ]
           ]
          },
          "colorway": [
           "#636efa",
           "#EF553B",
           "#00cc96",
           "#ab63fa",
           "#FFA15A",
           "#19d3f3",
           "#FF6692",
           "#B6E880",
           "#FF97FF",
           "#FECB52"
          ],
          "font": {
           "color": "#2a3f5f"
          },
          "geo": {
           "bgcolor": "white",
           "lakecolor": "white",
           "landcolor": "#E5ECF6",
           "showlakes": true,
           "showland": true,
           "subunitcolor": "white"
          },
          "hoverlabel": {
           "align": "left"
          },
          "hovermode": "closest",
          "mapbox": {
           "style": "light"
          },
          "paper_bgcolor": "white",
          "plot_bgcolor": "#E5ECF6",
          "polar": {
           "angularaxis": {
            "gridcolor": "white",
            "linecolor": "white",
            "ticks": ""
           },
           "bgcolor": "#E5ECF6",
           "radialaxis": {
            "gridcolor": "white",
            "linecolor": "white",
            "ticks": ""
           }
          },
          "scene": {
           "xaxis": {
            "backgroundcolor": "#E5ECF6",
            "gridcolor": "white",
            "gridwidth": 2,
            "linecolor": "white",
            "showbackground": true,
            "ticks": "",
            "zerolinecolor": "white"
           },
           "yaxis": {
            "backgroundcolor": "#E5ECF6",
            "gridcolor": "white",
            "gridwidth": 2,
            "linecolor": "white",
            "showbackground": true,
            "ticks": "",
            "zerolinecolor": "white"
           },
           "zaxis": {
            "backgroundcolor": "#E5ECF6",
            "gridcolor": "white",
            "gridwidth": 2,
            "linecolor": "white",
            "showbackground": true,
            "ticks": "",
            "zerolinecolor": "white"
           }
          },
          "shapedefaults": {
           "line": {
            "color": "#2a3f5f"
           }
          },
          "ternary": {
           "aaxis": {
            "gridcolor": "white",
            "linecolor": "white",
            "ticks": ""
           },
           "baxis": {
            "gridcolor": "white",
            "linecolor": "white",
            "ticks": ""
           },
           "bgcolor": "#E5ECF6",
           "caxis": {
            "gridcolor": "white",
            "linecolor": "white",
            "ticks": ""
           }
          },
          "title": {
           "x": 0.05
          },
          "xaxis": {
           "automargin": true,
           "gridcolor": "white",
           "linecolor": "white",
           "ticks": "",
           "title": {
            "standoff": 15
           },
           "zerolinecolor": "white",
           "zerolinewidth": 2
          },
          "yaxis": {
           "automargin": true,
           "gridcolor": "white",
           "linecolor": "white",
           "ticks": "",
           "title": {
            "standoff": 15
           },
           "zerolinecolor": "white",
           "zerolinewidth": 2
          }
         }
        }
       }
      },
      "text/html": [
       "<div>                            <div id=\"55be4583-03ff-434c-a648-801977993f29\" class=\"plotly-graph-div\" style=\"height:525px; width:100%;\"></div>            <script type=\"text/javascript\">                require([\"plotly\"], function(Plotly) {                    window.PLOTLYENV=window.PLOTLYENV || {};                                    if (document.getElementById(\"55be4583-03ff-434c-a648-801977993f29\")) {                    Plotly.newPlot(                        \"55be4583-03ff-434c-a648-801977993f29\",                        [{\"mode\": \"lines\", \"name\": \"print\", \"type\": \"scatter\", \"x\": [5, 6, 7, 8, 9, 30, 31, 32, 33, 34, 35, 36, 37, 38, 39, 40, 41, 42, 43, 44, 45, 46, 47, 48, 49, 50, 51, 52, 53, 54, 55, 56, 57, 58, 59, 60, 61, 62, 63, 64, 65, 66, 67, 68, 69, 70, 71, 72, 73, 74, 75, 76, 77, 78, 79, 80, 81, 82, 83, 84, 85, 86, 87, 88, 89, 90, 91, 92, 93, 94, 95, 96, 97, 98, 99, 100, 101, 102, 103, 104, 105, 106, 107, 108, 109, 110, 111, 112, 113, 114, 115, 116, 117, 118, 119, 120, 121, 122, 123, 124, 125, 126, 127, 128, 129, 130, 131, 132, 133, 134, 135, 136, 137, 138, 139, 140, 141, 142, 143, 144, 146, 148, 156, 157, 158, 159, 160, 161, 162, 163, 164, 165, 166, 167, 168, 169, 170, 171, 173, 174, 175, 176, 177, 178, 179, 180, 181, 182, 184, 185, 186, 187, 188, 189, 190, 191, 192, 193, 194, 195, 196, 197, 198, 199, 200, 201, 202, 203, 204, 205, 206, 207, 208, 209, 210, 211, 212, 213, 214, 215, 216, 217, 218, 219, 220, 221, 222, 223, 224, 225, 226, 227, 228, 229, 230, 231, 232, 233, 234, 235, 236, 238, 239, 240, 241, 242, 243, 244, 245, 246, 247, 248, 249, 250, 251, 252, 253, 254, 255, 256, 257, 258, 259, 260, 261, 262, 263, 264, 265, 266, 267, 268, 269, 270, 271, 272, 273, 274, 275, 276, 277, 278, 279, 280, 281, 282], \"y\": [0.565990376593659, 0.5694470039716623, 0.5713360916083627, 0.5759622366553356, 0.5854901264578917, 0.6004798501486597, 0.6203621897155671, 0.6438538905442172, 0.6693129114346623, 0.6950336540925757, 0.7194821720948179, 0.7414713593294023, 0.7602761178216604, 0.7674519203058336, 0.7778183991778858, 0.7905619730070644, 0.8074237259677612, 0.8215615000332472, 0.8337701247358205, 0.8425005105764798, 0.851401184787365, 0.8616786774861303, 0.8679696832187391, 0.8687151866872074, 0.8726141570604391, 0.8749189887010154, 0.8788697410673703, 0.8768007038279535, 0.8746264109608448, 0.8663129245863638, 0.8614690637552443, 0.858871582121787, 0.8588219657213766, 0.8582031384892665, 0.859362905194277, 0.8619818637802572, 0.8627338189517777, 0.862791580685293, 0.8564866434369071, 0.8478353908861306, 0.836254259100863, 0.8238511592674569, 0.8126391758610554, 0.805787520911524, 0.8000687142236383, 0.797280728044089, 0.8047873551413838, 0.8061148866746991, 0.8099819339443336, 0.8120833901132888, 0.8121206844436235, 0.8086824875036559, 0.8050133516772578, 0.7966657136339208, 0.7899934701193557, 0.7833483551775977, 0.7813318125153766, 0.77956560229514, 0.7765500777466436, 0.7719273400392087, 0.7681843221703942, 0.7668163516566587, 0.7651513350034638, 0.7553540358082733, 0.7496737371636876, 0.7436061334980582, 0.7346738729209793, 0.7345997734575616, 0.7388826012706622, 0.7356848593631246, 0.7388954927451271, 0.7369117382304247, 0.7337794228095512, 0.7296239930970461, 0.7265266082159919, 0.7244563373775427, 0.724897298984973, 0.7268154652729987, 0.7282561936034878, 0.7285657865255817, 0.7308609807151475, 0.742085203333011, 0.7492772580369979, 0.7528431387740592, 0.7581326218438798, 0.762550063748476, 0.7771375002386394, 0.7836734791181359, 0.7955206553270435, 0.8053580050614761, 0.8066182779384738, 0.8128243549183639, 0.8196353700381972, 0.81727108502266, 0.8118683799666472, 0.8041003067673063, 0.7987238287823896, 0.7920865953519125, 0.7845319049560514, 0.7763049143563809, 0.7720928796165993, 0.7772860107138606, 0.7800692434604918, 0.7862393187044118, 0.7855053624122696, 0.7906736080850982, 0.7885145433053449, 0.7849564705011159, 0.7900642313749674, 0.7806601645745695, 0.7585058740441377, 0.7497404356957804, 0.7490825482505726, 0.7602935307249272, 0.7795140523061332, 0.7912087143116343, 0.7957622166876767, 0.7882084675656613, 0.7703779940099416, 0.7422463149461171, 0.7014368093683284, 0.6622337725476974, 0.6196976227317441, 0.6019064997257016, 0.598516661060962, 0.6166238638242016, 0.633917286296018, 0.6606331436655903, 0.6918835718752779, 0.7258842179829134, 0.7399111921851865, 0.7531486643325513, 0.7688494461554378, 0.7793412596171838, 0.7673575098762977, 0.7304873685770755, 0.699511261372176, 0.6808121948952754, 0.6766516942356464, 0.6722246904470952, 0.6708941554547708, 0.6748849112966753, 0.6852511866679731, 0.7071353687255081, 0.7326505915334686, 0.7611320466324099, 0.7618245988070067, 0.7622975000897572, 0.7594268839868519, 0.7674267405676076, 0.7792811692252051, 0.7881790931930035, 0.7998886498628003, 0.8067335428866315, 0.7916130789268181, 0.7832573472541506, 0.7733191367128669, 0.7713678985694316, 0.7856127816440672, 0.7756878278180153, 0.7720873857591146, 0.7727285337758638, 0.7767939889775448, 0.7852031213692015, 0.7931093934550761, 0.8060084339057647, 0.8200600263963013, 0.830574504671648, 0.8420758528926375, 0.8532265865493451, 0.8568996856689264, 0.8600567022366767, 0.8575772410974155, 0.8576727001855597, 0.8618110457777757, 0.8641000925211162, 0.8729834121611991, 0.8770676093183012, 0.8732416632351228, 0.8695941727299499, 0.8650630143389583, 0.8560042047963515, 0.8430303854416177, 0.8248103318987721, 0.808497798969337, 0.7939678365275836, 0.7905205317688604, 0.7811166910067593, 0.7694171032224248, 0.7555049876296711, 0.7405024149046167, 0.7281370210431353, 0.7279764224905625, 0.7325640712325094, 0.7344010546399985, 0.7319976543932447, 0.7225606595799892, 0.7057622178912807, 0.683551954047639, 0.6522631225279389, 0.6288605736194128, 0.610766313371543, 0.597618463088745, 0.589448225336116, 0.5864432437175541, 0.592779512790474, 0.6076069814027063, 0.625759562182578, 0.6415649891308943, 0.6527007127841167, 0.6765513239517835, 0.6951273215249074, 0.7234617052370209, 0.7539653950534708, 0.7881730120336679, 0.8065440637987353, 0.8193522030478705, 0.8214384709016053, 0.8169065031476808, 0.8000829281215693, 0.7858975739889491, 0.771899659296604, 0.7662090046511149, 0.7618523849457686, 0.7609336327345442, 0.7662494781007178, 0.7723204531175983, 0.7769390213796206, 0.7745605801357479, 0.7723830637371542, 0.7649676553556182, 0.7465429861134303, 0.721332555730953, 0.6986454670835124, 0.6924621207745103, 0.6949541719546861, 0.7052287806900381, 0.7209473575151205, 0.7386620419502566, 0.7543527032890658, 0.7641644637372618, 0.765345743902778, 0.757386830637223, 0.743358967228535, 0.7314539659450753, 0.7367243429309139]}, {\"cliponaxis\": false, \"mode\": \"lines\", \"name\": \"defects\", \"type\": \"scatter\", \"x\": [147, 149, 149, 150, 150, 151, 151, 152, 152, 153, 153, 154, 154, 156, 156, 157, 157, 158, 158, 158, 159, 159, 159, 160, 160, 160, 161, 161, 161, 162, 162, 162, 163, 164, 165, 166, 166, 167, 167, 168, 168, 169, 169, 170, 170, 171, 171, 172, 173, 173, 174, 174, 175, 175, 175, 176, 180, 181, 181, 181, 182, 182, 182, 182, 183, 183, 183, 184, 184, 185, 185, 186, 186, 186, 187, 187, 188, 188, 189, 189, 190, 190, 191, 191, 192, 192, 193, 194, 195, 195, 195, 196, 196, 197, 197, 197, 198, 198, 198, 199, 199, 199, 200, 200, 200, 201, 201, 201, 202, 203, 204, 204, 205, 208, 211, 212, 213, 214, 215, 216, 217, 218, 219, 220, 220, 221, 222, 223, 224, 224, 225, 226, 227, 228, 229, 230, 231, 232, 233, 234, 235, 236, 237, 238, 239, 240, 241, 242, 243, 244, 245, 246, 247, 248, 249, 250, 251, 252, 253, 254, 255, 256, 257, 258, 259, 260, 261, 262, 263, 264, 265, 266, 267, 268, 269, 270, 271, 272, 273, 274, 275, 276, 277, 278, 279, 280, 281, 282], \"y\": [0.6702457264957268, 0.6895833333333337, 0.7049139492753626, 0.7166419763056994, 0.7251718164082297, 0.7309078715668392, 0.7342545437654135, 0.7356162349878386, 0.7353973472179997, 0.7340022824397827, 0.7318354426370733, 0.7293012297937573, 0.7268040458937187, 0.7320863526570038, 0.7322705314009651, 0.7259344806763276, 0.7362273550724627, 0.7351622886473419, 0.7439613526570036, 0.7549630132850232, 0.7753004227053127, 0.77236111111111, 0.7782291666666655, 0.7725249094202886, 0.7805419685990327, 0.7811662137681149, 0.7885990338164239, 0.7964998490338153, 0.8052143719806752, 0.7987552838164241, 0.8020440821256027, 0.8030200785024145, 0.8042512077294676, 0.8062477355072454, 0.80748188405797, 0.8045252113526559, 0.8093568840579699, 0.8155359299516898, 0.8048686594202887, 0.8061148852656995, 0.804187801932366, 0.806249999999999, 0.8125150966183565, 0.8104649758454097, 0.8016123188405788, 0.779711654589371, 0.763076690821255, 0.7629362922705305, 0.7457752113526561, 0.739700332125603, 0.7395055857487913, 0.7402785326086948, 0.720975241545893, 0.7079929045893711, 0.7082495471014484, 0.7088564311594194, 0.712573218599033, 0.7006544384057963, 0.7037764190821247, 0.7008974939613519, 0.6997531702898544, 0.7033793780193228, 0.6964862620772939, 0.6992746074879219, 0.6960726147342987, 0.6937115036231876, 0.6801185084541054, 0.6623309178743954, 0.6420674818840573, 0.6240911835748786, 0.6127090881642504, 0.6076290760869556, 0.58493583937198, 0.5927272041062793, 0.5867149758454099, 0.5819859601449268, 0.5676977657004826, 0.5813503925120767, 0.597447916666666, 0.6026728562801925, 0.60653381642512, 0.6033242753623181, 0.6186216787439606, 0.6244640700483084, 0.6223792270531392, 0.6252264492753614, 0.6297856280193226, 0.6330480072463759, 0.6342376207729459, 0.639951690821255, 0.6321950483091778, 0.6373452596618349, 0.6447841183574871, 0.6422909118357477, 0.6351781400966177, 0.6446354166666657, 0.6471490036231876, 0.6541455314009654, 0.6563383152173905, 0.6661201690821247, 0.6565119263285015, 0.6562726449275353, 0.6579913949275353, 0.6634224033816416, 0.6634284420289845, 0.6660250603864725, 0.66003170289855, 0.6485620471014485, 0.6380314009661826, 0.6500837862318831, 0.6479838466183565, 0.6425649154589362, 0.6657027475845404, 0.6662009359903373, 0.6637182971014483, 0.6778124999999989, 0.6889032306763273, 0.7084759963768105, 0.7197003321256027, 0.7345259661835736, 0.7442829106280181, 0.7596927838164239, 0.7722010869565205, 0.7856446256038635, 0.790779740338163, 0.8112975543478248, 0.834060235507245, 0.8529445954106264, 0.8559057971014479, 0.8618991545893706, 0.8587484903381628, 0.8639153079710132, 0.8790202294685977, 0.8840504227053126, 0.8802581521739118, 0.8830819746376799, 0.8902279589371968, 0.8742406400966171, 0.8762439613526559, 0.8768568840579698, 0.8767678140096605, 0.8799305555555542, 0.8645682367149747, 0.8654083635265688, 0.8686896135265689, 0.8708439009661825, 0.8719738828502405, 0.8730978260869553, 0.8718923611111098, 0.8713737922705302, 0.8707435084541052, 0.8690700483091776, 0.8690745772946848, 0.8722788345410615, 0.8758227657004819, 0.8800837862318828, 0.8842980072463756, 0.883207276570047, 0.8873890398550712, 0.8856997282608682, 0.8891243961352644, 0.891013737922704, 0.8914387077294673, 0.8916727053140083, 0.8940594806763272, 0.9006665157004818, 0.9023905495169071, 0.9027581521739118, 0.9005049818840568, 0.8973497886473419, 0.8911020531400954, 0.8859805253623178, 0.8831355676328492, 0.8794580314009651, 0.8754838466183562, 0.8734956219806752, 0.8703842670011149, 0.8668817855604543, 0.8628937578122363, 0.8583257639100034, 0.8530833840072974, 0.8470721982576607, 0.8401977868146351, 0.8323657298317628, 0.8234816074625861, 0.813450999860647, 0.8021794871794874, 0.7895726495726497]}],                        {\"template\": {\"data\": {\"bar\": [{\"error_x\": {\"color\": \"#2a3f5f\"}, \"error_y\": {\"color\": \"#2a3f5f\"}, \"marker\": {\"line\": {\"color\": \"#E5ECF6\", \"width\": 0.5}}, \"type\": \"bar\"}], \"barpolar\": [{\"marker\": {\"line\": {\"color\": \"#E5ECF6\", \"width\": 0.5}}, \"type\": \"barpolar\"}], \"carpet\": [{\"aaxis\": {\"endlinecolor\": \"#2a3f5f\", \"gridcolor\": \"white\", \"linecolor\": \"white\", \"minorgridcolor\": \"white\", \"startlinecolor\": \"#2a3f5f\"}, \"baxis\": {\"endlinecolor\": \"#2a3f5f\", \"gridcolor\": \"white\", \"linecolor\": \"white\", \"minorgridcolor\": \"white\", \"startlinecolor\": \"#2a3f5f\"}, \"type\": \"carpet\"}], \"choropleth\": [{\"colorbar\": {\"outlinewidth\": 0, \"ticks\": \"\"}, \"type\": \"choropleth\"}], \"contour\": [{\"colorbar\": {\"outlinewidth\": 0, \"ticks\": \"\"}, \"colorscale\": [[0.0, \"#0d0887\"], [0.1111111111111111, \"#46039f\"], [0.2222222222222222, \"#7201a8\"], [0.3333333333333333, \"#9c179e\"], [0.4444444444444444, \"#bd3786\"], [0.5555555555555556, \"#d8576b\"], [0.6666666666666666, \"#ed7953\"], [0.7777777777777778, \"#fb9f3a\"], [0.8888888888888888, \"#fdca26\"], [1.0, \"#f0f921\"]], \"type\": \"contour\"}], \"contourcarpet\": [{\"colorbar\": {\"outlinewidth\": 0, \"ticks\": \"\"}, \"type\": \"contourcarpet\"}], \"heatmap\": [{\"colorbar\": {\"outlinewidth\": 0, \"ticks\": \"\"}, \"colorscale\": [[0.0, \"#0d0887\"], [0.1111111111111111, \"#46039f\"], [0.2222222222222222, \"#7201a8\"], [0.3333333333333333, \"#9c179e\"], [0.4444444444444444, \"#bd3786\"], [0.5555555555555556, \"#d8576b\"], [0.6666666666666666, \"#ed7953\"], [0.7777777777777778, \"#fb9f3a\"], [0.8888888888888888, \"#fdca26\"], [1.0, \"#f0f921\"]], \"type\": \"heatmap\"}], \"heatmapgl\": [{\"colorbar\": {\"outlinewidth\": 0, \"ticks\": \"\"}, \"colorscale\": [[0.0, \"#0d0887\"], [0.1111111111111111, \"#46039f\"], [0.2222222222222222, \"#7201a8\"], [0.3333333333333333, \"#9c179e\"], [0.4444444444444444, \"#bd3786\"], [0.5555555555555556, \"#d8576b\"], [0.6666666666666666, \"#ed7953\"], [0.7777777777777778, \"#fb9f3a\"], [0.8888888888888888, \"#fdca26\"], [1.0, \"#f0f921\"]], \"type\": \"heatmapgl\"}], \"histogram\": [{\"marker\": {\"colorbar\": {\"outlinewidth\": 0, \"ticks\": \"\"}}, \"type\": \"histogram\"}], \"histogram2d\": [{\"colorbar\": {\"outlinewidth\": 0, \"ticks\": \"\"}, \"colorscale\": [[0.0, \"#0d0887\"], [0.1111111111111111, \"#46039f\"], [0.2222222222222222, \"#7201a8\"], [0.3333333333333333, \"#9c179e\"], [0.4444444444444444, \"#bd3786\"], [0.5555555555555556, \"#d8576b\"], [0.6666666666666666, \"#ed7953\"], [0.7777777777777778, \"#fb9f3a\"], [0.8888888888888888, \"#fdca26\"], [1.0, \"#f0f921\"]], \"type\": \"histogram2d\"}], \"histogram2dcontour\": [{\"colorbar\": {\"outlinewidth\": 0, \"ticks\": \"\"}, \"colorscale\": [[0.0, \"#0d0887\"], [0.1111111111111111, \"#46039f\"], [0.2222222222222222, \"#7201a8\"], [0.3333333333333333, \"#9c179e\"], [0.4444444444444444, \"#bd3786\"], [0.5555555555555556, \"#d8576b\"], [0.6666666666666666, \"#ed7953\"], [0.7777777777777778, \"#fb9f3a\"], [0.8888888888888888, \"#fdca26\"], [1.0, \"#f0f921\"]], \"type\": \"histogram2dcontour\"}], \"mesh3d\": [{\"colorbar\": {\"outlinewidth\": 0, \"ticks\": \"\"}, \"type\": \"mesh3d\"}], \"parcoords\": [{\"line\": {\"colorbar\": {\"outlinewidth\": 0, \"ticks\": \"\"}}, \"type\": \"parcoords\"}], \"pie\": [{\"automargin\": true, \"type\": \"pie\"}], \"scatter\": [{\"marker\": {\"colorbar\": {\"outlinewidth\": 0, \"ticks\": \"\"}}, \"type\": \"scatter\"}], \"scatter3d\": [{\"line\": {\"colorbar\": {\"outlinewidth\": 0, \"ticks\": \"\"}}, \"marker\": {\"colorbar\": {\"outlinewidth\": 0, \"ticks\": \"\"}}, \"type\": \"scatter3d\"}], \"scattercarpet\": [{\"marker\": {\"colorbar\": {\"outlinewidth\": 0, \"ticks\": \"\"}}, \"type\": \"scattercarpet\"}], \"scattergeo\": [{\"marker\": {\"colorbar\": {\"outlinewidth\": 0, \"ticks\": \"\"}}, \"type\": \"scattergeo\"}], \"scattergl\": [{\"marker\": {\"colorbar\": {\"outlinewidth\": 0, \"ticks\": \"\"}}, \"type\": \"scattergl\"}], \"scattermapbox\": [{\"marker\": {\"colorbar\": {\"outlinewidth\": 0, \"ticks\": \"\"}}, \"type\": \"scattermapbox\"}], \"scatterpolar\": [{\"marker\": {\"colorbar\": {\"outlinewidth\": 0, \"ticks\": \"\"}}, \"type\": \"scatterpolar\"}], \"scatterpolargl\": [{\"marker\": {\"colorbar\": {\"outlinewidth\": 0, \"ticks\": \"\"}}, \"type\": \"scatterpolargl\"}], \"scatterternary\": [{\"marker\": {\"colorbar\": {\"outlinewidth\": 0, \"ticks\": \"\"}}, \"type\": \"scatterternary\"}], \"surface\": [{\"colorbar\": {\"outlinewidth\": 0, \"ticks\": \"\"}, \"colorscale\": [[0.0, \"#0d0887\"], [0.1111111111111111, \"#46039f\"], [0.2222222222222222, \"#7201a8\"], [0.3333333333333333, \"#9c179e\"], [0.4444444444444444, \"#bd3786\"], [0.5555555555555556, \"#d8576b\"], [0.6666666666666666, \"#ed7953\"], [0.7777777777777778, \"#fb9f3a\"], [0.8888888888888888, \"#fdca26\"], [1.0, \"#f0f921\"]], \"type\": \"surface\"}], \"table\": [{\"cells\": {\"fill\": {\"color\": \"#EBF0F8\"}, \"line\": {\"color\": \"white\"}}, \"header\": {\"fill\": {\"color\": \"#C8D4E3\"}, \"line\": {\"color\": \"white\"}}, \"type\": \"table\"}]}, \"layout\": {\"annotationdefaults\": {\"arrowcolor\": \"#2a3f5f\", \"arrowhead\": 0, \"arrowwidth\": 1}, \"coloraxis\": {\"colorbar\": {\"outlinewidth\": 0, \"ticks\": \"\"}}, \"colorscale\": {\"diverging\": [[0, \"#8e0152\"], [0.1, \"#c51b7d\"], [0.2, \"#de77ae\"], [0.3, \"#f1b6da\"], [0.4, \"#fde0ef\"], [0.5, \"#f7f7f7\"], [0.6, \"#e6f5d0\"], [0.7, \"#b8e186\"], [0.8, \"#7fbc41\"], [0.9, \"#4d9221\"], [1, \"#276419\"]], \"sequential\": [[0.0, \"#0d0887\"], [0.1111111111111111, \"#46039f\"], [0.2222222222222222, \"#7201a8\"], [0.3333333333333333, \"#9c179e\"], [0.4444444444444444, \"#bd3786\"], [0.5555555555555556, \"#d8576b\"], [0.6666666666666666, \"#ed7953\"], [0.7777777777777778, \"#fb9f3a\"], [0.8888888888888888, \"#fdca26\"], [1.0, \"#f0f921\"]], \"sequentialminus\": [[0.0, \"#0d0887\"], [0.1111111111111111, \"#46039f\"], [0.2222222222222222, \"#7201a8\"], [0.3333333333333333, \"#9c179e\"], [0.4444444444444444, \"#bd3786\"], [0.5555555555555556, \"#d8576b\"], [0.6666666666666666, \"#ed7953\"], [0.7777777777777778, \"#fb9f3a\"], [0.8888888888888888, \"#fdca26\"], [1.0, \"#f0f921\"]]}, \"colorway\": [\"#636efa\", \"#EF553B\", \"#00cc96\", \"#ab63fa\", \"#FFA15A\", \"#19d3f3\", \"#FF6692\", \"#B6E880\", \"#FF97FF\", \"#FECB52\"], \"font\": {\"color\": \"#2a3f5f\"}, \"geo\": {\"bgcolor\": \"white\", \"lakecolor\": \"white\", \"landcolor\": \"#E5ECF6\", \"showlakes\": true, \"showland\": true, \"subunitcolor\": \"white\"}, \"hoverlabel\": {\"align\": \"left\"}, \"hovermode\": \"closest\", \"mapbox\": {\"style\": \"light\"}, \"paper_bgcolor\": \"white\", \"plot_bgcolor\": \"#E5ECF6\", \"polar\": {\"angularaxis\": {\"gridcolor\": \"white\", \"linecolor\": \"white\", \"ticks\": \"\"}, \"bgcolor\": \"#E5ECF6\", \"radialaxis\": {\"gridcolor\": \"white\", \"linecolor\": \"white\", \"ticks\": \"\"}}, \"scene\": {\"xaxis\": {\"backgroundcolor\": \"#E5ECF6\", \"gridcolor\": \"white\", \"gridwidth\": 2, \"linecolor\": \"white\", \"showbackground\": true, \"ticks\": \"\", \"zerolinecolor\": \"white\"}, \"yaxis\": {\"backgroundcolor\": \"#E5ECF6\", \"gridcolor\": \"white\", \"gridwidth\": 2, \"linecolor\": \"white\", \"showbackground\": true, \"ticks\": \"\", \"zerolinecolor\": \"white\"}, \"zaxis\": {\"backgroundcolor\": \"#E5ECF6\", \"gridcolor\": \"white\", \"gridwidth\": 2, \"linecolor\": \"white\", \"showbackground\": true, \"ticks\": \"\", \"zerolinecolor\": \"white\"}}, \"shapedefaults\": {\"line\": {\"color\": \"#2a3f5f\"}}, \"ternary\": {\"aaxis\": {\"gridcolor\": \"white\", \"linecolor\": \"white\", \"ticks\": \"\"}, \"baxis\": {\"gridcolor\": \"white\", \"linecolor\": \"white\", \"ticks\": \"\"}, \"bgcolor\": \"#E5ECF6\", \"caxis\": {\"gridcolor\": \"white\", \"linecolor\": \"white\", \"ticks\": \"\"}}, \"title\": {\"x\": 0.05}, \"xaxis\": {\"automargin\": true, \"gridcolor\": \"white\", \"linecolor\": \"white\", \"ticks\": \"\", \"title\": {\"standoff\": 15}, \"zerolinecolor\": \"white\", \"zerolinewidth\": 2}, \"yaxis\": {\"automargin\": true, \"gridcolor\": \"white\", \"linecolor\": \"white\", \"ticks\": \"\", \"title\": {\"standoff\": 15}, \"zerolinecolor\": \"white\", \"zerolinewidth\": 2}}}},                        {\"responsive\": true}                    ).then(function(){\n",
       "                            \n",
       "var gd = document.getElementById('55be4583-03ff-434c-a648-801977993f29');\n",
       "var x = new MutationObserver(function (mutations, observer) {{\n",
       "        var display = window.getComputedStyle(gd).display;\n",
       "        if (!display || display === 'none') {{\n",
       "            console.log([gd, 'removed!']);\n",
       "            Plotly.purge(gd);\n",
       "            observer.disconnect();\n",
       "        }}\n",
       "}});\n",
       "\n",
       "// Listen for the removal of the full notebook cells\n",
       "var notebookContainer = gd.closest('#notebook-container');\n",
       "if (notebookContainer) {{\n",
       "    x.observe(notebookContainer, {childList: true});\n",
       "}}\n",
       "\n",
       "// Listen for the clearing of the current output cell\n",
       "var outputEl = gd.closest('.output');\n",
       "if (outputEl) {{\n",
       "    x.observe(outputEl, {childList: true});\n",
       "}}\n",
       "\n",
       "                        })                };                });            </script>        </div>"
      ]
     },
     "metadata": {},
     "output_type": "display_data"
    },
    {
     "data": {
      "text/plain": [
       "frame_id\n",
       "5           NaN\n",
       "6           NaN\n",
       "7           NaN\n",
       "8           NaN\n",
       "9           NaN\n",
       "         ...   \n",
       "278   -0.046875\n",
       "279   -0.054688\n",
       "280   -0.085938\n",
       "281   -0.085938\n",
       "282   -0.031250\n",
       "Name: detection_scores, Length: 256, dtype: float64"
      ]
     },
     "execution_count": 12,
     "metadata": {},
     "output_type": "execute_result"
    }
   ],
   "source": [
    "import plotly.graph_objects as go\n",
    "\n",
    "fig = go.Figure()\n",
    "\n",
    "print_trace = g[g['label'] == 'print']\n",
    "fail_trace = fail_df.reset_index()\n",
    "\n",
    "\n",
    "print_rescaled = print_trace['detection_scores'] - print_trace['detection_scores'].min()\n",
    "print_rescaled = print_rescaled / print_trace['detection_scores'].max()\n",
    "\n",
    "fig.add_trace(go.Scatter(\n",
    "    x=print_trace['frame_id'], \n",
    "    y=signal.savgol_filter(print_trace['detection_scores'],int(framerate), 6),\n",
    "    fill=None,\n",
    "    mode='lines',\n",
    "    name='print'\n",
    "\n",
    "))\n",
    "\n",
    "y_rescaled = fail_trace['detection_scores'] - fail_trace['detection_scores'].min()\n",
    "y_rescaled = y_rescaled / fail_trace['detection_scores'].max()\n",
    "\n",
    "fig.add_trace(go.Scatter(\n",
    "    x=fail_trace['frame_id'], \n",
    "    y=signal.savgol_filter(\n",
    "        fail_trace['detection_scores'],     int(framerate), 3),\n",
    "    fill=None,\n",
    "    mode='lines',\n",
    "    cliponaxis=False,\n",
    "    name='defects',    \n",
    "))\n",
    "\n",
    "fig.update_layout(\n",
    "    overwrite=True,\n",
    "    title_text=\"Print Health Scores (Absolute)\"\n",
    "    xaxis_title='Time',\n",
    "    yaxis_title='Health Score'\n",
    ")\n",
    "\n",
    "\n",
    "fig.show()\n",
    "print_trace.groupby('frame_id')['detection_scores'].sum() - fail_trace.groupby('frame_id')['detection_scores'].sum()"
   ]
  },
  {
   "cell_type": "code",
   "execution_count": null,
   "metadata": {},
   "outputs": [],
   "source": [
    "import plotly.graph_objects as go\n",
    "\n",
    "split_df = pd.concat({'fail': fail_trace, 'print': print_trace}).reset_index()\n",
    "\n",
    "mask = split_df.level_0 == 'fail'\n",
    "\n",
    "y = split_df[~mask].groupby('timecode')['detection_scores'].sum().subtract(\n",
    "    split_df[mask].groupby('timecode')['detection_scores'].sum(),\n",
    "    fill_value=0\n",
    ")\n",
    "# y['timecode'] = y.apply(lambda x: frames_to_timecode(x.name), axis=1)\n",
    "#split_df.loc[mask, 'detection_scores'] = -split_df[mask]['detection_scores'] \n",
    "fig = go.Figure(go.Waterfall(\n",
    "    orientation = \"v\",\n",
    "    x = y.index,\n",
    "    y =  y,\n",
    "    #color='level_0'\n",
    "    #selected_points = 1\n",
    "\n",
    "))\n",
    "\n",
    "alert_offset = int(framerate/2)\n",
    "fig.update_layout(\n",
    "    overwrite=True,\n",
    "    title_text=\"Print Health Over Time\",\n",
    "    xaxis_title='Time',\n",
    "    yaxis_title='Health Score'\n",
    ")\n",
    "\n",
    "fig.update_xaxes(\n",
    "    nticks=20\n",
    ")\n",
    "\n",
    "fig.add_annotation(\n",
    "    x=y[y < 0].index[alert_offset],\n",
    "    y=1,\n",
    "    text=\"Print Nanny alerts you at this time\",\n",
    "    showarrow=True,\n",
    "    arrowhead=1\n",
    ")\n",
    "\n",
    "fig.add_vrect(\n",
    "    x0=y[y < 0].index[alert_offset], x1=y[y < 0].index[-1],\n",
    "    fillcolor=\"LightSalmon\", opacity=0.5,\n",
    "    layer=\"below\", line_width=0,\n",
    ")\n",
    "\n",
    "fig.show()"
   ]
  },
  {
   "cell_type": "code",
   "execution_count": null,
   "metadata": {},
   "outputs": [],
   "source": [
    "y[y<0].sum()"
   ]
  },
  {
   "cell_type": "code",
   "execution_count": null,
   "metadata": {},
   "outputs": [],
   "source": [
    "y[y>0].sum()"
   ]
  },
  {
   "cell_type": "code",
   "execution_count": null,
   "metadata": {},
   "outputs": [],
   "source": [
    "multi_df.to_csv()"
   ]
  }
 ],
 "metadata": {
  "kernelspec": {
   "display_name": "Django Shell-Plus",
   "language": "python",
   "name": "django_extensions"
  },
  "language_info": {
   "codemirror_mode": {
    "name": "ipython",
    "version": 3
   },
   "file_extension": ".py",
   "mimetype": "text/x-python",
   "name": "python",
   "nbconvert_exporter": "python",
   "pygments_lexer": "ipython3",
   "version": "3.8.6"
  }
 },
 "nbformat": 4,
 "nbformat_minor": 4
}
